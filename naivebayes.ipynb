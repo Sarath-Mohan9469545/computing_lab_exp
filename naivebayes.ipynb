{
  "nbformat": 4,
  "nbformat_minor": 0,
  "metadata": {
    "colab": {
      "name": "naivebayes.ipynb",
      "provenance": [],
      "toc_visible": true,
      "authorship_tag": "ABX9TyMBEiizGUNNQjGaw0XSE2g3",
      "include_colab_link": true
    },
    "kernelspec": {
      "name": "python3",
      "display_name": "Python 3"
    },
    "language_info": {
      "name": "python"
    }
  },
  "cells": [
    {
      "cell_type": "markdown",
      "metadata": {
        "id": "view-in-github",
        "colab_type": "text"
      },
      "source": [
        "<a href=\"https://colab.research.google.com/github/Sarath-Mohan9469545/computing_lab_exp/blob/main/naivebayes.ipynb\" target=\"_parent\"><img src=\"https://colab.research.google.com/assets/colab-badge.svg\" alt=\"Open In Colab\"/></a>"
      ]
    },
    {
      "cell_type": "code",
      "execution_count": null,
      "metadata": {
        "id": "TBtKsw5bJ_N_"
      },
      "outputs": [],
      "source": [
        "from sklearn.naive_bayes import GaussianNB"
      ]
    },
    {
      "cell_type": "code",
      "source": [
        "import pandas as pd\n",
        "data=pd.read_csv(\"/content/heart_2020_cleaned.csv\")\n",
        "print(data)\n"
      ],
      "metadata": {
        "id": "QLMFsrjQV2gZ",
        "colab": {
          "base_uri": "https://localhost:8080/"
        },
        "outputId": "7671c2df-3bb4-4ac6-cc84-02904a3e5c09"
      },
      "execution_count": null,
      "outputs": [
        {
          "output_type": "stream",
          "name": "stdout",
          "text": [
            "       HeartDisease    BMI Smoking AlcoholDrinking Stroke  PhysicalHealth  \\\n",
            "0                No  16.60     Yes              No     No             3.0   \n",
            "1                No  20.34      No              No    Yes             0.0   \n",
            "2                No  26.58     Yes              No     No            20.0   \n",
            "3                No  24.21      No              No     No             0.0   \n",
            "4                No  23.71      No              No     No            28.0   \n",
            "...             ...    ...     ...             ...    ...             ...   \n",
            "319790          Yes  27.41     Yes              No     No             7.0   \n",
            "319791           No  29.84     Yes              No     No             0.0   \n",
            "319792           No  24.24      No              No     No             0.0   \n",
            "319793           No  32.81      No              No     No             0.0   \n",
            "319794           No  46.56      No              No     No             0.0   \n",
            "\n",
            "        MentalHealth DiffWalking     Sex  AgeCategory      Race Diabetic  \\\n",
            "0               30.0          No  Female        55-59     White      Yes   \n",
            "1                0.0          No  Female  80 or older     White       No   \n",
            "2               30.0          No    Male        65-69     White      Yes   \n",
            "3                0.0          No  Female        75-79     White       No   \n",
            "4                0.0         Yes  Female        40-44     White       No   \n",
            "...              ...         ...     ...          ...       ...      ...   \n",
            "319790           0.0         Yes    Male        60-64  Hispanic      Yes   \n",
            "319791           0.0          No    Male        35-39  Hispanic       No   \n",
            "319792           0.0          No  Female        45-49  Hispanic       No   \n",
            "319793           0.0          No  Female        25-29  Hispanic       No   \n",
            "319794           0.0          No  Female  80 or older  Hispanic       No   \n",
            "\n",
            "       PhysicalActivity  GenHealth  SleepTime Asthma KidneyDisease SkinCancer  \n",
            "0                   Yes  Very good        5.0    Yes            No        Yes  \n",
            "1                   Yes  Very good        7.0     No            No         No  \n",
            "2                   Yes       Fair        8.0    Yes            No         No  \n",
            "3                    No       Good        6.0     No            No        Yes  \n",
            "4                   Yes  Very good        8.0     No            No         No  \n",
            "...                 ...        ...        ...    ...           ...        ...  \n",
            "319790               No       Fair        6.0    Yes            No         No  \n",
            "319791              Yes  Very good        5.0    Yes            No         No  \n",
            "319792              Yes       Good        6.0     No            No         No  \n",
            "319793               No       Good       12.0     No            No         No  \n",
            "319794              Yes       Good        8.0     No            No         No  \n",
            "\n",
            "[319795 rows x 18 columns]\n"
          ]
        }
      ]
    },
    {
      "cell_type": "code",
      "source": [
        "y=data[\"HeartDisease\"]\n",
        "x=data[[\"BMI\",\"Smoking\",\"AlcoholDrinking\",\"Stroke\",\"PhysicalHealth\",\"MentalHealth\",\"DiffWalking\",\"Sex\",\"AgeCategory\",\"Race\",\"Diabetic\",\"PhysicalActivity\",\"GenHealth\",\"SleepTime\",\"Asthma\",\"KidneyDisease\",\"SkinCancer\"]]\n",
        "from sklearn import preprocessing\n",
        "le = preprocessing.LabelEncoder()\n",
        "x[\"Smoking\"]=le.fit_transform(x[\"Smoking\"])\n",
        "x[\"Sex\"]=le.fit_transform(x[\"Sex\"])\n",
        "x[\"Race\"]=le.fit_transform(x[\"Race\"])\n",
        "x[\"GenHealth\"]=le.fit_transform(x[\"GenHealth\"])\n",
        "x[\"Asthma\"]=le.fit_transform(x[\"Asthma\"])\n",
        "x[\"KidneyDisease\"]=le.fit_transform(x[\"KidneyDisease\"])\n",
        "x[\"SkinCancer\"]=le.fit_transform(x[\"SkinCancer\"])\n",
        "x[\"PhysicalActivity\"]=le.fit_transform(x[\"PhysicalActivity\"])\n",
        "x[\"DiffWalking\"]=le.fit_transform(x[\"DiffWalking\"])\n",
        "x[\"Stroke\"]=le.fit_transform(x[\"Stroke\"])\n",
        "x[\"AlcoholDrinking\"]=le.fit_transform(x[\"AlcoholDrinking\"])\n",
        "x[\"Diabetic\"]=le.fit_transform(x[\"Diabetic\"])\n",
        "x[\"AgeCategory\"]=le.fit_transform(x[\"AgeCategory\"])\n",
        "print(len(x))\n",
        "print(len(y))\n",
        "print(x)\n",
        "\n"
      ],
      "metadata": {
        "colab": {
          "base_uri": "https://localhost:8080/"
        },
        "id": "3uVsb5TYfTNM",
        "outputId": "e15bee2c-78eb-4ef3-e63c-6df818dfcaa2"
      },
      "execution_count": null,
      "outputs": [
        {
          "output_type": "stream",
          "name": "stderr",
          "text": [
            "/usr/local/lib/python3.7/dist-packages/ipykernel_launcher.py:5: SettingWithCopyWarning: \n",
            "A value is trying to be set on a copy of a slice from a DataFrame.\n",
            "Try using .loc[row_indexer,col_indexer] = value instead\n",
            "\n",
            "See the caveats in the documentation: https://pandas.pydata.org/pandas-docs/stable/user_guide/indexing.html#returning-a-view-versus-a-copy\n",
            "  \"\"\"\n",
            "/usr/local/lib/python3.7/dist-packages/ipykernel_launcher.py:6: SettingWithCopyWarning: \n",
            "A value is trying to be set on a copy of a slice from a DataFrame.\n",
            "Try using .loc[row_indexer,col_indexer] = value instead\n",
            "\n",
            "See the caveats in the documentation: https://pandas.pydata.org/pandas-docs/stable/user_guide/indexing.html#returning-a-view-versus-a-copy\n",
            "  \n",
            "/usr/local/lib/python3.7/dist-packages/ipykernel_launcher.py:7: SettingWithCopyWarning: \n",
            "A value is trying to be set on a copy of a slice from a DataFrame.\n",
            "Try using .loc[row_indexer,col_indexer] = value instead\n",
            "\n",
            "See the caveats in the documentation: https://pandas.pydata.org/pandas-docs/stable/user_guide/indexing.html#returning-a-view-versus-a-copy\n",
            "  import sys\n",
            "/usr/local/lib/python3.7/dist-packages/ipykernel_launcher.py:8: SettingWithCopyWarning: \n",
            "A value is trying to be set on a copy of a slice from a DataFrame.\n",
            "Try using .loc[row_indexer,col_indexer] = value instead\n",
            "\n",
            "See the caveats in the documentation: https://pandas.pydata.org/pandas-docs/stable/user_guide/indexing.html#returning-a-view-versus-a-copy\n",
            "  \n",
            "/usr/local/lib/python3.7/dist-packages/ipykernel_launcher.py:9: SettingWithCopyWarning: \n",
            "A value is trying to be set on a copy of a slice from a DataFrame.\n",
            "Try using .loc[row_indexer,col_indexer] = value instead\n",
            "\n",
            "See the caveats in the documentation: https://pandas.pydata.org/pandas-docs/stable/user_guide/indexing.html#returning-a-view-versus-a-copy\n",
            "  if __name__ == '__main__':\n",
            "/usr/local/lib/python3.7/dist-packages/ipykernel_launcher.py:10: SettingWithCopyWarning: \n",
            "A value is trying to be set on a copy of a slice from a DataFrame.\n",
            "Try using .loc[row_indexer,col_indexer] = value instead\n",
            "\n",
            "See the caveats in the documentation: https://pandas.pydata.org/pandas-docs/stable/user_guide/indexing.html#returning-a-view-versus-a-copy\n",
            "  # Remove the CWD from sys.path while we load stuff.\n",
            "/usr/local/lib/python3.7/dist-packages/ipykernel_launcher.py:11: SettingWithCopyWarning: \n",
            "A value is trying to be set on a copy of a slice from a DataFrame.\n",
            "Try using .loc[row_indexer,col_indexer] = value instead\n",
            "\n",
            "See the caveats in the documentation: https://pandas.pydata.org/pandas-docs/stable/user_guide/indexing.html#returning-a-view-versus-a-copy\n",
            "  # This is added back by InteractiveShellApp.init_path()\n",
            "/usr/local/lib/python3.7/dist-packages/ipykernel_launcher.py:12: SettingWithCopyWarning: \n",
            "A value is trying to be set on a copy of a slice from a DataFrame.\n",
            "Try using .loc[row_indexer,col_indexer] = value instead\n",
            "\n",
            "See the caveats in the documentation: https://pandas.pydata.org/pandas-docs/stable/user_guide/indexing.html#returning-a-view-versus-a-copy\n",
            "  if sys.path[0] == '':\n",
            "/usr/local/lib/python3.7/dist-packages/ipykernel_launcher.py:13: SettingWithCopyWarning: \n",
            "A value is trying to be set on a copy of a slice from a DataFrame.\n",
            "Try using .loc[row_indexer,col_indexer] = value instead\n",
            "\n",
            "See the caveats in the documentation: https://pandas.pydata.org/pandas-docs/stable/user_guide/indexing.html#returning-a-view-versus-a-copy\n",
            "  del sys.path[0]\n",
            "/usr/local/lib/python3.7/dist-packages/ipykernel_launcher.py:14: SettingWithCopyWarning: \n",
            "A value is trying to be set on a copy of a slice from a DataFrame.\n",
            "Try using .loc[row_indexer,col_indexer] = value instead\n",
            "\n",
            "See the caveats in the documentation: https://pandas.pydata.org/pandas-docs/stable/user_guide/indexing.html#returning-a-view-versus-a-copy\n",
            "  \n",
            "/usr/local/lib/python3.7/dist-packages/ipykernel_launcher.py:15: SettingWithCopyWarning: \n",
            "A value is trying to be set on a copy of a slice from a DataFrame.\n",
            "Try using .loc[row_indexer,col_indexer] = value instead\n",
            "\n",
            "See the caveats in the documentation: https://pandas.pydata.org/pandas-docs/stable/user_guide/indexing.html#returning-a-view-versus-a-copy\n",
            "  from ipykernel import kernelapp as app\n",
            "/usr/local/lib/python3.7/dist-packages/ipykernel_launcher.py:16: SettingWithCopyWarning: \n",
            "A value is trying to be set on a copy of a slice from a DataFrame.\n",
            "Try using .loc[row_indexer,col_indexer] = value instead\n",
            "\n",
            "See the caveats in the documentation: https://pandas.pydata.org/pandas-docs/stable/user_guide/indexing.html#returning-a-view-versus-a-copy\n",
            "  app.launch_new_instance()\n"
          ]
        },
        {
          "output_type": "stream",
          "name": "stdout",
          "text": [
            "319795\n",
            "319795\n",
            "          BMI  Smoking  AlcoholDrinking  Stroke  PhysicalHealth  MentalHealth  \\\n",
            "0       16.60        1                0       0             3.0          30.0   \n",
            "1       20.34        0                0       1             0.0           0.0   \n",
            "2       26.58        1                0       0            20.0          30.0   \n",
            "3       24.21        0                0       0             0.0           0.0   \n",
            "4       23.71        0                0       0            28.0           0.0   \n",
            "...       ...      ...              ...     ...             ...           ...   \n",
            "319790  27.41        1                0       0             7.0           0.0   \n",
            "319791  29.84        1                0       0             0.0           0.0   \n",
            "319792  24.24        0                0       0             0.0           0.0   \n",
            "319793  32.81        0                0       0             0.0           0.0   \n",
            "319794  46.56        0                0       0             0.0           0.0   \n",
            "\n",
            "        DiffWalking  Sex  AgeCategory  Race  Diabetic  PhysicalActivity  \\\n",
            "0                 0    0            7     5         2                 1   \n",
            "1                 0    0           12     5         0                 1   \n",
            "2                 0    1            9     5         2                 1   \n",
            "3                 0    0           11     5         0                 0   \n",
            "4                 1    0            4     5         0                 1   \n",
            "...             ...  ...          ...   ...       ...               ...   \n",
            "319790            1    1            8     3         2                 0   \n",
            "319791            0    1            3     3         0                 1   \n",
            "319792            0    0            5     3         0                 1   \n",
            "319793            0    0            1     3         0                 0   \n",
            "319794            0    0           12     3         0                 1   \n",
            "\n",
            "        GenHealth  SleepTime  Asthma  KidneyDisease  SkinCancer  \n",
            "0               4        5.0       1              0           1  \n",
            "1               4        7.0       0              0           0  \n",
            "2               1        8.0       1              0           0  \n",
            "3               2        6.0       0              0           1  \n",
            "4               4        8.0       0              0           0  \n",
            "...           ...        ...     ...            ...         ...  \n",
            "319790          1        6.0       1              0           0  \n",
            "319791          4        5.0       1              0           0  \n",
            "319792          2        6.0       0              0           0  \n",
            "319793          2       12.0       0              0           0  \n",
            "319794          2        8.0       0              0           0  \n",
            "\n",
            "[319795 rows x 17 columns]\n"
          ]
        },
        {
          "output_type": "stream",
          "name": "stderr",
          "text": [
            "/usr/local/lib/python3.7/dist-packages/ipykernel_launcher.py:17: SettingWithCopyWarning: \n",
            "A value is trying to be set on a copy of a slice from a DataFrame.\n",
            "Try using .loc[row_indexer,col_indexer] = value instead\n",
            "\n",
            "See the caveats in the documentation: https://pandas.pydata.org/pandas-docs/stable/user_guide/indexing.html#returning-a-view-versus-a-copy\n"
          ]
        }
      ]
    },
    {
      "cell_type": "code",
      "source": [
        "from sklearn.model_selection import train_test_split\n",
        "X_train, X_test, y_train, y_test = train_test_split( x, y, test_size=0.3, random_state=42)\n",
        "from sklearn.naive_bayes import GaussianNB\n",
        "clf1 = GaussianNB()\n",
        "ml1=clf1.fit(X_train, y_train)\n",
        "res1=ml1.predict(X_test)\n",
        "from sklearn.metrics import accuracy_score\n",
        "from sklearn.naive_bayes import MultinomialNB\n",
        "clf2 = MultinomialNB()\n",
        "ml2=clf2.fit(X_train, y_train)\n",
        "res2=ml2.predict(X_test)\n",
        "from sklearn.naive_bayes import BernoulliNB\n",
        "clf3 = BernoulliNB(binarize=2.2)\n",
        "ml3=clf3.fit(X_train, y_train)\n",
        "res3=ml3.predict(X_test)\n",
        "print(\"Accuracy of Gaussian NB\",accuracy_score(res2,y_test)*100)\n",
        "print(\"Accuracy of Multinomial NB\",accuracy_score(res2,y_test)*100)\n",
        "print(\"Accuracy of Bernoulli NB\",accuracy_score(res3,y_test)*100)"
      ],
      "metadata": {
        "colab": {
          "base_uri": "https://localhost:8080/"
        },
        "id": "ki0jnDseiyIv",
        "outputId": "4521a3e0-6d6e-456e-b4b1-f7a251fdb5f2"
      },
      "execution_count": null,
      "outputs": [
        {
          "output_type": "stream",
          "name": "stdout",
          "text": [
            "Accuracy of Gaussian NB 83.72611763724866\n",
            "Accuracy of Multinomial NB 83.72611763724866\n",
            "Accuracy of Bernoulli NB 91.35909275685592\n"
          ]
        }
      ]
    }
  ]
}