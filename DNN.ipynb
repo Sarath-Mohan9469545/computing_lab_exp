{
  "nbformat": 4,
  "nbformat_minor": 0,
  "metadata": {
    "colab": {
      "name": "DNN.ipynb",
      "provenance": [],
      "authorship_tag": "ABX9TyPdlP4BCfZaC4dGuT2paTI0",
      "include_colab_link": true
    },
    "kernelspec": {
      "name": "python3",
      "display_name": "Python 3"
    },
    "language_info": {
      "name": "python"
    }
  },
  "cells": [
    {
      "cell_type": "markdown",
      "metadata": {
        "id": "view-in-github",
        "colab_type": "text"
      },
      "source": [
        "<a href=\"https://colab.research.google.com/github/Sarath-Mohan9469545/computing_lab_exp/blob/main/DNN.ipynb\" target=\"_parent\"><img src=\"https://colab.research.google.com/assets/colab-badge.svg\" alt=\"Open In Colab\"/></a>"
      ]
    },
    {
      "cell_type": "code",
      "execution_count": 1,
      "metadata": {
        "id": "NJd60ME3mTRb"
      },
      "outputs": [],
      "source": [
        "from sklearn.datasets import load_iris\n",
        "iris=load_iris()\n",
        "x=iris.data\n",
        "y=iris.target"
      ]
    },
    {
      "cell_type": "code",
      "source": [
        "from sklearn.model_selection import train_test_split\n",
        "x_train,x_test,y_train,y_test=train_test_split(x,y,test_size=0.2)"
      ],
      "metadata": {
        "id": "qtD_Ef2PnCa2"
      },
      "execution_count": 2,
      "outputs": []
    },
    {
      "cell_type": "code",
      "source": [
        "import tensorflow as tf\n",
        "from tensorflow import keras"
      ],
      "metadata": {
        "id": "g_7_PIkenUAg"
      },
      "execution_count": 4,
      "outputs": []
    },
    {
      "cell_type": "code",
      "source": [
        "ml=keras.models.Sequential()"
      ],
      "metadata": {
        "id": "JQUebJVwnZ6j"
      },
      "execution_count": 5,
      "outputs": []
    },
    {
      "cell_type": "code",
      "source": [
        "ml.add(keras.layers.Dense(units=5,activation=\"relu\",input_dim=x.shape[1]))\n"
      ],
      "metadata": {
        "id": "vFPuwszAnlRj"
      },
      "execution_count": 6,
      "outputs": []
    },
    {
      "cell_type": "code",
      "source": [
        "ml.add(keras.layers.Dense(units=6,activation=\"relu\"))\n",
        "ml.add(keras.layers.Dense(units=5,activation=\"relu\"))\n",
        "ml.add(keras.layers.Dense(units=3,activation=\"sigmoid\"))\n",
        "ml.summary()"
      ],
      "metadata": {
        "colab": {
          "base_uri": "https://localhost:8080/"
        },
        "id": "Zfwsz_tWn0dX",
        "outputId": "57b4030a-4e50-4b87-d619-7bd19177ee74"
      },
      "execution_count": 7,
      "outputs": [
        {
          "output_type": "stream",
          "name": "stdout",
          "text": [
            "Model: \"sequential\"\n",
            "_________________________________________________________________\n",
            " Layer (type)                Output Shape              Param #   \n",
            "=================================================================\n",
            " dense (Dense)               (None, 5)                 25        \n",
            "                                                                 \n",
            " dense_1 (Dense)             (None, 6)                 36        \n",
            "                                                                 \n",
            " dense_2 (Dense)             (None, 5)                 35        \n",
            "                                                                 \n",
            " dense_3 (Dense)             (None, 3)                 18        \n",
            "                                                                 \n",
            "=================================================================\n",
            "Total params: 114\n",
            "Trainable params: 114\n",
            "Non-trainable params: 0\n",
            "_________________________________________________________________\n"
          ]
        }
      ]
    },
    {
      "cell_type": "code",
      "source": [
        "ml.compile(loss=\"sparse_categorical_crossentropy\",optimizer=\"SGD\",metrics=[\"accuracy\"])"
      ],
      "metadata": {
        "id": "gBwtRTTwodLE"
      },
      "execution_count": 8,
      "outputs": []
    },
    {
      "cell_type": "code",
      "source": [
        "ml.fit(x_train,y_train,epochs=50)"
      ],
      "metadata": {
        "colab": {
          "base_uri": "https://localhost:8080/"
        },
        "id": "-UWE6dihouS5",
        "outputId": "7c3eef5c-1d73-4e4a-f431-1bcc8b74d6b2"
      },
      "execution_count": 9,
      "outputs": [
        {
          "output_type": "stream",
          "name": "stdout",
          "text": [
            "Epoch 1/50\n",
            "4/4 [==============================] - 1s 6ms/step - loss: 1.3927 - accuracy: 0.3083\n",
            "Epoch 2/50\n",
            "4/4 [==============================] - 0s 5ms/step - loss: 1.1351 - accuracy: 0.2000\n",
            "Epoch 3/50\n",
            "4/4 [==============================] - 0s 4ms/step - loss: 1.0976 - accuracy: 0.3667\n",
            "Epoch 4/50\n",
            "4/4 [==============================] - 0s 4ms/step - loss: 1.0922 - accuracy: 0.3500\n",
            "Epoch 5/50\n",
            "4/4 [==============================] - 0s 5ms/step - loss: 1.0870 - accuracy: 0.3583\n",
            "Epoch 6/50\n",
            "4/4 [==============================] - 0s 6ms/step - loss: 1.0823 - accuracy: 0.3750\n",
            "Epoch 7/50\n",
            "4/4 [==============================] - 0s 6ms/step - loss: 1.0775 - accuracy: 0.3750\n",
            "Epoch 8/50\n",
            "4/4 [==============================] - 0s 5ms/step - loss: 1.0730 - accuracy: 0.3750\n",
            "Epoch 9/50\n",
            "4/4 [==============================] - 0s 7ms/step - loss: 1.0687 - accuracy: 0.3750\n",
            "Epoch 10/50\n",
            "4/4 [==============================] - 0s 5ms/step - loss: 1.0644 - accuracy: 0.3750\n",
            "Epoch 11/50\n",
            "4/4 [==============================] - 0s 4ms/step - loss: 1.0601 - accuracy: 0.3750\n",
            "Epoch 12/50\n",
            "4/4 [==============================] - 0s 5ms/step - loss: 1.0559 - accuracy: 0.3750\n",
            "Epoch 13/50\n",
            "4/4 [==============================] - 0s 5ms/step - loss: 1.0519 - accuracy: 0.3750\n",
            "Epoch 14/50\n",
            "4/4 [==============================] - 0s 5ms/step - loss: 1.0479 - accuracy: 0.3833\n",
            "Epoch 15/50\n",
            "4/4 [==============================] - 0s 4ms/step - loss: 1.0441 - accuracy: 0.3917\n",
            "Epoch 16/50\n",
            "4/4 [==============================] - 0s 5ms/step - loss: 1.0401 - accuracy: 0.3917\n",
            "Epoch 17/50\n",
            "4/4 [==============================] - 0s 5ms/step - loss: 1.0367 - accuracy: 0.3833\n",
            "Epoch 18/50\n",
            "4/4 [==============================] - 0s 6ms/step - loss: 1.0328 - accuracy: 0.3917\n",
            "Epoch 19/50\n",
            "4/4 [==============================] - 0s 5ms/step - loss: 1.0290 - accuracy: 0.4417\n",
            "Epoch 20/50\n",
            "4/4 [==============================] - 0s 5ms/step - loss: 1.0253 - accuracy: 0.4583\n",
            "Epoch 21/50\n",
            "4/4 [==============================] - 0s 5ms/step - loss: 1.0212 - accuracy: 0.5000\n",
            "Epoch 22/50\n",
            "4/4 [==============================] - 0s 5ms/step - loss: 1.0174 - accuracy: 0.5250\n",
            "Epoch 23/50\n",
            "4/4 [==============================] - 0s 6ms/step - loss: 1.0131 - accuracy: 0.5833\n",
            "Epoch 24/50\n",
            "4/4 [==============================] - 0s 17ms/step - loss: 1.0088 - accuracy: 0.6750\n",
            "Epoch 25/50\n",
            "4/4 [==============================] - 0s 6ms/step - loss: 1.0045 - accuracy: 0.7333\n",
            "Epoch 26/50\n",
            "4/4 [==============================] - 0s 9ms/step - loss: 1.0000 - accuracy: 0.7917\n",
            "Epoch 27/50\n",
            "4/4 [==============================] - 0s 9ms/step - loss: 0.9951 - accuracy: 0.8167\n",
            "Epoch 28/50\n",
            "4/4 [==============================] - 0s 7ms/step - loss: 0.9902 - accuracy: 0.8333\n",
            "Epoch 29/50\n",
            "4/4 [==============================] - 0s 8ms/step - loss: 0.9851 - accuracy: 0.8583\n",
            "Epoch 30/50\n",
            "4/4 [==============================] - 0s 5ms/step - loss: 0.9798 - accuracy: 0.8833\n",
            "Epoch 31/50\n",
            "4/4 [==============================] - 0s 8ms/step - loss: 0.9740 - accuracy: 0.8917\n",
            "Epoch 32/50\n",
            "4/4 [==============================] - 0s 8ms/step - loss: 0.9686 - accuracy: 0.9333\n",
            "Epoch 33/50\n",
            "4/4 [==============================] - 0s 5ms/step - loss: 0.9631 - accuracy: 0.9500\n",
            "Epoch 34/50\n",
            "4/4 [==============================] - 0s 5ms/step - loss: 0.9579 - accuracy: 0.9583\n",
            "Epoch 35/50\n",
            "4/4 [==============================] - 0s 7ms/step - loss: 0.9526 - accuracy: 0.9583\n",
            "Epoch 36/50\n",
            "4/4 [==============================] - 0s 10ms/step - loss: 0.9475 - accuracy: 0.9583\n",
            "Epoch 37/50\n",
            "4/4 [==============================] - 0s 4ms/step - loss: 0.9425 - accuracy: 0.9583\n",
            "Epoch 38/50\n",
            "4/4 [==============================] - 0s 4ms/step - loss: 0.9373 - accuracy: 0.9583\n",
            "Epoch 39/50\n",
            "4/4 [==============================] - 0s 4ms/step - loss: 0.9322 - accuracy: 0.9500\n",
            "Epoch 40/50\n",
            "4/4 [==============================] - 0s 4ms/step - loss: 0.9269 - accuracy: 0.9583\n",
            "Epoch 41/50\n",
            "4/4 [==============================] - 0s 4ms/step - loss: 0.9217 - accuracy: 0.9500\n",
            "Epoch 42/50\n",
            "4/4 [==============================] - 0s 4ms/step - loss: 0.9159 - accuracy: 0.9583\n",
            "Epoch 43/50\n",
            "4/4 [==============================] - 0s 4ms/step - loss: 0.9100 - accuracy: 0.9500\n",
            "Epoch 44/50\n",
            "4/4 [==============================] - 0s 3ms/step - loss: 0.9043 - accuracy: 0.9583\n",
            "Epoch 45/50\n",
            "4/4 [==============================] - 0s 3ms/step - loss: 0.8978 - accuracy: 0.9583\n",
            "Epoch 46/50\n",
            "4/4 [==============================] - 0s 4ms/step - loss: 0.8920 - accuracy: 0.9583\n",
            "Epoch 47/50\n",
            "4/4 [==============================] - 0s 5ms/step - loss: 0.8855 - accuracy: 0.9583\n",
            "Epoch 48/50\n",
            "4/4 [==============================] - 0s 5ms/step - loss: 0.8787 - accuracy: 0.9667\n",
            "Epoch 49/50\n",
            "4/4 [==============================] - 0s 4ms/step - loss: 0.8718 - accuracy: 0.9583\n",
            "Epoch 50/50\n",
            "4/4 [==============================] - 0s 3ms/step - loss: 0.8645 - accuracy: 0.9667\n"
          ]
        },
        {
          "output_type": "execute_result",
          "data": {
            "text/plain": [
              "<keras.callbacks.History at 0x7f8d1b546310>"
            ]
          },
          "metadata": {},
          "execution_count": 9
        }
      ]
    },
    {
      "cell_type": "code",
      "source": [
        "test_loss,test_accuracy=ml.evaluate(x_test,y_test)\n",
        "print(test_loss,test_accuracy)"
      ],
      "metadata": {
        "colab": {
          "base_uri": "https://localhost:8080/"
        },
        "id": "6DNe8pe8o4cu",
        "outputId": "772b7c80-ffa7-4405-f7eb-9b2a1be15191"
      },
      "execution_count": 10,
      "outputs": [
        {
          "output_type": "stream",
          "name": "stdout",
          "text": [
            "1/1 [==============================] - 0s 265ms/step - loss: 0.8312 - accuracy: 0.9000\n",
            "0.8311640024185181 0.8999999761581421\n"
          ]
        }
      ]
    },
    {
      "cell_type": "code",
      "source": [
        "from sklearn.datasets import load_wine\n",
        "wine=load_wine()\n",
        "x1=wine.data\n",
        "y1=wine.target"
      ],
      "metadata": {
        "id": "970DJ34wpF7-"
      },
      "execution_count": 11,
      "outputs": []
    },
    {
      "cell_type": "code",
      "source": [
        "x1"
      ],
      "metadata": {
        "colab": {
          "base_uri": "https://localhost:8080/"
        },
        "id": "47DQhXG_y_6-",
        "outputId": "5a2926e5-a7dd-4c05-9ffc-45afaec75d64"
      },
      "execution_count": 12,
      "outputs": [
        {
          "output_type": "execute_result",
          "data": {
            "text/plain": [
              "array([[1.423e+01, 1.710e+00, 2.430e+00, ..., 1.040e+00, 3.920e+00,\n",
              "        1.065e+03],\n",
              "       [1.320e+01, 1.780e+00, 2.140e+00, ..., 1.050e+00, 3.400e+00,\n",
              "        1.050e+03],\n",
              "       [1.316e+01, 2.360e+00, 2.670e+00, ..., 1.030e+00, 3.170e+00,\n",
              "        1.185e+03],\n",
              "       ...,\n",
              "       [1.327e+01, 4.280e+00, 2.260e+00, ..., 5.900e-01, 1.560e+00,\n",
              "        8.350e+02],\n",
              "       [1.317e+01, 2.590e+00, 2.370e+00, ..., 6.000e-01, 1.620e+00,\n",
              "        8.400e+02],\n",
              "       [1.413e+01, 4.100e+00, 2.740e+00, ..., 6.100e-01, 1.600e+00,\n",
              "        5.600e+02]])"
            ]
          },
          "metadata": {},
          "execution_count": 12
        }
      ]
    },
    {
      "cell_type": "code",
      "source": [
        "y1"
      ],
      "metadata": {
        "colab": {
          "base_uri": "https://localhost:8080/"
        },
        "id": "XPRzlsbmzCAS",
        "outputId": "9c898cf2-895d-41e4-9270-3264170067ec"
      },
      "execution_count": 13,
      "outputs": [
        {
          "output_type": "execute_result",
          "data": {
            "text/plain": [
              "array([0, 0, 0, 0, 0, 0, 0, 0, 0, 0, 0, 0, 0, 0, 0, 0, 0, 0, 0, 0, 0, 0,\n",
              "       0, 0, 0, 0, 0, 0, 0, 0, 0, 0, 0, 0, 0, 0, 0, 0, 0, 0, 0, 0, 0, 0,\n",
              "       0, 0, 0, 0, 0, 0, 0, 0, 0, 0, 0, 0, 0, 0, 0, 1, 1, 1, 1, 1, 1, 1,\n",
              "       1, 1, 1, 1, 1, 1, 1, 1, 1, 1, 1, 1, 1, 1, 1, 1, 1, 1, 1, 1, 1, 1,\n",
              "       1, 1, 1, 1, 1, 1, 1, 1, 1, 1, 1, 1, 1, 1, 1, 1, 1, 1, 1, 1, 1, 1,\n",
              "       1, 1, 1, 1, 1, 1, 1, 1, 1, 1, 1, 1, 1, 1, 1, 1, 1, 1, 1, 1, 2, 2,\n",
              "       2, 2, 2, 2, 2, 2, 2, 2, 2, 2, 2, 2, 2, 2, 2, 2, 2, 2, 2, 2, 2, 2,\n",
              "       2, 2, 2, 2, 2, 2, 2, 2, 2, 2, 2, 2, 2, 2, 2, 2, 2, 2, 2, 2, 2, 2,\n",
              "       2, 2])"
            ]
          },
          "metadata": {},
          "execution_count": 13
        }
      ]
    },
    {
      "cell_type": "code",
      "source": [
        "from sklearn.model_selection import train_test_split\n",
        "x_train,x_test,y_train,y_test=train_test_split(x1,y1,test_size=0.2)"
      ],
      "metadata": {
        "id": "A6x_9t15zDb9"
      },
      "execution_count": 17,
      "outputs": []
    },
    {
      "cell_type": "code",
      "source": [
        "ml=keras.models.Sequential()"
      ],
      "metadata": {
        "id": "Ai8KOFCMzIGl"
      },
      "execution_count": 77,
      "outputs": []
    },
    {
      "cell_type": "code",
      "source": [
        "ml.add(keras.layers.Dense(units=5,activation=\"relu\",input_dim=x1.shape[1]))"
      ],
      "metadata": {
        "id": "SfFPsLxQzV0Z"
      },
      "execution_count": 78,
      "outputs": []
    },
    {
      "cell_type": "code",
      "source": [
        "ml.add(keras.layers.Dense(units=6,activation=\"relu\"))\n",
        "ml.add(keras.layers.Dense(units=5,activation=\"relu\"))\n",
        "ml.add(keras.layers.Dense(units=4,activation=\"relu\"))\n",
        "ml.add(keras.layers.Dense(units=3,activation=\"sigmoid\"))\n",
        "ml.summary()"
      ],
      "metadata": {
        "colab": {
          "base_uri": "https://localhost:8080/"
        },
        "id": "pBMQQgtkzvxy",
        "outputId": "879e4550-3f21-417d-d0e1-046231abe4e9"
      },
      "execution_count": 79,
      "outputs": [
        {
          "output_type": "stream",
          "name": "stdout",
          "text": [
            "Model: \"sequential_11\"\n",
            "_________________________________________________________________\n",
            " Layer (type)                Output Shape              Param #   \n",
            "=================================================================\n",
            " dense_52 (Dense)            (None, 5)                 70        \n",
            "                                                                 \n",
            " dense_53 (Dense)            (None, 6)                 36        \n",
            "                                                                 \n",
            " dense_54 (Dense)            (None, 5)                 35        \n",
            "                                                                 \n",
            " dense_55 (Dense)            (None, 4)                 24        \n",
            "                                                                 \n",
            " dense_56 (Dense)            (None, 3)                 15        \n",
            "                                                                 \n",
            "=================================================================\n",
            "Total params: 180\n",
            "Trainable params: 180\n",
            "Non-trainable params: 0\n",
            "_________________________________________________________________\n"
          ]
        }
      ]
    },
    {
      "cell_type": "code",
      "source": [
        "x1.shape\n"
      ],
      "metadata": {
        "colab": {
          "base_uri": "https://localhost:8080/"
        },
        "id": "wzEPgN4a0IJn",
        "outputId": "15ed4190-8d75-4563-de7c-da254840b33b"
      },
      "execution_count": 80,
      "outputs": [
        {
          "output_type": "execute_result",
          "data": {
            "text/plain": [
              "(178, 13)"
            ]
          },
          "metadata": {},
          "execution_count": 80
        }
      ]
    },
    {
      "cell_type": "code",
      "source": [
        "ml.compile(loss=\"sparse_categorical_crossentropy\",optimizer=\"adam\",metrics=[\"accuracy\"])"
      ],
      "metadata": {
        "id": "u_44QVZSzxhS"
      },
      "execution_count": 81,
      "outputs": []
    },
    {
      "cell_type": "code",
      "source": [
        "ml.fit(x_train,y_train,epochs=100)"
      ],
      "metadata": {
        "colab": {
          "base_uri": "https://localhost:8080/"
        },
        "id": "Cym2DRAPz00u",
        "outputId": "af0e391a-71ce-404a-d91d-9c979ce24aab"
      },
      "execution_count": 82,
      "outputs": [
        {
          "output_type": "stream",
          "name": "stdout",
          "text": [
            "Epoch 1/100\n",
            "5/5 [==============================] - 0s 3ms/step - loss: 10.4640 - accuracy: 0.3380\n",
            "Epoch 2/100\n",
            "5/5 [==============================] - 0s 3ms/step - loss: 9.3134 - accuracy: 0.3380\n",
            "Epoch 3/100\n",
            "5/5 [==============================] - 0s 3ms/step - loss: 8.2510 - accuracy: 0.3380\n",
            "Epoch 4/100\n",
            "5/5 [==============================] - 0s 4ms/step - loss: 7.3185 - accuracy: 0.3380\n",
            "Epoch 5/100\n",
            "5/5 [==============================] - 0s 4ms/step - loss: 6.4609 - accuracy: 0.3380\n",
            "Epoch 6/100\n",
            "5/5 [==============================] - 0s 4ms/step - loss: 5.6963 - accuracy: 0.3380\n",
            "Epoch 7/100\n",
            "5/5 [==============================] - 0s 5ms/step - loss: 5.0355 - accuracy: 0.3380\n",
            "Epoch 8/100\n",
            "5/5 [==============================] - 0s 3ms/step - loss: 4.4405 - accuracy: 0.3380\n",
            "Epoch 9/100\n",
            "5/5 [==============================] - 0s 3ms/step - loss: 3.9307 - accuracy: 0.3380\n",
            "Epoch 10/100\n",
            "5/5 [==============================] - 0s 3ms/step - loss: 3.4587 - accuracy: 0.3380\n",
            "Epoch 11/100\n",
            "5/5 [==============================] - 0s 3ms/step - loss: 3.0768 - accuracy: 0.3380\n",
            "Epoch 12/100\n",
            "5/5 [==============================] - 0s 3ms/step - loss: 2.7349 - accuracy: 0.3380\n",
            "Epoch 13/100\n",
            "5/5 [==============================] - 0s 3ms/step - loss: 2.4438 - accuracy: 0.3380\n",
            "Epoch 14/100\n",
            "5/5 [==============================] - 0s 3ms/step - loss: 2.1994 - accuracy: 0.3380\n",
            "Epoch 15/100\n",
            "5/5 [==============================] - 0s 3ms/step - loss: 1.9959 - accuracy: 0.3380\n",
            "Epoch 16/100\n",
            "5/5 [==============================] - 0s 3ms/step - loss: 1.8149 - accuracy: 0.3451\n",
            "Epoch 17/100\n",
            "5/5 [==============================] - 0s 3ms/step - loss: 1.6752 - accuracy: 0.3592\n",
            "Epoch 18/100\n",
            "5/5 [==============================] - 0s 4ms/step - loss: 1.5528 - accuracy: 0.3873\n",
            "Epoch 19/100\n",
            "5/5 [==============================] - 0s 3ms/step - loss: 1.4536 - accuracy: 0.4085\n",
            "Epoch 20/100\n",
            "5/5 [==============================] - 0s 4ms/step - loss: 1.3734 - accuracy: 0.4085\n",
            "Epoch 21/100\n",
            "5/5 [==============================] - 0s 3ms/step - loss: 1.3038 - accuracy: 0.4296\n",
            "Epoch 22/100\n",
            "5/5 [==============================] - 0s 4ms/step - loss: 1.2471 - accuracy: 0.4859\n",
            "Epoch 23/100\n",
            "5/5 [==============================] - 0s 3ms/step - loss: 1.2011 - accuracy: 0.5211\n",
            "Epoch 24/100\n",
            "5/5 [==============================] - 0s 4ms/step - loss: 1.1619 - accuracy: 0.5352\n",
            "Epoch 25/100\n",
            "5/5 [==============================] - 0s 4ms/step - loss: 1.1211 - accuracy: 0.5423\n",
            "Epoch 26/100\n",
            "5/5 [==============================] - 0s 3ms/step - loss: 1.0890 - accuracy: 0.5493\n",
            "Epoch 27/100\n",
            "5/5 [==============================] - 0s 3ms/step - loss: 1.0619 - accuracy: 0.5845\n",
            "Epoch 28/100\n",
            "5/5 [==============================] - 0s 3ms/step - loss: 1.0381 - accuracy: 0.5915\n",
            "Epoch 29/100\n",
            "5/5 [==============================] - 0s 3ms/step - loss: 1.0176 - accuracy: 0.6127\n",
            "Epoch 30/100\n",
            "5/5 [==============================] - 0s 3ms/step - loss: 0.9980 - accuracy: 0.6268\n",
            "Epoch 31/100\n",
            "5/5 [==============================] - 0s 4ms/step - loss: 0.9831 - accuracy: 0.6479\n",
            "Epoch 32/100\n",
            "5/5 [==============================] - 0s 3ms/step - loss: 0.9678 - accuracy: 0.6479\n",
            "Epoch 33/100\n",
            "5/5 [==============================] - 0s 5ms/step - loss: 0.9580 - accuracy: 0.6408\n",
            "Epoch 34/100\n",
            "5/5 [==============================] - 0s 4ms/step - loss: 0.9458 - accuracy: 0.6408\n",
            "Epoch 35/100\n",
            "5/5 [==============================] - 0s 4ms/step - loss: 0.9365 - accuracy: 0.6408\n",
            "Epoch 36/100\n",
            "5/5 [==============================] - 0s 3ms/step - loss: 0.9293 - accuracy: 0.6479\n",
            "Epoch 37/100\n",
            "5/5 [==============================] - 0s 3ms/step - loss: 0.9212 - accuracy: 0.6549\n",
            "Epoch 38/100\n",
            "5/5 [==============================] - 0s 3ms/step - loss: 0.9141 - accuracy: 0.6620\n",
            "Epoch 39/100\n",
            "5/5 [==============================] - 0s 3ms/step - loss: 0.9083 - accuracy: 0.6549\n",
            "Epoch 40/100\n",
            "5/5 [==============================] - 0s 4ms/step - loss: 0.9016 - accuracy: 0.6620\n",
            "Epoch 41/100\n",
            "5/5 [==============================] - 0s 3ms/step - loss: 0.8968 - accuracy: 0.6620\n",
            "Epoch 42/100\n",
            "5/5 [==============================] - 0s 3ms/step - loss: 0.8912 - accuracy: 0.6620\n",
            "Epoch 43/100\n",
            "5/5 [==============================] - 0s 3ms/step - loss: 0.8867 - accuracy: 0.6690\n",
            "Epoch 44/100\n",
            "5/5 [==============================] - 0s 3ms/step - loss: 0.8820 - accuracy: 0.6690\n",
            "Epoch 45/100\n",
            "5/5 [==============================] - 0s 3ms/step - loss: 0.8786 - accuracy: 0.6690\n",
            "Epoch 46/100\n",
            "5/5 [==============================] - 0s 3ms/step - loss: 0.8746 - accuracy: 0.6761\n",
            "Epoch 47/100\n",
            "5/5 [==============================] - 0s 3ms/step - loss: 0.8713 - accuracy: 0.6831\n",
            "Epoch 48/100\n",
            "5/5 [==============================] - 0s 3ms/step - loss: 0.8687 - accuracy: 0.6831\n",
            "Epoch 49/100\n",
            "5/5 [==============================] - 0s 3ms/step - loss: 0.8654 - accuracy: 0.6901\n",
            "Epoch 50/100\n",
            "5/5 [==============================] - 0s 3ms/step - loss: 0.8626 - accuracy: 0.6831\n",
            "Epoch 51/100\n",
            "5/5 [==============================] - 0s 3ms/step - loss: 0.8597 - accuracy: 0.6831\n",
            "Epoch 52/100\n",
            "5/5 [==============================] - 0s 3ms/step - loss: 0.8569 - accuracy: 0.6831\n",
            "Epoch 53/100\n",
            "5/5 [==============================] - 0s 3ms/step - loss: 0.8541 - accuracy: 0.6831\n",
            "Epoch 54/100\n",
            "5/5 [==============================] - 0s 4ms/step - loss: 0.8513 - accuracy: 0.6831\n",
            "Epoch 55/100\n",
            "5/5 [==============================] - 0s 3ms/step - loss: 0.8487 - accuracy: 0.6831\n",
            "Epoch 56/100\n",
            "5/5 [==============================] - 0s 3ms/step - loss: 0.8461 - accuracy: 0.6831\n",
            "Epoch 57/100\n",
            "5/5 [==============================] - 0s 3ms/step - loss: 0.8438 - accuracy: 0.6831\n",
            "Epoch 58/100\n",
            "5/5 [==============================] - 0s 3ms/step - loss: 0.8410 - accuracy: 0.6831\n",
            "Epoch 59/100\n",
            "5/5 [==============================] - 0s 3ms/step - loss: 0.8386 - accuracy: 0.6831\n",
            "Epoch 60/100\n",
            "5/5 [==============================] - 0s 4ms/step - loss: 0.8361 - accuracy: 0.6831\n",
            "Epoch 61/100\n",
            "5/5 [==============================] - 0s 3ms/step - loss: 0.8337 - accuracy: 0.6831\n",
            "Epoch 62/100\n",
            "5/5 [==============================] - 0s 4ms/step - loss: 0.8314 - accuracy: 0.6831\n",
            "Epoch 63/100\n",
            "5/5 [==============================] - 0s 3ms/step - loss: 0.8292 - accuracy: 0.6831\n",
            "Epoch 64/100\n",
            "5/5 [==============================] - 0s 3ms/step - loss: 0.8265 - accuracy: 0.6831\n",
            "Epoch 65/100\n",
            "5/5 [==============================] - 0s 3ms/step - loss: 0.8242 - accuracy: 0.6831\n",
            "Epoch 66/100\n",
            "5/5 [==============================] - 0s 3ms/step - loss: 0.8217 - accuracy: 0.6761\n",
            "Epoch 67/100\n",
            "5/5 [==============================] - 0s 4ms/step - loss: 0.8193 - accuracy: 0.6761\n",
            "Epoch 68/100\n",
            "5/5 [==============================] - 0s 3ms/step - loss: 0.8170 - accuracy: 0.6761\n",
            "Epoch 69/100\n",
            "5/5 [==============================] - 0s 3ms/step - loss: 0.8145 - accuracy: 0.6761\n",
            "Epoch 70/100\n",
            "5/5 [==============================] - 0s 3ms/step - loss: 0.8124 - accuracy: 0.6761\n",
            "Epoch 71/100\n",
            "5/5 [==============================] - 0s 3ms/step - loss: 0.8101 - accuracy: 0.6761\n",
            "Epoch 72/100\n",
            "5/5 [==============================] - 0s 3ms/step - loss: 0.8080 - accuracy: 0.6761\n",
            "Epoch 73/100\n",
            "5/5 [==============================] - 0s 3ms/step - loss: 0.8055 - accuracy: 0.6690\n",
            "Epoch 74/100\n",
            "5/5 [==============================] - 0s 3ms/step - loss: 0.8034 - accuracy: 0.6690\n",
            "Epoch 75/100\n",
            "5/5 [==============================] - 0s 3ms/step - loss: 0.8012 - accuracy: 0.6690\n",
            "Epoch 76/100\n",
            "5/5 [==============================] - 0s 3ms/step - loss: 0.7990 - accuracy: 0.6620\n",
            "Epoch 77/100\n",
            "5/5 [==============================] - 0s 3ms/step - loss: 0.7967 - accuracy: 0.6620\n",
            "Epoch 78/100\n",
            "5/5 [==============================] - 0s 3ms/step - loss: 0.7943 - accuracy: 0.6620\n",
            "Epoch 79/100\n",
            "5/5 [==============================] - 0s 3ms/step - loss: 0.7921 - accuracy: 0.6620\n",
            "Epoch 80/100\n",
            "5/5 [==============================] - 0s 3ms/step - loss: 0.7898 - accuracy: 0.6761\n",
            "Epoch 81/100\n",
            "5/5 [==============================] - 0s 4ms/step - loss: 0.7871 - accuracy: 0.6761\n",
            "Epoch 82/100\n",
            "5/5 [==============================] - 0s 3ms/step - loss: 0.7852 - accuracy: 0.6761\n",
            "Epoch 83/100\n",
            "5/5 [==============================] - 0s 3ms/step - loss: 0.7826 - accuracy: 0.6761\n",
            "Epoch 84/100\n",
            "5/5 [==============================] - 0s 3ms/step - loss: 0.7803 - accuracy: 0.6761\n",
            "Epoch 85/100\n",
            "5/5 [==============================] - 0s 3ms/step - loss: 0.7780 - accuracy: 0.6761\n",
            "Epoch 86/100\n",
            "5/5 [==============================] - 0s 3ms/step - loss: 0.7757 - accuracy: 0.6690\n",
            "Epoch 87/100\n",
            "5/5 [==============================] - 0s 3ms/step - loss: 0.7736 - accuracy: 0.6761\n",
            "Epoch 88/100\n",
            "5/5 [==============================] - 0s 3ms/step - loss: 0.7712 - accuracy: 0.6690\n",
            "Epoch 89/100\n",
            "5/5 [==============================] - 0s 3ms/step - loss: 0.7691 - accuracy: 0.6690\n",
            "Epoch 90/100\n",
            "5/5 [==============================] - 0s 4ms/step - loss: 0.7671 - accuracy: 0.6690\n",
            "Epoch 91/100\n",
            "5/5 [==============================] - 0s 4ms/step - loss: 0.7648 - accuracy: 0.6690\n",
            "Epoch 92/100\n",
            "5/5 [==============================] - 0s 3ms/step - loss: 0.7629 - accuracy: 0.6690\n",
            "Epoch 93/100\n",
            "5/5 [==============================] - 0s 3ms/step - loss: 0.7605 - accuracy: 0.6690\n",
            "Epoch 94/100\n",
            "5/5 [==============================] - 0s 3ms/step - loss: 0.7584 - accuracy: 0.6690\n",
            "Epoch 95/100\n",
            "5/5 [==============================] - 0s 3ms/step - loss: 0.7566 - accuracy: 0.6690\n",
            "Epoch 96/100\n",
            "5/5 [==============================] - 0s 3ms/step - loss: 0.7545 - accuracy: 0.6690\n",
            "Epoch 97/100\n",
            "5/5 [==============================] - 0s 3ms/step - loss: 0.7526 - accuracy: 0.6690\n",
            "Epoch 98/100\n",
            "5/5 [==============================] - 0s 2ms/step - loss: 0.7508 - accuracy: 0.6690\n",
            "Epoch 99/100\n",
            "5/5 [==============================] - 0s 3ms/step - loss: 0.7486 - accuracy: 0.6690\n",
            "Epoch 100/100\n",
            "5/5 [==============================] - 0s 3ms/step - loss: 0.7467 - accuracy: 0.6690\n"
          ]
        },
        {
          "output_type": "execute_result",
          "data": {
            "text/plain": [
              "<keras.callbacks.History at 0x7f8d13893f10>"
            ]
          },
          "metadata": {},
          "execution_count": 82
        }
      ]
    },
    {
      "cell_type": "code",
      "source": [
        "test_loss,test_accuracy=ml.evaluate(x_test,y_test)\n",
        "print(test_loss,test_accuracy)"
      ],
      "metadata": {
        "colab": {
          "base_uri": "https://localhost:8080/"
        },
        "id": "gXVNVqE1z3c6",
        "outputId": "fbb70cd5-9c0f-4765-e800-e98656a19450"
      },
      "execution_count": 83,
      "outputs": [
        {
          "output_type": "stream",
          "name": "stdout",
          "text": [
            "2/2 [==============================] - 0s 8ms/step - loss: 0.8144 - accuracy: 0.6111\n",
            "0.8143733143806458 0.6111111044883728\n"
          ]
        }
      ]
    },
    {
      "cell_type": "code",
      "source": [
        ""
      ],
      "metadata": {
        "id": "Tqfk47-n1JSt"
      },
      "execution_count": null,
      "outputs": []
    }
  ]
}