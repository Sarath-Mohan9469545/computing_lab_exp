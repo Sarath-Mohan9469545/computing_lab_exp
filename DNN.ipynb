{
  "nbformat": 4,
  "nbformat_minor": 0,
  "metadata": {
    "colab": {
      "name": "DNN.ipynb",
      "provenance": [],
      "authorship_tag": "ABX9TyNelgUGJ6qWQCUGEhYHZKWA",
      "include_colab_link": true
    },
    "kernelspec": {
      "name": "python3",
      "display_name": "Python 3"
    },
    "language_info": {
      "name": "python"
    },
    "accelerator": "GPU",
    "gpuClass": "standard"
  },
  "cells": [
    {
      "cell_type": "markdown",
      "metadata": {
        "id": "view-in-github",
        "colab_type": "text"
      },
      "source": [
        "<a href=\"https://colab.research.google.com/github/Sarath-Mohan9469545/computing_lab_exp/blob/main/DNN.ipynb\" target=\"_parent\"><img src=\"https://colab.research.google.com/assets/colab-badge.svg\" alt=\"Open In Colab\"/></a>"
      ]
    },
    {
      "cell_type": "code",
      "execution_count": 1,
      "metadata": {
        "id": "NJd60ME3mTRb"
      },
      "outputs": [],
      "source": [
        "from sklearn.datasets import load_iris\n",
        "iris=load_iris()\n",
        "x=iris.data\n",
        "y=iris.target"
      ]
    },
    {
      "cell_type": "code",
      "source": [
        "from sklearn.model_selection import train_test_split\n",
        "x_train,x_test,y_train,y_test=train_test_split(x,y,test_size=0.2)"
      ],
      "metadata": {
        "id": "qtD_Ef2PnCa2"
      },
      "execution_count": 2,
      "outputs": []
    },
    {
      "cell_type": "code",
      "source": [
        "import tensorflow as tf\n",
        "from tensorflow import keras"
      ],
      "metadata": {
        "id": "g_7_PIkenUAg"
      },
      "execution_count": 3,
      "outputs": []
    },
    {
      "cell_type": "code",
      "source": [
        "ml=keras.models.Sequential()"
      ],
      "metadata": {
        "id": "JQUebJVwnZ6j"
      },
      "execution_count": 45,
      "outputs": []
    },
    {
      "cell_type": "code",
      "source": [
        "ml.add(keras.layers.Dense(units=5,activation=\"relu\",input_dim=x.shape[1]))\n"
      ],
      "metadata": {
        "id": "vFPuwszAnlRj"
      },
      "execution_count": 46,
      "outputs": []
    },
    {
      "cell_type": "code",
      "source": [
        "ml.add(keras.layers.Dense(units=250,activation=\"relu\"))\n",
        "ml.add(keras.layers.BatchNormalization(axis=-1,momentum=0.99,epsilon=0.001))\n",
        "ml.add(keras.layers.Dropout(0.8))\n",
        "ml.add(keras.layers.Dense(units=100,activation=\"relu\"))\n",
        "ml.add(keras.layers.BatchNormalization(axis=-1,momentum=0.99,epsilon=0.001))\n",
        "ml.add(keras.layers.Dropout(0.8))\n",
        "ml.add(keras.layers.Dense(units=3,activation=\"sigmoid\"))\n",
        "ml.summary()\n",
        "callback = tf.keras.callbacks.EarlyStopping(monitor='accuracy', patience=50)"
      ],
      "metadata": {
        "colab": {
          "base_uri": "https://localhost:8080/"
        },
        "id": "Zfwsz_tWn0dX",
        "outputId": "3febd2e1-dcc4-495c-e6ba-85f4ca7650c8"
      },
      "execution_count": 47,
      "outputs": [
        {
          "output_type": "stream",
          "name": "stdout",
          "text": [
            "Model: \"sequential_8\"\n",
            "_________________________________________________________________\n",
            " Layer (type)                Output Shape              Param #   \n",
            "=================================================================\n",
            " dense_32 (Dense)            (None, 5)                 25        \n",
            "                                                                 \n",
            " dense_33 (Dense)            (None, 250)               1500      \n",
            "                                                                 \n",
            " batch_normalization_16 (Bat  (None, 250)              1000      \n",
            " chNormalization)                                                \n",
            "                                                                 \n",
            " dropout_16 (Dropout)        (None, 250)               0         \n",
            "                                                                 \n",
            " dense_34 (Dense)            (None, 100)               25100     \n",
            "                                                                 \n",
            " batch_normalization_17 (Bat  (None, 100)              400       \n",
            " chNormalization)                                                \n",
            "                                                                 \n",
            " dropout_17 (Dropout)        (None, 100)               0         \n",
            "                                                                 \n",
            " dense_35 (Dense)            (None, 3)                 303       \n",
            "                                                                 \n",
            "=================================================================\n",
            "Total params: 28,328\n",
            "Trainable params: 27,628\n",
            "Non-trainable params: 700\n",
            "_________________________________________________________________\n"
          ]
        }
      ]
    },
    {
      "cell_type": "code",
      "source": [
        "ml.compile(loss=\"sparse_categorical_crossentropy\",optimizer=\"SGD\",metrics=[\"accuracy\"])"
      ],
      "metadata": {
        "id": "gBwtRTTwodLE"
      },
      "execution_count": 48,
      "outputs": []
    },
    {
      "cell_type": "code",
      "source": [
        "ml.fit(x_train,y_train,epochs=200,callbacks=[callback])"
      ],
      "metadata": {
        "colab": {
          "base_uri": "https://localhost:8080/"
        },
        "id": "-UWE6dihouS5",
        "outputId": "ed8339a3-a101-44a0-dac1-42975a99e8a2"
      },
      "execution_count": 49,
      "outputs": [
        {
          "output_type": "stream",
          "name": "stdout",
          "text": [
            "Epoch 1/200\n",
            "4/4 [==============================] - 1s 5ms/step - loss: 2.9458 - accuracy: 0.3000\n",
            "Epoch 2/200\n",
            "4/4 [==============================] - 0s 4ms/step - loss: 1.7913 - accuracy: 0.4083\n",
            "Epoch 3/200\n",
            "4/4 [==============================] - 0s 5ms/step - loss: 1.8291 - accuracy: 0.4917\n",
            "Epoch 4/200\n",
            "4/4 [==============================] - 0s 5ms/step - loss: 1.2672 - accuracy: 0.5917\n",
            "Epoch 5/200\n",
            "4/4 [==============================] - 0s 4ms/step - loss: 1.6434 - accuracy: 0.5250\n",
            "Epoch 6/200\n",
            "4/4 [==============================] - 0s 5ms/step - loss: 0.9008 - accuracy: 0.7000\n",
            "Epoch 7/200\n",
            "4/4 [==============================] - 0s 4ms/step - loss: 1.0029 - accuracy: 0.7167\n",
            "Epoch 8/200\n",
            "4/4 [==============================] - 0s 4ms/step - loss: 1.1649 - accuracy: 0.6000\n",
            "Epoch 9/200\n",
            "4/4 [==============================] - 0s 4ms/step - loss: 0.8622 - accuracy: 0.6917\n",
            "Epoch 10/200\n",
            "4/4 [==============================] - 0s 4ms/step - loss: 0.9485 - accuracy: 0.6833\n",
            "Epoch 11/200\n",
            "4/4 [==============================] - 0s 6ms/step - loss: 0.7960 - accuracy: 0.7167\n",
            "Epoch 12/200\n",
            "4/4 [==============================] - 0s 4ms/step - loss: 0.8395 - accuracy: 0.7250\n",
            "Epoch 13/200\n",
            "4/4 [==============================] - 0s 4ms/step - loss: 0.7157 - accuracy: 0.7667\n",
            "Epoch 14/200\n",
            "4/4 [==============================] - 0s 4ms/step - loss: 0.4995 - accuracy: 0.8333\n",
            "Epoch 15/200\n",
            "4/4 [==============================] - 0s 4ms/step - loss: 0.6417 - accuracy: 0.8167\n",
            "Epoch 16/200\n",
            "4/4 [==============================] - 0s 4ms/step - loss: 0.5684 - accuracy: 0.8083\n",
            "Epoch 17/200\n",
            "4/4 [==============================] - 0s 4ms/step - loss: 0.5582 - accuracy: 0.7833\n",
            "Epoch 18/200\n",
            "4/4 [==============================] - 0s 4ms/step - loss: 0.6904 - accuracy: 0.7833\n",
            "Epoch 19/200\n",
            "4/4 [==============================] - 0s 5ms/step - loss: 0.5068 - accuracy: 0.7750\n",
            "Epoch 20/200\n",
            "4/4 [==============================] - 0s 5ms/step - loss: 0.6656 - accuracy: 0.7833\n",
            "Epoch 21/200\n",
            "4/4 [==============================] - 0s 4ms/step - loss: 0.4623 - accuracy: 0.8167\n",
            "Epoch 22/200\n",
            "4/4 [==============================] - 0s 8ms/step - loss: 0.3989 - accuracy: 0.8333\n",
            "Epoch 23/200\n",
            "4/4 [==============================] - 0s 6ms/step - loss: 0.6138 - accuracy: 0.7333\n",
            "Epoch 24/200\n",
            "4/4 [==============================] - 0s 10ms/step - loss: 0.6921 - accuracy: 0.7000\n",
            "Epoch 25/200\n",
            "4/4 [==============================] - 0s 6ms/step - loss: 0.4491 - accuracy: 0.8417\n",
            "Epoch 26/200\n",
            "4/4 [==============================] - 0s 6ms/step - loss: 0.3705 - accuracy: 0.8750\n",
            "Epoch 27/200\n",
            "4/4 [==============================] - 0s 6ms/step - loss: 0.4791 - accuracy: 0.8333\n",
            "Epoch 28/200\n",
            "4/4 [==============================] - 0s 5ms/step - loss: 0.3879 - accuracy: 0.8250\n",
            "Epoch 29/200\n",
            "4/4 [==============================] - 0s 7ms/step - loss: 0.4900 - accuracy: 0.7583\n",
            "Epoch 30/200\n",
            "4/4 [==============================] - 0s 5ms/step - loss: 0.5079 - accuracy: 0.8000\n",
            "Epoch 31/200\n",
            "4/4 [==============================] - 0s 7ms/step - loss: 0.4173 - accuracy: 0.8583\n",
            "Epoch 32/200\n",
            "4/4 [==============================] - 0s 5ms/step - loss: 0.4298 - accuracy: 0.8333\n",
            "Epoch 33/200\n",
            "4/4 [==============================] - 0s 5ms/step - loss: 0.5020 - accuracy: 0.7667\n",
            "Epoch 34/200\n",
            "4/4 [==============================] - 0s 5ms/step - loss: 0.3886 - accuracy: 0.8500\n",
            "Epoch 35/200\n",
            "4/4 [==============================] - 0s 6ms/step - loss: 0.3539 - accuracy: 0.8667\n",
            "Epoch 36/200\n",
            "4/4 [==============================] - 0s 6ms/step - loss: 0.4012 - accuracy: 0.8500\n",
            "Epoch 37/200\n",
            "4/4 [==============================] - 0s 5ms/step - loss: 0.5181 - accuracy: 0.7833\n",
            "Epoch 38/200\n",
            "4/4 [==============================] - 0s 5ms/step - loss: 0.3760 - accuracy: 0.8500\n",
            "Epoch 39/200\n",
            "4/4 [==============================] - 0s 5ms/step - loss: 0.3452 - accuracy: 0.8500\n",
            "Epoch 40/200\n",
            "4/4 [==============================] - 0s 5ms/step - loss: 0.4416 - accuracy: 0.8250\n",
            "Epoch 41/200\n",
            "4/4 [==============================] - 0s 9ms/step - loss: 0.3759 - accuracy: 0.8583\n",
            "Epoch 42/200\n",
            "4/4 [==============================] - 0s 8ms/step - loss: 0.4442 - accuracy: 0.8333\n",
            "Epoch 43/200\n",
            "4/4 [==============================] - 0s 7ms/step - loss: 0.4454 - accuracy: 0.8167\n",
            "Epoch 44/200\n",
            "4/4 [==============================] - 0s 9ms/step - loss: 0.3719 - accuracy: 0.8583\n",
            "Epoch 45/200\n",
            "4/4 [==============================] - 0s 5ms/step - loss: 0.3772 - accuracy: 0.8667\n",
            "Epoch 46/200\n",
            "4/4 [==============================] - 0s 6ms/step - loss: 0.4040 - accuracy: 0.8583\n",
            "Epoch 47/200\n",
            "4/4 [==============================] - 0s 6ms/step - loss: 0.4949 - accuracy: 0.8333\n",
            "Epoch 48/200\n",
            "4/4 [==============================] - 0s 6ms/step - loss: 0.3324 - accuracy: 0.8333\n",
            "Epoch 49/200\n",
            "4/4 [==============================] - 0s 5ms/step - loss: 0.3405 - accuracy: 0.8500\n",
            "Epoch 50/200\n",
            "4/4 [==============================] - 0s 6ms/step - loss: 0.2150 - accuracy: 0.9333\n",
            "Epoch 51/200\n",
            "4/4 [==============================] - 0s 6ms/step - loss: 0.2807 - accuracy: 0.8833\n",
            "Epoch 52/200\n",
            "4/4 [==============================] - 0s 8ms/step - loss: 0.3619 - accuracy: 0.8333\n",
            "Epoch 53/200\n",
            "4/4 [==============================] - 0s 8ms/step - loss: 0.2811 - accuracy: 0.8667\n",
            "Epoch 54/200\n",
            "4/4 [==============================] - 0s 6ms/step - loss: 0.3864 - accuracy: 0.8750\n",
            "Epoch 55/200\n",
            "4/4 [==============================] - 0s 6ms/step - loss: 0.2595 - accuracy: 0.8833\n",
            "Epoch 56/200\n",
            "4/4 [==============================] - 0s 6ms/step - loss: 0.4245 - accuracy: 0.8333\n",
            "Epoch 57/200\n",
            "4/4 [==============================] - 0s 8ms/step - loss: 0.2703 - accuracy: 0.8917\n",
            "Epoch 58/200\n",
            "4/4 [==============================] - 0s 6ms/step - loss: 0.2063 - accuracy: 0.9250\n",
            "Epoch 59/200\n",
            "4/4 [==============================] - 0s 8ms/step - loss: 0.3695 - accuracy: 0.8583\n",
            "Epoch 60/200\n",
            "4/4 [==============================] - 0s 7ms/step - loss: 0.1696 - accuracy: 0.9083\n",
            "Epoch 61/200\n",
            "4/4 [==============================] - 0s 5ms/step - loss: 0.4277 - accuracy: 0.8333\n",
            "Epoch 62/200\n",
            "4/4 [==============================] - 0s 8ms/step - loss: 0.3430 - accuracy: 0.8833\n",
            "Epoch 63/200\n",
            "4/4 [==============================] - 0s 7ms/step - loss: 0.2804 - accuracy: 0.9000\n",
            "Epoch 64/200\n",
            "4/4 [==============================] - 0s 7ms/step - loss: 0.3392 - accuracy: 0.8500\n",
            "Epoch 65/200\n",
            "4/4 [==============================] - 0s 6ms/step - loss: 0.2522 - accuracy: 0.9083\n",
            "Epoch 66/200\n",
            "4/4 [==============================] - 0s 10ms/step - loss: 0.2754 - accuracy: 0.9000\n",
            "Epoch 67/200\n",
            "4/4 [==============================] - 0s 8ms/step - loss: 0.2356 - accuracy: 0.9167\n",
            "Epoch 68/200\n",
            "4/4 [==============================] - 0s 7ms/step - loss: 0.3507 - accuracy: 0.8500\n",
            "Epoch 69/200\n",
            "4/4 [==============================] - 0s 9ms/step - loss: 0.2850 - accuracy: 0.8917\n",
            "Epoch 70/200\n",
            "4/4 [==============================] - 0s 7ms/step - loss: 0.2791 - accuracy: 0.8500\n",
            "Epoch 71/200\n",
            "4/4 [==============================] - 0s 6ms/step - loss: 0.3618 - accuracy: 0.8333\n",
            "Epoch 72/200\n",
            "4/4 [==============================] - 0s 5ms/step - loss: 0.2857 - accuracy: 0.8833\n",
            "Epoch 73/200\n",
            "4/4 [==============================] - 0s 7ms/step - loss: 0.2688 - accuracy: 0.8833\n",
            "Epoch 74/200\n",
            "4/4 [==============================] - 0s 5ms/step - loss: 0.2992 - accuracy: 0.8583\n",
            "Epoch 75/200\n",
            "4/4 [==============================] - 0s 5ms/step - loss: 0.2467 - accuracy: 0.9000\n",
            "Epoch 76/200\n",
            "4/4 [==============================] - 0s 5ms/step - loss: 0.2764 - accuracy: 0.8917\n",
            "Epoch 77/200\n",
            "4/4 [==============================] - 0s 6ms/step - loss: 0.3280 - accuracy: 0.8583\n",
            "Epoch 78/200\n",
            "4/4 [==============================] - 0s 6ms/step - loss: 0.2312 - accuracy: 0.9000\n",
            "Epoch 79/200\n",
            "4/4 [==============================] - 0s 6ms/step - loss: 0.3412 - accuracy: 0.8500\n",
            "Epoch 80/200\n",
            "4/4 [==============================] - 0s 8ms/step - loss: 0.2265 - accuracy: 0.8833\n",
            "Epoch 81/200\n",
            "4/4 [==============================] - 0s 8ms/step - loss: 0.2830 - accuracy: 0.8917\n",
            "Epoch 82/200\n",
            "4/4 [==============================] - 0s 9ms/step - loss: 0.2855 - accuracy: 0.8583\n",
            "Epoch 83/200\n",
            "4/4 [==============================] - 0s 7ms/step - loss: 0.1544 - accuracy: 0.9417\n",
            "Epoch 84/200\n",
            "4/4 [==============================] - 0s 5ms/step - loss: 0.2913 - accuracy: 0.9000\n",
            "Epoch 85/200\n",
            "4/4 [==============================] - 0s 8ms/step - loss: 0.2652 - accuracy: 0.8750\n",
            "Epoch 86/200\n",
            "4/4 [==============================] - 0s 6ms/step - loss: 0.2766 - accuracy: 0.8667\n",
            "Epoch 87/200\n",
            "4/4 [==============================] - 0s 7ms/step - loss: 0.3092 - accuracy: 0.8667\n",
            "Epoch 88/200\n",
            "4/4 [==============================] - 0s 12ms/step - loss: 0.2116 - accuracy: 0.9083\n",
            "Epoch 89/200\n",
            "4/4 [==============================] - 0s 6ms/step - loss: 0.2126 - accuracy: 0.9083\n",
            "Epoch 90/200\n",
            "4/4 [==============================] - 0s 7ms/step - loss: 0.2057 - accuracy: 0.9167\n",
            "Epoch 91/200\n",
            "4/4 [==============================] - 0s 6ms/step - loss: 0.1994 - accuracy: 0.9167\n",
            "Epoch 92/200\n",
            "4/4 [==============================] - 0s 8ms/step - loss: 0.3672 - accuracy: 0.8667\n",
            "Epoch 93/200\n",
            "4/4 [==============================] - 0s 6ms/step - loss: 0.3549 - accuracy: 0.8833\n",
            "Epoch 94/200\n",
            "4/4 [==============================] - 0s 7ms/step - loss: 0.2393 - accuracy: 0.8750\n",
            "Epoch 95/200\n",
            "4/4 [==============================] - 0s 6ms/step - loss: 0.2598 - accuracy: 0.8833\n",
            "Epoch 96/200\n",
            "4/4 [==============================] - 0s 6ms/step - loss: 0.2689 - accuracy: 0.8833\n",
            "Epoch 97/200\n",
            "4/4 [==============================] - 0s 6ms/step - loss: 0.2715 - accuracy: 0.8833\n",
            "Epoch 98/200\n",
            "4/4 [==============================] - 0s 6ms/step - loss: 0.2389 - accuracy: 0.9000\n",
            "Epoch 99/200\n",
            "4/4 [==============================] - 0s 6ms/step - loss: 0.3678 - accuracy: 0.8750\n",
            "Epoch 100/200\n",
            "4/4 [==============================] - 0s 6ms/step - loss: 0.2105 - accuracy: 0.9167\n",
            "Epoch 101/200\n",
            "4/4 [==============================] - 0s 5ms/step - loss: 0.2860 - accuracy: 0.8750\n",
            "Epoch 102/200\n",
            "4/4 [==============================] - 0s 6ms/step - loss: 0.2174 - accuracy: 0.9167\n",
            "Epoch 103/200\n",
            "4/4 [==============================] - 0s 6ms/step - loss: 0.2042 - accuracy: 0.9083\n",
            "Epoch 104/200\n",
            "4/4 [==============================] - 0s 9ms/step - loss: 0.2532 - accuracy: 0.8750\n",
            "Epoch 105/200\n",
            "4/4 [==============================] - 0s 7ms/step - loss: 0.3260 - accuracy: 0.8667\n",
            "Epoch 106/200\n",
            "4/4 [==============================] - 0s 6ms/step - loss: 0.1998 - accuracy: 0.9000\n",
            "Epoch 107/200\n",
            "4/4 [==============================] - 0s 6ms/step - loss: 0.2747 - accuracy: 0.9083\n",
            "Epoch 108/200\n",
            "4/4 [==============================] - 0s 9ms/step - loss: 0.2454 - accuracy: 0.8917\n",
            "Epoch 109/200\n",
            "4/4 [==============================] - 0s 7ms/step - loss: 0.2063 - accuracy: 0.9083\n",
            "Epoch 110/200\n",
            "4/4 [==============================] - 0s 6ms/step - loss: 0.1730 - accuracy: 0.9333\n",
            "Epoch 111/200\n",
            "4/4 [==============================] - 0s 5ms/step - loss: 0.1610 - accuracy: 0.9250\n",
            "Epoch 112/200\n",
            "4/4 [==============================] - 0s 5ms/step - loss: 0.5130 - accuracy: 0.8250\n",
            "Epoch 113/200\n",
            "4/4 [==============================] - 0s 11ms/step - loss: 0.2626 - accuracy: 0.9083\n",
            "Epoch 114/200\n",
            "4/4 [==============================] - 0s 8ms/step - loss: 0.2502 - accuracy: 0.8833\n",
            "Epoch 115/200\n",
            "4/4 [==============================] - 0s 7ms/step - loss: 0.1366 - accuracy: 0.9667\n",
            "Epoch 116/200\n",
            "4/4 [==============================] - 0s 6ms/step - loss: 0.1528 - accuracy: 0.9250\n",
            "Epoch 117/200\n",
            "4/4 [==============================] - 0s 9ms/step - loss: 0.1742 - accuracy: 0.9417\n",
            "Epoch 118/200\n",
            "4/4 [==============================] - 0s 7ms/step - loss: 0.1327 - accuracy: 0.9333\n",
            "Epoch 119/200\n",
            "4/4 [==============================] - 0s 7ms/step - loss: 0.1698 - accuracy: 0.9167\n",
            "Epoch 120/200\n",
            "4/4 [==============================] - 0s 8ms/step - loss: 0.1739 - accuracy: 0.9167\n",
            "Epoch 121/200\n",
            "4/4 [==============================] - 0s 7ms/step - loss: 0.2340 - accuracy: 0.8917\n",
            "Epoch 122/200\n",
            "4/4 [==============================] - 0s 9ms/step - loss: 0.1046 - accuracy: 0.9750\n",
            "Epoch 123/200\n",
            "4/4 [==============================] - 0s 9ms/step - loss: 0.1839 - accuracy: 0.9250\n",
            "Epoch 124/200\n",
            "4/4 [==============================] - 0s 9ms/step - loss: 0.2385 - accuracy: 0.9000\n",
            "Epoch 125/200\n",
            "4/4 [==============================] - 0s 6ms/step - loss: 0.3109 - accuracy: 0.8500\n",
            "Epoch 126/200\n",
            "4/4 [==============================] - 0s 6ms/step - loss: 0.1437 - accuracy: 0.9417\n",
            "Epoch 127/200\n",
            "4/4 [==============================] - 0s 7ms/step - loss: 0.1914 - accuracy: 0.9417\n",
            "Epoch 128/200\n",
            "4/4 [==============================] - 0s 5ms/step - loss: 0.1781 - accuracy: 0.9333\n",
            "Epoch 129/200\n",
            "4/4 [==============================] - 0s 5ms/step - loss: 0.1938 - accuracy: 0.9250\n",
            "Epoch 130/200\n",
            "4/4 [==============================] - 0s 4ms/step - loss: 0.1832 - accuracy: 0.9417\n",
            "Epoch 131/200\n",
            "4/4 [==============================] - 0s 4ms/step - loss: 0.1495 - accuracy: 0.9417\n",
            "Epoch 132/200\n",
            "4/4 [==============================] - 0s 4ms/step - loss: 0.1769 - accuracy: 0.9333\n",
            "Epoch 133/200\n",
            "4/4 [==============================] - 0s 4ms/step - loss: 0.4444 - accuracy: 0.8417\n",
            "Epoch 134/200\n",
            "4/4 [==============================] - 0s 5ms/step - loss: 0.1527 - accuracy: 0.9333\n",
            "Epoch 135/200\n",
            "4/4 [==============================] - 0s 7ms/step - loss: 0.1912 - accuracy: 0.9417\n",
            "Epoch 136/200\n",
            "4/4 [==============================] - 0s 6ms/step - loss: 0.1562 - accuracy: 0.9333\n",
            "Epoch 137/200\n",
            "4/4 [==============================] - 0s 5ms/step - loss: 0.1922 - accuracy: 0.9250\n",
            "Epoch 138/200\n",
            "4/4 [==============================] - 0s 4ms/step - loss: 0.1306 - accuracy: 0.9667\n",
            "Epoch 139/200\n",
            "4/4 [==============================] - 0s 4ms/step - loss: 0.1808 - accuracy: 0.9250\n",
            "Epoch 140/200\n",
            "4/4 [==============================] - 0s 4ms/step - loss: 0.1563 - accuracy: 0.9000\n",
            "Epoch 141/200\n",
            "4/4 [==============================] - 0s 4ms/step - loss: 0.1309 - accuracy: 0.9667\n",
            "Epoch 142/200\n",
            "4/4 [==============================] - 0s 4ms/step - loss: 0.2161 - accuracy: 0.9000\n",
            "Epoch 143/200\n",
            "4/4 [==============================] - 0s 4ms/step - loss: 0.1862 - accuracy: 0.9417\n",
            "Epoch 144/200\n",
            "4/4 [==============================] - 0s 5ms/step - loss: 0.1254 - accuracy: 0.9583\n",
            "Epoch 145/200\n",
            "4/4 [==============================] - 0s 5ms/step - loss: 0.1867 - accuracy: 0.9083\n",
            "Epoch 146/200\n",
            "4/4 [==============================] - 0s 5ms/step - loss: 0.2411 - accuracy: 0.9000\n",
            "Epoch 147/200\n",
            "4/4 [==============================] - 0s 7ms/step - loss: 0.1412 - accuracy: 0.9500\n",
            "Epoch 148/200\n",
            "4/4 [==============================] - 0s 4ms/step - loss: 0.1586 - accuracy: 0.9250\n",
            "Epoch 149/200\n",
            "4/4 [==============================] - 0s 6ms/step - loss: 0.0623 - accuracy: 0.9917\n",
            "Epoch 150/200\n",
            "4/4 [==============================] - 0s 5ms/step - loss: 0.0904 - accuracy: 0.9667\n",
            "Epoch 151/200\n",
            "4/4 [==============================] - 0s 5ms/step - loss: 0.1781 - accuracy: 0.9417\n",
            "Epoch 152/200\n",
            "4/4 [==============================] - 0s 5ms/step - loss: 0.1826 - accuracy: 0.9083\n",
            "Epoch 153/200\n",
            "4/4 [==============================] - 0s 4ms/step - loss: 0.1640 - accuracy: 0.9417\n",
            "Epoch 154/200\n",
            "4/4 [==============================] - 0s 4ms/step - loss: 0.1748 - accuracy: 0.9167\n",
            "Epoch 155/200\n",
            "4/4 [==============================] - 0s 4ms/step - loss: 0.1384 - accuracy: 0.9583\n",
            "Epoch 156/200\n",
            "4/4 [==============================] - 0s 4ms/step - loss: 0.1311 - accuracy: 0.9583\n",
            "Epoch 157/200\n",
            "4/4 [==============================] - 0s 4ms/step - loss: 0.1752 - accuracy: 0.9250\n",
            "Epoch 158/200\n",
            "4/4 [==============================] - 0s 5ms/step - loss: 0.1413 - accuracy: 0.9333\n",
            "Epoch 159/200\n",
            "4/4 [==============================] - 0s 5ms/step - loss: 0.2381 - accuracy: 0.9083\n",
            "Epoch 160/200\n",
            "4/4 [==============================] - 0s 4ms/step - loss: 0.1067 - accuracy: 0.9667\n",
            "Epoch 161/200\n",
            "4/4 [==============================] - 0s 4ms/step - loss: 0.1603 - accuracy: 0.9583\n",
            "Epoch 162/200\n",
            "4/4 [==============================] - 0s 4ms/step - loss: 0.1886 - accuracy: 0.9167\n",
            "Epoch 163/200\n",
            "4/4 [==============================] - 0s 5ms/step - loss: 0.1811 - accuracy: 0.9417\n",
            "Epoch 164/200\n",
            "4/4 [==============================] - 0s 5ms/step - loss: 0.2079 - accuracy: 0.8917\n",
            "Epoch 165/200\n",
            "4/4 [==============================] - 0s 5ms/step - loss: 0.1254 - accuracy: 0.9750\n",
            "Epoch 166/200\n",
            "4/4 [==============================] - 0s 5ms/step - loss: 0.2154 - accuracy: 0.9083\n",
            "Epoch 167/200\n",
            "4/4 [==============================] - 0s 4ms/step - loss: 0.1372 - accuracy: 0.9333\n",
            "Epoch 168/200\n",
            "4/4 [==============================] - 0s 5ms/step - loss: 0.1712 - accuracy: 0.9333\n",
            "Epoch 169/200\n",
            "4/4 [==============================] - 0s 5ms/step - loss: 0.2035 - accuracy: 0.9333\n",
            "Epoch 170/200\n",
            "4/4 [==============================] - 0s 4ms/step - loss: 0.1659 - accuracy: 0.9333\n",
            "Epoch 171/200\n",
            "4/4 [==============================] - 0s 5ms/step - loss: 0.1815 - accuracy: 0.9417\n",
            "Epoch 172/200\n",
            "4/4 [==============================] - 0s 5ms/step - loss: 0.1479 - accuracy: 0.9500\n",
            "Epoch 173/200\n",
            "4/4 [==============================] - 0s 5ms/step - loss: 0.1537 - accuracy: 0.9417\n",
            "Epoch 174/200\n",
            "4/4 [==============================] - 0s 5ms/step - loss: 0.1624 - accuracy: 0.9500\n",
            "Epoch 175/200\n",
            "4/4 [==============================] - 0s 4ms/step - loss: 0.1657 - accuracy: 0.9250\n",
            "Epoch 176/200\n",
            "4/4 [==============================] - 0s 4ms/step - loss: 0.2613 - accuracy: 0.9250\n",
            "Epoch 177/200\n",
            "4/4 [==============================] - 0s 4ms/step - loss: 0.1210 - accuracy: 0.9500\n",
            "Epoch 178/200\n",
            "4/4 [==============================] - 0s 4ms/step - loss: 0.1682 - accuracy: 0.9250\n",
            "Epoch 179/200\n",
            "4/4 [==============================] - 0s 4ms/step - loss: 0.2921 - accuracy: 0.9417\n",
            "Epoch 180/200\n",
            "4/4 [==============================] - 0s 6ms/step - loss: 0.2023 - accuracy: 0.9000\n",
            "Epoch 181/200\n",
            "4/4 [==============================] - 0s 5ms/step - loss: 0.1645 - accuracy: 0.9333\n",
            "Epoch 182/200\n",
            "4/4 [==============================] - 0s 5ms/step - loss: 0.0950 - accuracy: 0.9667\n",
            "Epoch 183/200\n",
            "4/4 [==============================] - 0s 5ms/step - loss: 0.2055 - accuracy: 0.9167\n",
            "Epoch 184/200\n",
            "4/4 [==============================] - 0s 5ms/step - loss: 0.1511 - accuracy: 0.9250\n",
            "Epoch 185/200\n",
            "4/4 [==============================] - 0s 7ms/step - loss: 0.1092 - accuracy: 0.9583\n",
            "Epoch 186/200\n",
            "4/4 [==============================] - 0s 5ms/step - loss: 0.1683 - accuracy: 0.9333\n",
            "Epoch 187/200\n",
            "4/4 [==============================] - 0s 5ms/step - loss: 0.1660 - accuracy: 0.9417\n",
            "Epoch 188/200\n",
            "4/4 [==============================] - 0s 4ms/step - loss: 0.1191 - accuracy: 0.9500\n",
            "Epoch 189/200\n",
            "4/4 [==============================] - 0s 5ms/step - loss: 0.3569 - accuracy: 0.8750\n",
            "Epoch 190/200\n",
            "4/4 [==============================] - 0s 5ms/step - loss: 0.1063 - accuracy: 0.9750\n",
            "Epoch 191/200\n",
            "4/4 [==============================] - 0s 4ms/step - loss: 0.2087 - accuracy: 0.9333\n",
            "Epoch 192/200\n",
            "4/4 [==============================] - 0s 5ms/step - loss: 0.1276 - accuracy: 0.9417\n",
            "Epoch 193/200\n",
            "4/4 [==============================] - 0s 5ms/step - loss: 0.1693 - accuracy: 0.9417\n",
            "Epoch 194/200\n",
            "4/4 [==============================] - 0s 5ms/step - loss: 0.2313 - accuracy: 0.9083\n",
            "Epoch 195/200\n",
            "4/4 [==============================] - 0s 5ms/step - loss: 0.1114 - accuracy: 0.9667\n",
            "Epoch 196/200\n",
            "4/4 [==============================] - 0s 5ms/step - loss: 0.1700 - accuracy: 0.9417\n",
            "Epoch 197/200\n",
            "4/4 [==============================] - 0s 5ms/step - loss: 0.2664 - accuracy: 0.9083\n",
            "Epoch 198/200\n",
            "4/4 [==============================] - 0s 5ms/step - loss: 0.0959 - accuracy: 0.9750\n",
            "Epoch 199/200\n",
            "4/4 [==============================] - 0s 5ms/step - loss: 0.0869 - accuracy: 0.9500\n"
          ]
        },
        {
          "output_type": "execute_result",
          "data": {
            "text/plain": [
              "<keras.callbacks.History at 0x7fcf554ff0d0>"
            ]
          },
          "metadata": {},
          "execution_count": 49
        }
      ]
    },
    {
      "cell_type": "code",
      "source": [
        "test_loss,test_accuracy=ml.evaluate(x_test,y_test)\n",
        "print(test_loss,test_accuracy)"
      ],
      "metadata": {
        "colab": {
          "base_uri": "https://localhost:8080/"
        },
        "id": "6DNe8pe8o4cu",
        "outputId": "ea5c8e99-10a0-4f9d-8f7b-b1fbd0a6c027"
      },
      "execution_count": 50,
      "outputs": [
        {
          "output_type": "stream",
          "name": "stdout",
          "text": [
            "1/1 [==============================] - 0s 129ms/step - loss: 0.0511 - accuracy: 0.9667\n",
            "0.051053985953330994 0.9666666388511658\n"
          ]
        }
      ]
    },
    {
      "cell_type": "code",
      "source": [
        "ml.save('/content')"
      ],
      "metadata": {
        "colab": {
          "base_uri": "https://localhost:8080/"
        },
        "id": "L74Lq6ABdlmY",
        "outputId": "b5030fb5-ba9b-4cc0-e5d1-8e0da0ea653f"
      },
      "execution_count": null,
      "outputs": [
        {
          "output_type": "stream",
          "name": "stdout",
          "text": [
            "INFO:tensorflow:Assets written to: /content/assets\n"
          ]
        }
      ]
    },
    {
      "cell_type": "code",
      "source": [
        "from sklearn.datasets import load_wine\n",
        "wine=load_wine()\n",
        "x1=wine.data\n",
        "y1=wine.target"
      ],
      "metadata": {
        "id": "970DJ34wpF7-"
      },
      "execution_count": null,
      "outputs": []
    },
    {
      "cell_type": "code",
      "source": [
        "x1"
      ],
      "metadata": {
        "colab": {
          "base_uri": "https://localhost:8080/"
        },
        "id": "47DQhXG_y_6-",
        "outputId": "bb367dcf-ba6f-41b0-f943-1130ea697ea5"
      },
      "execution_count": null,
      "outputs": [
        {
          "output_type": "execute_result",
          "data": {
            "text/plain": [
              "array([[1.423e+01, 1.710e+00, 2.430e+00, ..., 1.040e+00, 3.920e+00,\n",
              "        1.065e+03],\n",
              "       [1.320e+01, 1.780e+00, 2.140e+00, ..., 1.050e+00, 3.400e+00,\n",
              "        1.050e+03],\n",
              "       [1.316e+01, 2.360e+00, 2.670e+00, ..., 1.030e+00, 3.170e+00,\n",
              "        1.185e+03],\n",
              "       ...,\n",
              "       [1.327e+01, 4.280e+00, 2.260e+00, ..., 5.900e-01, 1.560e+00,\n",
              "        8.350e+02],\n",
              "       [1.317e+01, 2.590e+00, 2.370e+00, ..., 6.000e-01, 1.620e+00,\n",
              "        8.400e+02],\n",
              "       [1.413e+01, 4.100e+00, 2.740e+00, ..., 6.100e-01, 1.600e+00,\n",
              "        5.600e+02]])"
            ]
          },
          "metadata": {},
          "execution_count": 63
        }
      ]
    },
    {
      "cell_type": "code",
      "source": [
        "y1"
      ],
      "metadata": {
        "colab": {
          "base_uri": "https://localhost:8080/"
        },
        "id": "XPRzlsbmzCAS",
        "outputId": "55657998-9086-4cd5-d45c-869958e5a441"
      },
      "execution_count": null,
      "outputs": [
        {
          "output_type": "execute_result",
          "data": {
            "text/plain": [
              "array([0, 0, 0, 0, 0, 0, 0, 0, 0, 0, 0, 0, 0, 0, 0, 0, 0, 0, 0, 0, 0, 0,\n",
              "       0, 0, 0, 0, 0, 0, 0, 0, 0, 0, 0, 0, 0, 0, 0, 0, 0, 0, 0, 0, 0, 0,\n",
              "       0, 0, 0, 0, 0, 0, 0, 0, 0, 0, 0, 0, 0, 0, 0, 1, 1, 1, 1, 1, 1, 1,\n",
              "       1, 1, 1, 1, 1, 1, 1, 1, 1, 1, 1, 1, 1, 1, 1, 1, 1, 1, 1, 1, 1, 1,\n",
              "       1, 1, 1, 1, 1, 1, 1, 1, 1, 1, 1, 1, 1, 1, 1, 1, 1, 1, 1, 1, 1, 1,\n",
              "       1, 1, 1, 1, 1, 1, 1, 1, 1, 1, 1, 1, 1, 1, 1, 1, 1, 1, 1, 1, 2, 2,\n",
              "       2, 2, 2, 2, 2, 2, 2, 2, 2, 2, 2, 2, 2, 2, 2, 2, 2, 2, 2, 2, 2, 2,\n",
              "       2, 2, 2, 2, 2, 2, 2, 2, 2, 2, 2, 2, 2, 2, 2, 2, 2, 2, 2, 2, 2, 2,\n",
              "       2, 2])"
            ]
          },
          "metadata": {},
          "execution_count": 64
        }
      ]
    },
    {
      "cell_type": "code",
      "source": [
        "from sklearn.model_selection import train_test_split\n",
        "x_train,x_test,y_train,y_test=train_test_split(x1,y1,test_size=0.2)"
      ],
      "metadata": {
        "id": "A6x_9t15zDb9"
      },
      "execution_count": null,
      "outputs": []
    },
    {
      "cell_type": "code",
      "source": [
        "ml=keras.models.Sequential()"
      ],
      "metadata": {
        "id": "Ai8KOFCMzIGl"
      },
      "execution_count": null,
      "outputs": []
    },
    {
      "cell_type": "code",
      "source": [
        "ml.add(keras.layers.Dense(units=5,activation=\"relu\",input_dim=x1.shape[1]))"
      ],
      "metadata": {
        "id": "SfFPsLxQzV0Z"
      },
      "execution_count": null,
      "outputs": []
    },
    {
      "cell_type": "code",
      "source": [
        "ml.add(keras.layers.Dense(units=6,activation=\"relu\"))\n",
        "ml.add(keras.layers.Dense(units=5,activation=\"relu\"))\n",
        "ml.add(keras.layers.Dense(units=4,activation=\"relu\"))\n",
        "ml.add(keras.layers.Dense(units=3,activation=\"sigmoid\"))\n",
        "ml.summary()"
      ],
      "metadata": {
        "colab": {
          "base_uri": "https://localhost:8080/"
        },
        "id": "pBMQQgtkzvxy",
        "outputId": "880334b4-879b-4a47-d249-aacd7fd6bc59"
      },
      "execution_count": null,
      "outputs": [
        {
          "output_type": "stream",
          "name": "stdout",
          "text": [
            "Model: \"sequential_7\"\n",
            "_________________________________________________________________\n",
            " Layer (type)                Output Shape              Param #   \n",
            "=================================================================\n",
            " dense_31 (Dense)            (None, 5)                 70        \n",
            "                                                                 \n",
            " dense_32 (Dense)            (None, 6)                 36        \n",
            "                                                                 \n",
            " dense_33 (Dense)            (None, 5)                 35        \n",
            "                                                                 \n",
            " dense_34 (Dense)            (None, 4)                 24        \n",
            "                                                                 \n",
            " dense_35 (Dense)            (None, 3)                 15        \n",
            "                                                                 \n",
            "=================================================================\n",
            "Total params: 180\n",
            "Trainable params: 180\n",
            "Non-trainable params: 0\n",
            "_________________________________________________________________\n"
          ]
        }
      ]
    },
    {
      "cell_type": "code",
      "source": [
        "ml.add(keras.layers.Dense(units=10,activation=\"relu\"))\n",
        "ml.add(keras.layers.BatchNormalization(axis=-1,momentum=0.99,epsilon=0.001))\n",
        "ml.add(keras.layers.Dropout(0.8))\n",
        "ml.add(keras.layers.Dense(units=7,activation=\"relu\"))\n",
        "ml.add(keras.layers.BatchNormalization(axis=-1,momentum=0.99,epsilon=0.001))\n",
        "ml.add(keras.layers.Dropout(0.8))\n",
        "ml.add(keras.layers.Dense(units=3,activation=\"sigmoid\"))\n",
        "ml.summary()\n",
        "callback = tf.keras.callbacks.EarlyStopping(monitor='accuracy', patience=3)"
      ],
      "metadata": {
        "colab": {
          "base_uri": "https://localhost:8080/"
        },
        "outputId": "07e3cc1e-bc6d-4ce7-831f-62bb6dced774",
        "id": "7FxAFDLMd5oy"
      },
      "execution_count": null,
      "outputs": [
        {
          "output_type": "stream",
          "name": "stdout",
          "text": [
            "Model: \"sequential_7\"\n",
            "_________________________________________________________________\n",
            " Layer (type)                Output Shape              Param #   \n",
            "=================================================================\n",
            " dense_31 (Dense)            (None, 5)                 70        \n",
            "                                                                 \n",
            " dense_32 (Dense)            (None, 6)                 36        \n",
            "                                                                 \n",
            " dense_33 (Dense)            (None, 5)                 35        \n",
            "                                                                 \n",
            " dense_34 (Dense)            (None, 4)                 24        \n",
            "                                                                 \n",
            " dense_35 (Dense)            (None, 3)                 15        \n",
            "                                                                 \n",
            " dense_36 (Dense)            (None, 10)                40        \n",
            "                                                                 \n",
            " batch_normalization_12 (Bat  (None, 10)               40        \n",
            " chNormalization)                                                \n",
            "                                                                 \n",
            " dropout_16 (Dropout)        (None, 10)                0         \n",
            "                                                                 \n",
            " dense_37 (Dense)            (None, 7)                 77        \n",
            "                                                                 \n",
            " batch_normalization_13 (Bat  (None, 7)                28        \n",
            " chNormalization)                                                \n",
            "                                                                 \n",
            " dropout_17 (Dropout)        (None, 7)                 0         \n",
            "                                                                 \n",
            " dense_38 (Dense)            (None, 3)                 24        \n",
            "                                                                 \n",
            "=================================================================\n",
            "Total params: 389\n",
            "Trainable params: 355\n",
            "Non-trainable params: 34\n",
            "_________________________________________________________________\n"
          ]
        }
      ]
    },
    {
      "cell_type": "code",
      "source": [
        "x1.shape\n"
      ],
      "metadata": {
        "colab": {
          "base_uri": "https://localhost:8080/"
        },
        "id": "wzEPgN4a0IJn",
        "outputId": "651ce252-afe8-4fb4-96e6-f681656bf2c6"
      },
      "execution_count": null,
      "outputs": [
        {
          "output_type": "execute_result",
          "data": {
            "text/plain": [
              "(178, 13)"
            ]
          },
          "metadata": {},
          "execution_count": 70
        }
      ]
    },
    {
      "cell_type": "code",
      "source": [
        "ml.compile(loss=\"sparse_categorical_crossentropy\",optimizer=\"adam\",metrics=[\"accuracy\"])"
      ],
      "metadata": {
        "id": "u_44QVZSzxhS"
      },
      "execution_count": null,
      "outputs": []
    },
    {
      "cell_type": "code",
      "source": [
        "ml.fit(x_train,y_train,epochs=100,callbacks=[callback])"
      ],
      "metadata": {
        "colab": {
          "base_uri": "https://localhost:8080/"
        },
        "id": "Cym2DRAPz00u",
        "outputId": "c264855c-0496-4d67-abd5-09821841207c"
      },
      "execution_count": null,
      "outputs": [
        {
          "output_type": "stream",
          "name": "stdout",
          "text": [
            "Epoch 1/100\n",
            "5/5 [==============================] - 1s 5ms/step - loss: 2.0388 - accuracy: 0.3944\n",
            "Epoch 2/100\n",
            "5/5 [==============================] - 0s 5ms/step - loss: 1.7603 - accuracy: 0.3451\n",
            "Epoch 3/100\n",
            "5/5 [==============================] - 0s 5ms/step - loss: 1.3297 - accuracy: 0.4014\n",
            "Epoch 4/100\n",
            "5/5 [==============================] - 0s 5ms/step - loss: 1.7117 - accuracy: 0.3451\n",
            "Epoch 5/100\n",
            "5/5 [==============================] - 0s 5ms/step - loss: 1.5531 - accuracy: 0.3239\n",
            "Epoch 6/100\n",
            "5/5 [==============================] - 0s 4ms/step - loss: 1.3064 - accuracy: 0.3592\n"
          ]
        },
        {
          "output_type": "execute_result",
          "data": {
            "text/plain": [
              "<keras.callbacks.History at 0x7f15f7e4d850>"
            ]
          },
          "metadata": {},
          "execution_count": 72
        }
      ]
    },
    {
      "cell_type": "code",
      "source": [
        "test_loss,test_accuracy=ml.evaluate(x_test,y_test)\n",
        "print(test_loss,test_accuracy)"
      ],
      "metadata": {
        "colab": {
          "base_uri": "https://localhost:8080/"
        },
        "id": "gXVNVqE1z3c6",
        "outputId": "378082be-5393-4086-ae93-52042bf415c9"
      },
      "execution_count": null,
      "outputs": [
        {
          "output_type": "stream",
          "name": "stdout",
          "text": [
            "WARNING:tensorflow:6 out of the last 6 calls to <function Model.make_test_function.<locals>.test_function at 0x7f15f65aedd0> triggered tf.function retracing. Tracing is expensive and the excessive number of tracings could be due to (1) creating @tf.function repeatedly in a loop, (2) passing tensors with different shapes, (3) passing Python objects instead of tensors. For (1), please define your @tf.function outside of the loop. For (2), @tf.function has experimental_relax_shapes=True option that relaxes argument shapes that can avoid unnecessary retracing. For (3), please refer to https://www.tensorflow.org/guide/function#controlling_retracing and https://www.tensorflow.org/api_docs/python/tf/function for  more details.\n",
            "2/2 [==============================] - 0s 6ms/step - loss: 1.0957 - accuracy: 0.3056\n",
            "1.0956997871398926 0.3055555522441864\n"
          ]
        }
      ]
    },
    {
      "cell_type": "code",
      "source": [
        "ml.save(\"/content\")"
      ],
      "metadata": {
        "id": "Tqfk47-n1JSt",
        "colab": {
          "base_uri": "https://localhost:8080/"
        },
        "outputId": "cd0d520c-6e77-448f-ae3c-2634bf3f344c"
      },
      "execution_count": null,
      "outputs": [
        {
          "output_type": "stream",
          "name": "stdout",
          "text": [
            "INFO:tensorflow:Assets written to: /content/assets\n"
          ]
        }
      ]
    },
    {
      "cell_type": "code",
      "source": [
        ""
      ],
      "metadata": {
        "id": "ZKQNRK3FeWwy"
      },
      "execution_count": null,
      "outputs": []
    }
  ]
}