{
  "nbformat": 4,
  "nbformat_minor": 0,
  "metadata": {
    "colab": {
      "name": "forest_cover_dnn.ipynb",
      "provenance": [],
      "authorship_tag": "ABX9TyPDUN/B5FKLT90ww57y4+m7",
      "include_colab_link": true
    },
    "kernelspec": {
      "name": "python3",
      "display_name": "Python 3"
    },
    "language_info": {
      "name": "python"
    },
    "accelerator": "GPU"
  },
  "cells": [
    {
      "cell_type": "markdown",
      "metadata": {
        "id": "view-in-github",
        "colab_type": "text"
      },
      "source": [
        "<a href=\"https://colab.research.google.com/github/Sarath-Mohan9469545/computing_lab_exp/blob/main/forest_cover_dnn.ipynb\" target=\"_parent\"><img src=\"https://colab.research.google.com/assets/colab-badge.svg\" alt=\"Open In Colab\"/></a>"
      ]
    },
    {
      "cell_type": "code",
      "execution_count": 1,
      "metadata": {
        "id": "qMkP8ftqnIob"
      },
      "outputs": [],
      "source": [
        "from sklearn.datasets import fetch_covtype"
      ]
    },
    {
      "cell_type": "code",
      "source": [
        "x,y=fetch_covtype(return_X_y=True)"
      ],
      "metadata": {
        "id": "YtQWQoYbny5g"
      },
      "execution_count": 2,
      "outputs": []
    },
    {
      "cell_type": "code",
      "source": [
        "x"
      ],
      "metadata": {
        "colab": {
          "base_uri": "https://localhost:8080/"
        },
        "id": "WX0iwTuqn81o",
        "outputId": "4d92bcbb-a5a2-495f-ea3a-252b816b3dbb"
      },
      "execution_count": 3,
      "outputs": [
        {
          "output_type": "execute_result",
          "data": {
            "text/plain": [
              "array([[2.596e+03, 5.100e+01, 3.000e+00, ..., 0.000e+00, 0.000e+00,\n",
              "        0.000e+00],\n",
              "       [2.590e+03, 5.600e+01, 2.000e+00, ..., 0.000e+00, 0.000e+00,\n",
              "        0.000e+00],\n",
              "       [2.804e+03, 1.390e+02, 9.000e+00, ..., 0.000e+00, 0.000e+00,\n",
              "        0.000e+00],\n",
              "       ...,\n",
              "       [2.386e+03, 1.590e+02, 1.700e+01, ..., 0.000e+00, 0.000e+00,\n",
              "        0.000e+00],\n",
              "       [2.384e+03, 1.700e+02, 1.500e+01, ..., 0.000e+00, 0.000e+00,\n",
              "        0.000e+00],\n",
              "       [2.383e+03, 1.650e+02, 1.300e+01, ..., 0.000e+00, 0.000e+00,\n",
              "        0.000e+00]])"
            ]
          },
          "metadata": {},
          "execution_count": 3
        }
      ]
    },
    {
      "cell_type": "code",
      "source": [
        "y=y-1\n",
        "y"
      ],
      "metadata": {
        "colab": {
          "base_uri": "https://localhost:8080/"
        },
        "id": "fkzO1pm7ohX4",
        "outputId": "6b87ec87-f80f-4a98-8450-e55b710fba91"
      },
      "execution_count": 4,
      "outputs": [
        {
          "output_type": "execute_result",
          "data": {
            "text/plain": [
              "array([4, 4, 1, ..., 2, 2, 2], dtype=int32)"
            ]
          },
          "metadata": {},
          "execution_count": 4
        }
      ]
    },
    {
      "cell_type": "code",
      "source": [
        "import numpy as np"
      ],
      "metadata": {
        "id": "T5838r_6oize"
      },
      "execution_count": 5,
      "outputs": []
    },
    {
      "cell_type": "code",
      "source": [
        "print(np.shape(x))"
      ],
      "metadata": {
        "colab": {
          "base_uri": "https://localhost:8080/"
        },
        "id": "MgzYRdttooda",
        "outputId": "c906ac80-aecb-4ed9-bbb0-1e04dd98aa6d"
      },
      "execution_count": 6,
      "outputs": [
        {
          "output_type": "stream",
          "name": "stdout",
          "text": [
            "(581012, 54)\n"
          ]
        }
      ]
    },
    {
      "cell_type": "code",
      "source": [
        "print(np.shape(y))"
      ],
      "metadata": {
        "colab": {
          "base_uri": "https://localhost:8080/"
        },
        "id": "no91zWQfosWT",
        "outputId": "28f80741-c237-4d6b-bac0-2233b2656f68"
      },
      "execution_count": 7,
      "outputs": [
        {
          "output_type": "stream",
          "name": "stdout",
          "text": [
            "(581012,)\n"
          ]
        }
      ]
    },
    {
      "cell_type": "code",
      "source": [
        "from sklearn.model_selection import train_test_split\n",
        "x_train,x_test,y_train,y_test=train_test_split(x,y,test_size=0.2)"
      ],
      "metadata": {
        "id": "8DNcYfctouJl"
      },
      "execution_count": 8,
      "outputs": []
    },
    {
      "cell_type": "code",
      "source": [
        "import tensorflow as tf\n",
        "from tensorflow import keras"
      ],
      "metadata": {
        "id": "8B3zClL8pS37"
      },
      "execution_count": 9,
      "outputs": []
    },
    {
      "cell_type": "code",
      "source": [
        "n_classes=len(set(y))"
      ],
      "metadata": {
        "id": "iVMkT06DuXJ7"
      },
      "execution_count": 10,
      "outputs": []
    },
    {
      "cell_type": "code",
      "source": [
        "model = keras.models.Sequential()\n",
        "model.add(keras.layers.Dense(200, input_dim=x.shape[1], activation='relu'))\n",
        "model.add(keras.layers.Dense(150, activation='relu'))\n",
        "D = keras.layers.Dense(100, activation='relu')\n",
        "model.add(D)\n",
        "\n",
        "E = keras.layers.Dense(n_classes, activation='softmax')\n",
        "model.add(E)\n",
        "\n",
        "model.compile(loss='sparse_categorical_crossentropy',optimizer='adam', metrics=['accuracy'])\n",
        "\n",
        "print(model.summary())"
      ],
      "metadata": {
        "colab": {
          "base_uri": "https://localhost:8080/"
        },
        "id": "iYgRgCpxpblr",
        "outputId": "c9bd9720-ba11-40a7-c480-9f4c9bc27545"
      },
      "execution_count": 15,
      "outputs": [
        {
          "output_type": "stream",
          "name": "stdout",
          "text": [
            "Model: \"sequential_1\"\n",
            "_________________________________________________________________\n",
            " Layer (type)                Output Shape              Param #   \n",
            "=================================================================\n",
            " dense_4 (Dense)             (None, 200)               11000     \n",
            "                                                                 \n",
            " dense_5 (Dense)             (None, 150)               30150     \n",
            "                                                                 \n",
            " dense_6 (Dense)             (None, 100)               15100     \n",
            "                                                                 \n",
            " dense_7 (Dense)             (None, 7)                 707       \n",
            "                                                                 \n",
            "=================================================================\n",
            "Total params: 56,957\n",
            "Trainable params: 56,957\n",
            "Non-trainable params: 0\n",
            "_________________________________________________________________\n",
            "None\n"
          ]
        }
      ]
    },
    {
      "cell_type": "code",
      "source": [
        "model.fit(x_train,y_train,epochs=50,batch_size=1000)"
      ],
      "metadata": {
        "colab": {
          "base_uri": "https://localhost:8080/"
        },
        "id": "jr4gRuSEvJCZ",
        "outputId": "9399cc82-2986-4ada-c6c7-423e7bebc3c3"
      },
      "execution_count": 16,
      "outputs": [
        {
          "output_type": "stream",
          "name": "stdout",
          "text": [
            "Epoch 1/50\n",
            "465/465 [==============================] - 2s 3ms/step - loss: 7.1268 - accuracy: 0.4989\n",
            "Epoch 2/50\n",
            "465/465 [==============================] - 1s 3ms/step - loss: 1.2421 - accuracy: 0.5970\n",
            "Epoch 3/50\n",
            "465/465 [==============================] - 1s 3ms/step - loss: 1.0038 - accuracy: 0.6350\n",
            "Epoch 4/50\n",
            "465/465 [==============================] - 1s 3ms/step - loss: 0.8767 - accuracy: 0.6634\n",
            "Epoch 5/50\n",
            "465/465 [==============================] - 1s 3ms/step - loss: 0.7915 - accuracy: 0.6839\n",
            "Epoch 6/50\n",
            "465/465 [==============================] - 1s 3ms/step - loss: 0.6935 - accuracy: 0.7148\n",
            "Epoch 7/50\n",
            "465/465 [==============================] - 1s 3ms/step - loss: 0.6872 - accuracy: 0.7170\n",
            "Epoch 8/50\n",
            "465/465 [==============================] - 1s 3ms/step - loss: 0.6375 - accuracy: 0.7343\n",
            "Epoch 9/50\n",
            "465/465 [==============================] - 1s 3ms/step - loss: 0.6501 - accuracy: 0.7296\n",
            "Epoch 10/50\n",
            "465/465 [==============================] - 1s 3ms/step - loss: 0.6127 - accuracy: 0.7402\n",
            "Epoch 11/50\n",
            "465/465 [==============================] - 1s 3ms/step - loss: 0.5949 - accuracy: 0.7470\n",
            "Epoch 12/50\n",
            "465/465 [==============================] - 1s 3ms/step - loss: 0.5850 - accuracy: 0.7518\n",
            "Epoch 13/50\n",
            "465/465 [==============================] - 1s 3ms/step - loss: 0.5636 - accuracy: 0.7605\n",
            "Epoch 14/50\n",
            "465/465 [==============================] - 1s 3ms/step - loss: 0.5536 - accuracy: 0.7645\n",
            "Epoch 15/50\n",
            "465/465 [==============================] - 1s 3ms/step - loss: 0.5523 - accuracy: 0.7646\n",
            "Epoch 16/50\n",
            "465/465 [==============================] - 1s 3ms/step - loss: 0.5342 - accuracy: 0.7719\n",
            "Epoch 17/50\n",
            "465/465 [==============================] - 2s 3ms/step - loss: 0.5297 - accuracy: 0.7738\n",
            "Epoch 18/50\n",
            "465/465 [==============================] - 2s 4ms/step - loss: 0.5206 - accuracy: 0.7784\n",
            "Epoch 19/50\n",
            "465/465 [==============================] - 1s 3ms/step - loss: 0.5091 - accuracy: 0.7823\n",
            "Epoch 20/50\n",
            "465/465 [==============================] - 1s 3ms/step - loss: 0.4999 - accuracy: 0.7858\n",
            "Epoch 21/50\n",
            "465/465 [==============================] - 1s 3ms/step - loss: 0.4921 - accuracy: 0.7900\n",
            "Epoch 22/50\n",
            "465/465 [==============================] - 1s 3ms/step - loss: 0.4825 - accuracy: 0.7936\n",
            "Epoch 23/50\n",
            "465/465 [==============================] - 1s 3ms/step - loss: 0.4768 - accuracy: 0.7966\n",
            "Epoch 24/50\n",
            "465/465 [==============================] - 1s 3ms/step - loss: 0.4731 - accuracy: 0.7978\n",
            "Epoch 25/50\n",
            "465/465 [==============================] - 1s 3ms/step - loss: 0.4633 - accuracy: 0.8018\n",
            "Epoch 26/50\n",
            "465/465 [==============================] - 1s 3ms/step - loss: 0.4534 - accuracy: 0.8062\n",
            "Epoch 27/50\n",
            "465/465 [==============================] - 1s 3ms/step - loss: 0.4468 - accuracy: 0.8092\n",
            "Epoch 28/50\n",
            "465/465 [==============================] - 1s 3ms/step - loss: 0.4362 - accuracy: 0.8142\n",
            "Epoch 29/50\n",
            "465/465 [==============================] - 1s 3ms/step - loss: 0.4372 - accuracy: 0.8130\n",
            "Epoch 30/50\n",
            "465/465 [==============================] - 1s 3ms/step - loss: 0.4242 - accuracy: 0.8196\n",
            "Epoch 31/50\n",
            "465/465 [==============================] - 1s 3ms/step - loss: 0.4196 - accuracy: 0.8212\n",
            "Epoch 32/50\n",
            "465/465 [==============================] - 1s 3ms/step - loss: 0.4096 - accuracy: 0.8254\n",
            "Epoch 33/50\n",
            "465/465 [==============================] - 1s 3ms/step - loss: 0.4050 - accuracy: 0.8290\n",
            "Epoch 34/50\n",
            "465/465 [==============================] - 1s 3ms/step - loss: 0.3994 - accuracy: 0.8301\n",
            "Epoch 35/50\n",
            "465/465 [==============================] - 1s 3ms/step - loss: 0.3977 - accuracy: 0.8311\n",
            "Epoch 36/50\n",
            "465/465 [==============================] - 1s 3ms/step - loss: 0.3897 - accuracy: 0.8353\n",
            "Epoch 37/50\n",
            "465/465 [==============================] - 1s 3ms/step - loss: 0.3815 - accuracy: 0.8385\n",
            "Epoch 38/50\n",
            "465/465 [==============================] - 1s 3ms/step - loss: 0.3765 - accuracy: 0.8416\n",
            "Epoch 39/50\n",
            "465/465 [==============================] - 1s 3ms/step - loss: 0.3726 - accuracy: 0.8435\n",
            "Epoch 40/50\n",
            "465/465 [==============================] - 1s 3ms/step - loss: 0.3683 - accuracy: 0.8453\n",
            "Epoch 41/50\n",
            "465/465 [==============================] - 1s 3ms/step - loss: 0.3612 - accuracy: 0.8490\n",
            "Epoch 42/50\n",
            "465/465 [==============================] - 1s 3ms/step - loss: 0.3580 - accuracy: 0.8499\n",
            "Epoch 43/50\n",
            "465/465 [==============================] - 1s 3ms/step - loss: 0.3572 - accuracy: 0.8504\n",
            "Epoch 44/50\n",
            "465/465 [==============================] - 1s 3ms/step - loss: 0.3508 - accuracy: 0.8539\n",
            "Epoch 45/50\n",
            "465/465 [==============================] - 1s 3ms/step - loss: 0.3482 - accuracy: 0.8544\n",
            "Epoch 46/50\n",
            "465/465 [==============================] - 1s 3ms/step - loss: 0.3459 - accuracy: 0.8556\n",
            "Epoch 47/50\n",
            "465/465 [==============================] - 2s 4ms/step - loss: 0.3393 - accuracy: 0.8586\n",
            "Epoch 48/50\n",
            "465/465 [==============================] - 2s 3ms/step - loss: 0.3367 - accuracy: 0.8599\n",
            "Epoch 49/50\n",
            "465/465 [==============================] - 1s 3ms/step - loss: 0.3324 - accuracy: 0.8620\n",
            "Epoch 50/50\n",
            "465/465 [==============================] - 1s 3ms/step - loss: 0.3274 - accuracy: 0.8643\n"
          ]
        },
        {
          "output_type": "execute_result",
          "data": {
            "text/plain": [
              "<keras.callbacks.History at 0x7fd94c0dff50>"
            ]
          },
          "metadata": {},
          "execution_count": 16
        }
      ]
    },
    {
      "cell_type": "code",
      "source": [
        "test_loss,test_accuracy=model.evaluate(x_test,y_test)\n",
        "print(test_loss*100,test_accuracy*100)"
      ],
      "metadata": {
        "colab": {
          "base_uri": "https://localhost:8080/"
        },
        "id": "qgAqKTP4vvqb",
        "outputId": "fb523872-85f4-4e28-a525-9147384a121b"
      },
      "execution_count": 17,
      "outputs": [
        {
          "output_type": "stream",
          "name": "stdout",
          "text": [
            "3632/3632 [==============================] - 8s 2ms/step - loss: 0.3397 - accuracy: 0.8602\n",
            "33.9683473110199 86.01757287979126\n"
          ]
        }
      ]
    },
    {
      "cell_type": "code",
      "source": [
        "model.fit(x_train,y_train,epochs=50,batch_size=1000)"
      ],
      "metadata": {
        "colab": {
          "base_uri": "https://localhost:8080/"
        },
        "id": "gJNI05oxzgvU",
        "outputId": "13fc6ae9-8e52-4cd2-867a-6475894e1782"
      },
      "execution_count": 18,
      "outputs": [
        {
          "output_type": "stream",
          "name": "stdout",
          "text": [
            "Epoch 1/50\n",
            "465/465 [==============================] - 1s 3ms/step - loss: 0.3276 - accuracy: 0.8644\n",
            "Epoch 2/50\n",
            "465/465 [==============================] - 1s 3ms/step - loss: 0.3238 - accuracy: 0.8656\n",
            "Epoch 3/50\n",
            "465/465 [==============================] - 1s 3ms/step - loss: 0.3196 - accuracy: 0.8678\n",
            "Epoch 4/50\n",
            "465/465 [==============================] - 1s 3ms/step - loss: 0.3157 - accuracy: 0.8693\n",
            "Epoch 5/50\n",
            "465/465 [==============================] - 1s 3ms/step - loss: 0.3186 - accuracy: 0.8680\n",
            "Epoch 6/50\n",
            "465/465 [==============================] - 1s 3ms/step - loss: 0.3135 - accuracy: 0.8709\n",
            "Epoch 7/50\n",
            "465/465 [==============================] - 1s 3ms/step - loss: 0.3113 - accuracy: 0.8716\n",
            "Epoch 8/50\n",
            "465/465 [==============================] - 1s 3ms/step - loss: 0.3087 - accuracy: 0.8723\n",
            "Epoch 9/50\n",
            "465/465 [==============================] - 1s 3ms/step - loss: 0.3076 - accuracy: 0.8732\n",
            "Epoch 10/50\n",
            "465/465 [==============================] - 1s 3ms/step - loss: 0.3030 - accuracy: 0.8755\n",
            "Epoch 11/50\n",
            "465/465 [==============================] - 1s 3ms/step - loss: 0.3012 - accuracy: 0.8757\n",
            "Epoch 12/50\n",
            "465/465 [==============================] - 1s 3ms/step - loss: 0.2992 - accuracy: 0.8767\n",
            "Epoch 13/50\n",
            "465/465 [==============================] - 1s 3ms/step - loss: 0.2976 - accuracy: 0.8774\n",
            "Epoch 14/50\n",
            "465/465 [==============================] - 1s 3ms/step - loss: 0.2970 - accuracy: 0.8774\n",
            "Epoch 15/50\n",
            "465/465 [==============================] - 1s 3ms/step - loss: 0.2948 - accuracy: 0.8784\n",
            "Epoch 16/50\n",
            "465/465 [==============================] - 1s 3ms/step - loss: 0.2901 - accuracy: 0.8811\n",
            "Epoch 17/50\n",
            "465/465 [==============================] - 1s 3ms/step - loss: 0.2934 - accuracy: 0.8795\n",
            "Epoch 18/50\n",
            "465/465 [==============================] - 1s 3ms/step - loss: 0.2883 - accuracy: 0.8815\n",
            "Epoch 19/50\n",
            "465/465 [==============================] - 1s 3ms/step - loss: 0.2856 - accuracy: 0.8830\n",
            "Epoch 20/50\n",
            "465/465 [==============================] - 1s 3ms/step - loss: 0.2867 - accuracy: 0.8825\n",
            "Epoch 21/50\n",
            "465/465 [==============================] - 1s 3ms/step - loss: 0.2845 - accuracy: 0.8829\n",
            "Epoch 22/50\n",
            "465/465 [==============================] - 1s 3ms/step - loss: 0.2802 - accuracy: 0.8847\n",
            "Epoch 23/50\n",
            "465/465 [==============================] - 1s 3ms/step - loss: 0.2783 - accuracy: 0.8861\n",
            "Epoch 24/50\n",
            "465/465 [==============================] - 1s 3ms/step - loss: 0.2786 - accuracy: 0.8857\n",
            "Epoch 25/50\n",
            "465/465 [==============================] - 1s 3ms/step - loss: 0.2749 - accuracy: 0.8878\n",
            "Epoch 26/50\n",
            "465/465 [==============================] - 1s 3ms/step - loss: 0.2727 - accuracy: 0.8878\n",
            "Epoch 27/50\n",
            "465/465 [==============================] - 1s 3ms/step - loss: 0.2718 - accuracy: 0.8892\n",
            "Epoch 28/50\n",
            "465/465 [==============================] - 1s 3ms/step - loss: 0.2745 - accuracy: 0.8877\n",
            "Epoch 29/50\n",
            "465/465 [==============================] - 1s 3ms/step - loss: 0.2690 - accuracy: 0.8898\n",
            "Epoch 30/50\n",
            "465/465 [==============================] - 1s 3ms/step - loss: 0.2686 - accuracy: 0.8902\n",
            "Epoch 31/50\n",
            "465/465 [==============================] - 1s 3ms/step - loss: 0.2684 - accuracy: 0.8898\n",
            "Epoch 32/50\n",
            "465/465 [==============================] - 1s 3ms/step - loss: 0.2647 - accuracy: 0.8919\n",
            "Epoch 33/50\n",
            "465/465 [==============================] - 1s 3ms/step - loss: 0.2659 - accuracy: 0.8912\n",
            "Epoch 34/50\n",
            "465/465 [==============================] - 1s 3ms/step - loss: 0.2629 - accuracy: 0.8928\n",
            "Epoch 35/50\n",
            "465/465 [==============================] - 1s 3ms/step - loss: 0.2642 - accuracy: 0.8920\n",
            "Epoch 36/50\n",
            "465/465 [==============================] - 1s 3ms/step - loss: 0.2606 - accuracy: 0.8938\n",
            "Epoch 37/50\n",
            "465/465 [==============================] - 1s 3ms/step - loss: 0.2585 - accuracy: 0.8946\n",
            "Epoch 38/50\n",
            "465/465 [==============================] - 1s 3ms/step - loss: 0.2574 - accuracy: 0.8945\n",
            "Epoch 39/50\n",
            "465/465 [==============================] - 1s 3ms/step - loss: 0.2587 - accuracy: 0.8946\n",
            "Epoch 40/50\n",
            "465/465 [==============================] - 1s 3ms/step - loss: 0.2590 - accuracy: 0.8939\n",
            "Epoch 41/50\n",
            "465/465 [==============================] - 1s 3ms/step - loss: 0.2550 - accuracy: 0.8961\n",
            "Epoch 42/50\n",
            "465/465 [==============================] - 1s 3ms/step - loss: 0.2567 - accuracy: 0.8952\n",
            "Epoch 43/50\n",
            "465/465 [==============================] - 1s 3ms/step - loss: 0.2559 - accuracy: 0.8960\n",
            "Epoch 44/50\n",
            "465/465 [==============================] - 1s 3ms/step - loss: 0.2543 - accuracy: 0.8967\n",
            "Epoch 45/50\n",
            "465/465 [==============================] - 1s 3ms/step - loss: 0.2529 - accuracy: 0.8972\n",
            "Epoch 46/50\n",
            "465/465 [==============================] - 1s 3ms/step - loss: 0.2517 - accuracy: 0.8979\n",
            "Epoch 47/50\n",
            "465/465 [==============================] - 1s 3ms/step - loss: 0.2491 - accuracy: 0.8986\n",
            "Epoch 48/50\n",
            "465/465 [==============================] - 1s 3ms/step - loss: 0.2507 - accuracy: 0.8985\n",
            "Epoch 49/50\n",
            "465/465 [==============================] - 1s 3ms/step - loss: 0.2471 - accuracy: 0.9002\n",
            "Epoch 50/50\n",
            "465/465 [==============================] - 1s 3ms/step - loss: 0.2492 - accuracy: 0.8985\n"
          ]
        },
        {
          "output_type": "execute_result",
          "data": {
            "text/plain": [
              "<keras.callbacks.History at 0x7fd94bf7a290>"
            ]
          },
          "metadata": {},
          "execution_count": 18
        }
      ]
    },
    {
      "cell_type": "code",
      "source": [
        "test_loss,test_accuracy=model.evaluate(x_test,y_test)\n",
        "print(test_loss*100,test_accuracy*100)"
      ],
      "metadata": {
        "colab": {
          "base_uri": "https://localhost:8080/"
        },
        "id": "ZyfL1NT3yxI_",
        "outputId": "270635ab-9dc1-424d-9bf0-bf0b75973ac4"
      },
      "execution_count": 19,
      "outputs": [
        {
          "output_type": "stream",
          "name": "stdout",
          "text": [
            "3632/3632 [==============================] - 11s 3ms/step - loss: 0.2578 - accuracy: 0.8972\n",
            "25.775480270385742 89.72143530845642\n"
          ]
        }
      ]
    },
    {
      "cell_type": "code",
      "source": [
        "model.fit(x_train,y_train,epochs=50,batch_size=1000)"
      ],
      "metadata": {
        "colab": {
          "base_uri": "https://localhost:8080/"
        },
        "id": "XGMOiWoV0MkT",
        "outputId": "f9990860-44bc-4d92-e713-9bd5f872f96e"
      },
      "execution_count": 20,
      "outputs": [
        {
          "output_type": "stream",
          "name": "stdout",
          "text": [
            "Epoch 1/50\n",
            "465/465 [==============================] - 2s 4ms/step - loss: 0.2456 - accuracy: 0.9001\n",
            "Epoch 2/50\n",
            "465/465 [==============================] - 2s 4ms/step - loss: 0.2443 - accuracy: 0.9007\n",
            "Epoch 3/50\n",
            "465/465 [==============================] - 1s 3ms/step - loss: 0.2468 - accuracy: 0.8997\n",
            "Epoch 4/50\n",
            "465/465 [==============================] - 1s 3ms/step - loss: 0.2420 - accuracy: 0.9021\n",
            "Epoch 5/50\n",
            "465/465 [==============================] - 1s 3ms/step - loss: 0.2443 - accuracy: 0.9005\n",
            "Epoch 6/50\n",
            "465/465 [==============================] - 1s 3ms/step - loss: 0.2420 - accuracy: 0.9020\n",
            "Epoch 7/50\n",
            "465/465 [==============================] - 1s 3ms/step - loss: 0.2401 - accuracy: 0.9028\n",
            "Epoch 8/50\n",
            "465/465 [==============================] - 1s 3ms/step - loss: 0.2424 - accuracy: 0.9020\n",
            "Epoch 9/50\n",
            "465/465 [==============================] - 1s 3ms/step - loss: 0.2419 - accuracy: 0.9017\n",
            "Epoch 10/50\n",
            "465/465 [==============================] - 1s 3ms/step - loss: 0.2409 - accuracy: 0.9027\n",
            "Epoch 11/50\n",
            "465/465 [==============================] - 1s 3ms/step - loss: 0.2374 - accuracy: 0.9045\n",
            "Epoch 12/50\n",
            "465/465 [==============================] - 1s 3ms/step - loss: 0.2390 - accuracy: 0.9031\n",
            "Epoch 13/50\n",
            "465/465 [==============================] - 1s 3ms/step - loss: 0.2394 - accuracy: 0.9033\n",
            "Epoch 14/50\n",
            "465/465 [==============================] - 1s 3ms/step - loss: 0.2389 - accuracy: 0.9028\n",
            "Epoch 15/50\n",
            "465/465 [==============================] - 1s 3ms/step - loss: 0.2377 - accuracy: 0.9039\n",
            "Epoch 16/50\n",
            "465/465 [==============================] - 1s 3ms/step - loss: 0.2357 - accuracy: 0.9049\n",
            "Epoch 17/50\n",
            "465/465 [==============================] - 1s 3ms/step - loss: 0.2362 - accuracy: 0.9040\n",
            "Epoch 18/50\n",
            "465/465 [==============================] - 1s 3ms/step - loss: 0.2331 - accuracy: 0.9055\n",
            "Epoch 19/50\n",
            "465/465 [==============================] - 1s 3ms/step - loss: 0.2358 - accuracy: 0.9046\n",
            "Epoch 20/50\n",
            "465/465 [==============================] - 1s 3ms/step - loss: 0.2331 - accuracy: 0.9057\n",
            "Epoch 21/50\n",
            "465/465 [==============================] - 1s 3ms/step - loss: 0.2309 - accuracy: 0.9067\n",
            "Epoch 22/50\n",
            "465/465 [==============================] - 1s 3ms/step - loss: 0.2330 - accuracy: 0.9064\n",
            "Epoch 23/50\n",
            "465/465 [==============================] - 1s 3ms/step - loss: 0.2323 - accuracy: 0.9058\n",
            "Epoch 24/50\n",
            "465/465 [==============================] - 1s 3ms/step - loss: 0.2316 - accuracy: 0.9066\n",
            "Epoch 25/50\n",
            "465/465 [==============================] - 1s 3ms/step - loss: 0.2282 - accuracy: 0.9081\n",
            "Epoch 26/50\n",
            "465/465 [==============================] - 2s 4ms/step - loss: 0.2293 - accuracy: 0.9072\n",
            "Epoch 27/50\n",
            "465/465 [==============================] - 2s 3ms/step - loss: 0.2269 - accuracy: 0.9084\n",
            "Epoch 28/50\n",
            "465/465 [==============================] - 1s 3ms/step - loss: 0.2278 - accuracy: 0.9080\n",
            "Epoch 29/50\n",
            "465/465 [==============================] - 1s 3ms/step - loss: 0.2268 - accuracy: 0.9083\n",
            "Epoch 30/50\n",
            "465/465 [==============================] - 1s 3ms/step - loss: 0.2266 - accuracy: 0.9086\n",
            "Epoch 31/50\n",
            "465/465 [==============================] - 1s 3ms/step - loss: 0.2269 - accuracy: 0.9084\n",
            "Epoch 32/50\n",
            "465/465 [==============================] - 1s 3ms/step - loss: 0.2261 - accuracy: 0.9086\n",
            "Epoch 33/50\n",
            "465/465 [==============================] - 1s 3ms/step - loss: 0.2258 - accuracy: 0.9090\n",
            "Epoch 34/50\n",
            "465/465 [==============================] - 1s 3ms/step - loss: 0.2260 - accuracy: 0.9087\n",
            "Epoch 35/50\n",
            "465/465 [==============================] - 1s 3ms/step - loss: 0.2244 - accuracy: 0.9094\n",
            "Epoch 36/50\n",
            "465/465 [==============================] - 1s 3ms/step - loss: 0.2245 - accuracy: 0.9095\n",
            "Epoch 37/50\n",
            "465/465 [==============================] - 1s 3ms/step - loss: 0.2231 - accuracy: 0.9103\n",
            "Epoch 38/50\n",
            "465/465 [==============================] - 1s 3ms/step - loss: 0.2256 - accuracy: 0.9086\n",
            "Epoch 39/50\n",
            "465/465 [==============================] - 1s 3ms/step - loss: 0.2208 - accuracy: 0.9110\n",
            "Epoch 40/50\n",
            "465/465 [==============================] - 1s 3ms/step - loss: 0.2222 - accuracy: 0.9102\n",
            "Epoch 41/50\n",
            "465/465 [==============================] - 1s 3ms/step - loss: 0.2222 - accuracy: 0.9102\n",
            "Epoch 42/50\n",
            "465/465 [==============================] - 1s 3ms/step - loss: 0.2216 - accuracy: 0.9104\n",
            "Epoch 43/50\n",
            "465/465 [==============================] - 1s 3ms/step - loss: 0.2214 - accuracy: 0.9109\n",
            "Epoch 44/50\n",
            "465/465 [==============================] - 1s 3ms/step - loss: 0.2199 - accuracy: 0.9118\n",
            "Epoch 45/50\n",
            "465/465 [==============================] - 1s 3ms/step - loss: 0.2200 - accuracy: 0.9118\n",
            "Epoch 46/50\n",
            "465/465 [==============================] - 1s 3ms/step - loss: 0.2183 - accuracy: 0.9120\n",
            "Epoch 47/50\n",
            "465/465 [==============================] - 1s 3ms/step - loss: 0.2154 - accuracy: 0.9135\n",
            "Epoch 48/50\n",
            "465/465 [==============================] - 1s 3ms/step - loss: 0.2172 - accuracy: 0.9128\n",
            "Epoch 49/50\n",
            "465/465 [==============================] - 1s 3ms/step - loss: 0.2208 - accuracy: 0.9109\n",
            "Epoch 50/50\n",
            "465/465 [==============================] - 1s 3ms/step - loss: 0.2173 - accuracy: 0.9125\n"
          ]
        },
        {
          "output_type": "execute_result",
          "data": {
            "text/plain": [
              "<keras.callbacks.History at 0x7fd94bf50f50>"
            ]
          },
          "metadata": {},
          "execution_count": 20
        }
      ]
    },
    {
      "cell_type": "code",
      "source": [
        "test_loss,test_accuracy=model.evaluate(x_test,y_test)\n",
        "print(test_loss*100,test_accuracy*100)"
      ],
      "metadata": {
        "colab": {
          "base_uri": "https://localhost:8080/"
        },
        "id": "1hC-aVZa0VOT",
        "outputId": "77d03edb-fd58-4123-bfe0-e20b52fc19b5"
      },
      "execution_count": 21,
      "outputs": [
        {
          "output_type": "stream",
          "name": "stdout",
          "text": [
            "3632/3632 [==============================] - 9s 2ms/step - loss: 0.2406 - accuracy: 0.9040\n",
            "24.055255949497223 90.40472507476807\n"
          ]
        }
      ]
    },
    {
      "cell_type": "code",
      "source": [
        ""
      ],
      "metadata": {
        "id": "OKPaBjbl0xj6"
      },
      "execution_count": null,
      "outputs": []
    }
  ]
}