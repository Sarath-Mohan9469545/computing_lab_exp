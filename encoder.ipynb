{
  "nbformat": 4,
  "nbformat_minor": 0,
  "metadata": {
    "colab": {
      "name": "encoder.ipynb",
      "provenance": [],
      "include_colab_link": true
    },
    "kernelspec": {
      "name": "python3",
      "display_name": "Python 3"
    },
    "language_info": {
      "name": "python"
    }
  },
  "cells": [
    {
      "cell_type": "markdown",
      "metadata": {
        "id": "view-in-github",
        "colab_type": "text"
      },
      "source": [
        "<a href=\"https://colab.research.google.com/github/Sarath-Mohan9469545/computing_lab_exp/blob/main/encoder.ipynb\" target=\"_parent\"><img src=\"https://colab.research.google.com/assets/colab-badge.svg\" alt=\"Open In Colab\"/></a>"
      ]
    },
    {
      "cell_type": "code",
      "source": [
        "import tensorflow as tf\n",
        "from tensorflow import keras\n",
        "data=keras.datasets.mnist"
      ],
      "metadata": {
        "id": "U5KgJEUxHuij"
      },
      "execution_count": 1,
      "outputs": []
    },
    {
      "cell_type": "code",
      "execution_count": 2,
      "metadata": {
        "id": "_sAQrQInHYj_",
        "colab": {
          "base_uri": "https://localhost:8080/"
        },
        "outputId": "7f8fd93e-7c34-4e6f-84cb-cb0c93498cba"
      },
      "outputs": [
        {
          "output_type": "stream",
          "name": "stdout",
          "text": [
            "Downloading data from https://storage.googleapis.com/tensorflow/tf-keras-datasets/mnist.npz\n",
            "11493376/11490434 [==============================] - 0s 0us/step\n",
            "11501568/11490434 [==============================] - 0s 0us/step\n"
          ]
        }
      ],
      "source": [
        "(x_train,y_train),(x_test,y_test)=data.load_data()"
      ]
    },
    {
      "cell_type": "code",
      "source": [
        "import matplotlib.pyplot as plt"
      ],
      "metadata": {
        "id": "kzEMsHQEIUtQ"
      },
      "execution_count": 3,
      "outputs": []
    },
    {
      "cell_type": "code",
      "source": [
        "x_train=x_train/255.0\n",
        "x_test=x_test/255.0\n",
        "plt.imshow(x_train[20],cmap=\"gray\")\n",
        "plt.show()"
      ],
      "metadata": {
        "colab": {
          "base_uri": "https://localhost:8080/",
          "height": 265
        },
        "id": "OygGM05zHl2j",
        "outputId": "1f9ab0be-40c3-4426-edbf-f305b8526341"
      },
      "execution_count": 4,
      "outputs": [
        {
          "output_type": "display_data",
          "data": {
            "text/plain": [
              "<Figure size 432x288 with 1 Axes>"
            ],
            "image/png": "[encoded data removed]"
          },
          "metadata": {
            "needs_background": "light"
          }
        }
      ]
    },
    {
      "cell_type": "code",
      "source": [
        "from keras.models import Sequential,Model,Input"
      ],
      "metadata": {
        "id": "zIdyHc2eJ1Wh"
      },
      "execution_count": 10,
      "outputs": []
    },
    {
      "cell_type": "code",
      "source": [
        "from keras.layers import Activation, Dense, Flatten,Dropout,Reshape\n",
        "from keras.layers import LeakyReLU as LR"
      ],
      "metadata": {
        "id": "t_zUcvwaKp8c"
      },
      "execution_count": 7,
      "outputs": []
    },
    {
      "cell_type": "code",
      "source": [
        "LATENT_SIZE = 32\n",
        "encoder=Sequential([\n",
        "    Flatten(input_shape=(28,28)),\n",
        "    Dense(512),\n",
        "    LR(),\n",
        "    Dropout(0.2),\n",
        "    Dense(256),\n",
        "    LR(),\n",
        "    Dropout(0.2),\n",
        "    Dense(128),\n",
        "    LR(),\n",
        "    Dropout(0.2),\n",
        "    Dense(64),\n",
        "    LR(),\n",
        "    Dropout(0.2),\n",
        "    Dense(LATENT_SIZE,activation=\"sigmoid\"),\n",
        "])"
      ],
      "metadata": {
        "id": "7GpdNhOwIWI1"
      },
      "execution_count": 8,
      "outputs": []
    },
    {
      "cell_type": "code",
      "source": [
        "decoder=Sequential([\n",
        "    Dense(64,input_shape=(LATENT_SIZE,)),\n",
        "    LR(),\n",
        "    Dropout(0.2),\n",
        "    Dense(128),\n",
        "    LR(),\n",
        "    Dropout(0.2),\n",
        "    Dense(256),\n",
        "    LR(),\n",
        "    Dropout(0.2),\n",
        "    Dense(512),\n",
        "    LR(),\n",
        "    Dropout(0.2),\n",
        "    Dense(784),\n",
        "    Activation(\"sigmoid\"),\n",
        "    Reshape((28,28))\n",
        "])"
      ],
      "metadata": {
        "id": "NzVpiLboKuX2"
      },
      "execution_count": 9,
      "outputs": []
    },
    {
      "cell_type": "code",
      "source": [
        "img=Input(shape=(28,28))\n",
        "latent_vector=encoder(img)\n",
        "output=decoder(latent_vector)\n",
        "model=Model(inputs=img,outputs=output)\n",
        "model.compile(\"adam\",loss=\"binary_crossentropy\")"
      ],
      "metadata": {
        "id": "Z9gScTPrNDcm"
      },
      "execution_count": 11,
      "outputs": []
    },
    {
      "cell_type": "code",
      "source": [
        "model.fit(x_train,x_train,batch_size=64,epochs=10)"
      ],
      "metadata": {
        "colab": {
          "base_uri": "https://localhost:8080/"
        },
        "id": "Ja9iYAH5OZLS",
        "outputId": "a136715e-0947-4070-d7b1-da536a922c10"
      },
      "execution_count": 13,
      "outputs": [
        {
          "output_type": "stream",
          "name": "stdout",
          "text": [
            "Epoch 1/10\n",
            "938/938 [==============================] - 22s 24ms/step - loss: 0.1728\n",
            "Epoch 2/10\n",
            "938/938 [==============================] - 23s 24ms/step - loss: 0.1608\n",
            "Epoch 3/10\n",
            "938/938 [==============================] - 23s 24ms/step - loss: 0.1554\n",
            "Epoch 4/10\n",
            "938/938 [==============================] - 23s 24ms/step - loss: 0.1522\n",
            "Epoch 5/10\n",
            "938/938 [==============================] - 21s 23ms/step - loss: 0.1499\n",
            "Epoch 6/10\n",
            "938/938 [==============================] - 22s 24ms/step - loss: 0.1480\n",
            "Epoch 7/10\n",
            "938/938 [==============================] - 22s 24ms/step - loss: 0.1464\n",
            "Epoch 8/10\n",
            "938/938 [==============================] - 22s 24ms/step - loss: 0.1453\n",
            "Epoch 9/10\n",
            "938/938 [==============================] - 22s 23ms/step - loss: 0.1442\n",
            "Epoch 10/10\n",
            "938/938 [==============================] - 22s 24ms/step - loss: 0.1432\n"
          ]
        },
        {
          "output_type": "execute_result",
          "data": {
            "text/plain": [
              "<keras.callbacks.History at 0x7f8853188110>"
            ]
          },
          "metadata": {},
          "execution_count": 13
        }
      ]
    },
    {
      "cell_type": "code",
      "source": [
        ""
      ],
      "metadata": {
        "id": "avHAdOosOiLg"
      },
      "execution_count": null,
      "outputs": []
    }
  ]
}