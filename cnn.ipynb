{
  "nbformat": 4,
  "nbformat_minor": 0,
  "metadata": {
    "colab": {
      "name": "cnn.ipynb",
      "provenance": [],
      "authorship_tag": "ABX9TyPED14QIZnYLyUfIXB55mkU",
      "include_colab_link": true
    },
    "kernelspec": {
      "name": "python3",
      "display_name": "Python 3"
    },
    "language_info": {
      "name": "python"
    },
    "accelerator": "GPU",
    "gpuClass": "standard"
  },
  "cells": [
    {
      "cell_type": "markdown",
      "metadata": {
        "id": "view-in-github",
        "colab_type": "text"
      },
      "source": [
        "<a href=\"https://colab.research.google.com/github/Sarath-Mohan9469545/computing_lab_exp/blob/main/cnn.ipynb\" target=\"_parent\"><img src=\"https://colab.research.google.com/assets/colab-badge.svg\" alt=\"Open In Colab\"/></a>"
      ]
    },
    {
      "cell_type": "code",
      "execution_count": 1,
      "metadata": {
        "id": "zXi58iCal17o"
      },
      "outputs": [],
      "source": [
        "from tensorflow import keras"
      ]
    },
    {
      "cell_type": "code",
      "source": [
        "mnistDB=keras.datasets.mnist\n",
        "(X_train,y_train),(X_test,y_test)=mnistDB.load_data()"
      ],
      "metadata": {
        "colab": {
          "base_uri": "https://localhost:8080/"
        },
        "id": "cUbzDDHamJUm",
        "outputId": "f0e28bcc-ee5a-412d-8f33-1355538277ad"
      },
      "execution_count": 2,
      "outputs": [
        {
          "output_type": "stream",
          "name": "stdout",
          "text": [
            "Downloading data from https://storage.googleapis.com/tensorflow/tf-keras-datasets/mnist.npz\n",
            "11493376/11490434 [==============================] - 0s 0us/step\n",
            "11501568/11490434 [==============================] - 0s 0us/step\n"
          ]
        }
      ]
    },
    {
      "cell_type": "code",
      "source": [
        "X_train.shape"
      ],
      "metadata": {
        "colab": {
          "base_uri": "https://localhost:8080/"
        },
        "id": "CsiObRUvmcbp",
        "outputId": "770ca328-7227-4e02-c5d0-bbd94965118e"
      },
      "execution_count": 3,
      "outputs": [
        {
          "output_type": "execute_result",
          "data": {
            "text/plain": [
              "(60000, 28, 28)"
            ]
          },
          "metadata": {},
          "execution_count": 3
        }
      ]
    },
    {
      "cell_type": "code",
      "source": [
        "y_train.shape"
      ],
      "metadata": {
        "colab": {
          "base_uri": "https://localhost:8080/"
        },
        "id": "B7UvW44JnqgC",
        "outputId": "dd10f5e8-8863-4a62-a799-e264b8196982"
      },
      "execution_count": 6,
      "outputs": [
        {
          "output_type": "execute_result",
          "data": {
            "text/plain": [
              "(60000,)"
            ]
          },
          "metadata": {},
          "execution_count": 6
        }
      ]
    },
    {
      "cell_type": "code",
      "source": [
        "X_test.shape"
      ],
      "metadata": {
        "colab": {
          "base_uri": "https://localhost:8080/"
        },
        "id": "xJBBa1TXnsH0",
        "outputId": "1ba43578-ba3e-46ae-f408-9c2d608fee8e"
      },
      "execution_count": 7,
      "outputs": [
        {
          "output_type": "execute_result",
          "data": {
            "text/plain": [
              "(10000, 28, 28)"
            ]
          },
          "metadata": {},
          "execution_count": 7
        }
      ]
    },
    {
      "cell_type": "code",
      "source": [
        "y_test.shape"
      ],
      "metadata": {
        "colab": {
          "base_uri": "https://localhost:8080/"
        },
        "id": "jpavDyHfntJj",
        "outputId": "d78b0203-7978-4972-af52-029a0c270c86"
      },
      "execution_count": 9,
      "outputs": [
        {
          "output_type": "execute_result",
          "data": {
            "text/plain": [
              "(10000,)"
            ]
          },
          "metadata": {},
          "execution_count": 9
        }
      ]
    },
    {
      "cell_type": "code",
      "source": [
        "X_train=X_train.reshape((60000,28,28,1))"
      ],
      "metadata": {
        "id": "a83u25jInzsV"
      },
      "execution_count": 10,
      "outputs": []
    },
    {
      "cell_type": "code",
      "source": [
        "X_test=X_test.reshape((10000,28,28,1))"
      ],
      "metadata": {
        "id": "rr2juvR5ogr0"
      },
      "execution_count": 12,
      "outputs": []
    },
    {
      "cell_type": "code",
      "source": [
        "X_train=X_train.astype('float32')/255\n",
        "X_test=X_test.astype('float32')/255"
      ],
      "metadata": {
        "id": "MFRVQIKBooYv"
      },
      "execution_count": 13,
      "outputs": []
    },
    {
      "cell_type": "code",
      "source": [
        "cnnModel_MNIST=keras.models.Sequential()\n"
      ],
      "metadata": {
        "id": "lTMZm0QAo7YY"
      },
      "execution_count": 14,
      "outputs": []
    },
    {
      "cell_type": "code",
      "source": [
        "cnnModel_MNIST.add(keras.layers.Conv2D(32,(3,3),activation=\"relu\",input_shape=X_train.shape[1:]))\n",
        "cnnModel_MNIST.add(keras.layers.Conv2D(32,(3,3),activation=\"relu\"))\n",
        "cnnModel_MNIST.add(keras.layers.MaxPooling2D((2,2)))\n",
        "cnnModel_MNIST.add(keras.layers.Dropout(0.25))\n",
        "cnnModel_MNIST.add(keras.layers.Flatten())\n",
        "cnnModel_MNIST.add(keras.layers.Dense(128,activation=\"relu\"))\n",
        "cnnModel_MNIST.add(keras.layers.Dropout(0.25))\n",
        "cnnModel_MNIST.add(keras.layers.Dense(10,activation=\"softmax\"))"
      ],
      "metadata": {
        "id": "AC7zruLUpItE"
      },
      "execution_count": 17,
      "outputs": []
    },
    {
      "cell_type": "code",
      "source": [
        "cnnModel_MNIST.summary()"
      ],
      "metadata": {
        "colab": {
          "base_uri": "https://localhost:8080/"
        },
        "id": "y5M8M5zWpSE9",
        "outputId": "bcf7c4ac-369e-4e79-eefd-42459dd2fdbd"
      },
      "execution_count": 18,
      "outputs": [
        {
          "output_type": "stream",
          "name": "stdout",
          "text": [
            "Model: \"sequential\"\n",
            "_________________________________________________________________\n",
            " Layer (type)                Output Shape              Param #   \n",
            "=================================================================\n",
            " conv2d (Conv2D)             (None, 26, 26, 32)        320       \n",
            "                                                                 \n",
            " conv2d_1 (Conv2D)           (None, 24, 24, 32)        9248      \n",
            "                                                                 \n",
            " max_pooling2d (MaxPooling2D  (None, 12, 12, 32)       0         \n",
            " )                                                               \n",
            "                                                                 \n",
            " dropout (Dropout)           (None, 12, 12, 32)        0         \n",
            "                                                                 \n",
            " flatten (Flatten)           (None, 4608)              0         \n",
            "                                                                 \n",
            " dense (Dense)               (None, 128)               589952    \n",
            "                                                                 \n",
            " dropout_1 (Dropout)         (None, 128)               0         \n",
            "                                                                 \n",
            " dense_1 (Dense)             (None, 10)                1290      \n",
            "                                                                 \n",
            "=================================================================\n",
            "Total params: 600,810\n",
            "Trainable params: 600,810\n",
            "Non-trainable params: 0\n",
            "_________________________________________________________________\n"
          ]
        }
      ]
    },
    {
      "cell_type": "code",
      "source": [
        "cnnModel_MNIST.compile(loss=\"sparse_categorical_crossentropy\",optimizer=\"adam\",metrics=[\"accuracy\"])"
      ],
      "metadata": {
        "id": "MGjELmlhrXku"
      },
      "execution_count": 23,
      "outputs": []
    },
    {
      "cell_type": "code",
      "source": [
        "\n",
        "cnnModel_MNIST.fit(X_train,y_train,epochs=200,validation_data=(X_test,y_test))"
      ],
      "metadata": {
        "colab": {
          "base_uri": "https://localhost:8080/"
        },
        "id": "3zMa6PwLr_bl",
        "outputId": "7c705972-e6d2-4808-8e8f-a73af785dc98"
      },
      "execution_count": 24,
      "outputs": [
        {
          "output_type": "stream",
          "name": "stdout",
          "text": [
            "Epoch 1/200\n",
            "1875/1875 [==============================] - 18s 4ms/step - loss: 0.1538 - accuracy: 0.9524 - val_loss: 0.0462 - val_accuracy: 0.9850\n",
            "Epoch 2/200\n",
            "1875/1875 [==============================] - 6s 3ms/step - loss: 0.0587 - accuracy: 0.9826 - val_loss: 0.0373 - val_accuracy: 0.9883\n",
            "Epoch 3/200\n",
            "1875/1875 [==============================] - 6s 3ms/step - loss: 0.0441 - accuracy: 0.9862 - val_loss: 0.0331 - val_accuracy: 0.9886\n",
            "Epoch 4/200\n",
            "1875/1875 [==============================] - 6s 3ms/step - loss: 0.0344 - accuracy: 0.9889 - val_loss: 0.0319 - val_accuracy: 0.9888\n",
            "Epoch 5/200\n",
            "1875/1875 [==============================] - 6s 3ms/step - loss: 0.0283 - accuracy: 0.9911 - val_loss: 0.0366 - val_accuracy: 0.9890\n",
            "Epoch 6/200\n",
            "1875/1875 [==============================] - 6s 3ms/step - loss: 0.0238 - accuracy: 0.9923 - val_loss: 0.0362 - val_accuracy: 0.9900\n",
            "Epoch 7/200\n",
            "1875/1875 [==============================] - 6s 3ms/step - loss: 0.0201 - accuracy: 0.9933 - val_loss: 0.0343 - val_accuracy: 0.9906\n",
            "Epoch 8/200\n",
            "1875/1875 [==============================] - 6s 3ms/step - loss: 0.0186 - accuracy: 0.9936 - val_loss: 0.0337 - val_accuracy: 0.9912\n",
            "Epoch 9/200\n",
            "1875/1875 [==============================] - 6s 3ms/step - loss: 0.0165 - accuracy: 0.9944 - val_loss: 0.0307 - val_accuracy: 0.9925\n",
            "Epoch 10/200\n",
            "1875/1875 [==============================] - 6s 3ms/step - loss: 0.0147 - accuracy: 0.9949 - val_loss: 0.0304 - val_accuracy: 0.9919\n",
            "Epoch 11/200\n",
            "1875/1875 [==============================] - 6s 3ms/step - loss: 0.0148 - accuracy: 0.9952 - val_loss: 0.0321 - val_accuracy: 0.9915\n",
            "Epoch 12/200\n",
            "1875/1875 [==============================] - 6s 3ms/step - loss: 0.0129 - accuracy: 0.9955 - val_loss: 0.0393 - val_accuracy: 0.9900\n",
            "Epoch 13/200\n",
            "1875/1875 [==============================] - 6s 3ms/step - loss: 0.0112 - accuracy: 0.9961 - val_loss: 0.0402 - val_accuracy: 0.9906\n",
            "Epoch 14/200\n",
            "1875/1875 [==============================] - 6s 3ms/step - loss: 0.0115 - accuracy: 0.9960 - val_loss: 0.0354 - val_accuracy: 0.9916\n",
            "Epoch 15/200\n",
            "1875/1875 [==============================] - 6s 3ms/step - loss: 0.0104 - accuracy: 0.9963 - val_loss: 0.0398 - val_accuracy: 0.9909\n",
            "Epoch 16/200\n",
            "1875/1875 [==============================] - 6s 3ms/step - loss: 0.0102 - accuracy: 0.9965 - val_loss: 0.0364 - val_accuracy: 0.9921\n",
            "Epoch 17/200\n",
            "1875/1875 [==============================] - 6s 3ms/step - loss: 0.0102 - accuracy: 0.9966 - val_loss: 0.0319 - val_accuracy: 0.9928\n",
            "Epoch 18/200\n",
            "1875/1875 [==============================] - 6s 3ms/step - loss: 0.0093 - accuracy: 0.9970 - val_loss: 0.0381 - val_accuracy: 0.9910\n",
            "Epoch 19/200\n",
            "1875/1875 [==============================] - 6s 3ms/step - loss: 0.0082 - accuracy: 0.9974 - val_loss: 0.0379 - val_accuracy: 0.9921\n",
            "Epoch 20/200\n",
            "1875/1875 [==============================] - 6s 3ms/step - loss: 0.0093 - accuracy: 0.9969 - val_loss: 0.0361 - val_accuracy: 0.9926\n",
            "Epoch 21/200\n",
            "1875/1875 [==============================] - 6s 3ms/step - loss: 0.0072 - accuracy: 0.9977 - val_loss: 0.0361 - val_accuracy: 0.9923\n",
            "Epoch 22/200\n",
            "1875/1875 [==============================] - 6s 3ms/step - loss: 0.0075 - accuracy: 0.9975 - val_loss: 0.0370 - val_accuracy: 0.9930\n",
            "Epoch 23/200\n",
            "1875/1875 [==============================] - 6s 3ms/step - loss: 0.0080 - accuracy: 0.9974 - val_loss: 0.0431 - val_accuracy: 0.9909\n",
            "Epoch 24/200\n",
            "1875/1875 [==============================] - 6s 3ms/step - loss: 0.0078 - accuracy: 0.9975 - val_loss: 0.0378 - val_accuracy: 0.9907\n",
            "Epoch 25/200\n",
            "1875/1875 [==============================] - 6s 3ms/step - loss: 0.0075 - accuracy: 0.9979 - val_loss: 0.0443 - val_accuracy: 0.9902\n",
            "Epoch 26/200\n",
            "1875/1875 [==============================] - 6s 3ms/step - loss: 0.0078 - accuracy: 0.9974 - val_loss: 0.0382 - val_accuracy: 0.9920\n",
            "Epoch 27/200\n",
            "1875/1875 [==============================] - 6s 3ms/step - loss: 0.0068 - accuracy: 0.9977 - val_loss: 0.0426 - val_accuracy: 0.9920\n",
            "Epoch 28/200\n",
            "1875/1875 [==============================] - 6s 3ms/step - loss: 0.0070 - accuracy: 0.9976 - val_loss: 0.0465 - val_accuracy: 0.9918\n",
            "Epoch 29/200\n",
            "1875/1875 [==============================] - 6s 3ms/step - loss: 0.0068 - accuracy: 0.9977 - val_loss: 0.0430 - val_accuracy: 0.9925\n",
            "Epoch 30/200\n",
            "1875/1875 [==============================] - 6s 3ms/step - loss: 0.0073 - accuracy: 0.9977 - val_loss: 0.0411 - val_accuracy: 0.9927\n",
            "Epoch 31/200\n",
            "1875/1875 [==============================] - 6s 3ms/step - loss: 0.0055 - accuracy: 0.9981 - val_loss: 0.0447 - val_accuracy: 0.9919\n",
            "Epoch 32/200\n",
            "1875/1875 [==============================] - 6s 3ms/step - loss: 0.0052 - accuracy: 0.9983 - val_loss: 0.0472 - val_accuracy: 0.9915\n",
            "Epoch 33/200\n",
            "1875/1875 [==============================] - 6s 3ms/step - loss: 0.0058 - accuracy: 0.9982 - val_loss: 0.0546 - val_accuracy: 0.9918\n",
            "Epoch 34/200\n",
            "1875/1875 [==============================] - 6s 3ms/step - loss: 0.0068 - accuracy: 0.9979 - val_loss: 0.0492 - val_accuracy: 0.9923\n",
            "Epoch 35/200\n",
            "1875/1875 [==============================] - 6s 3ms/step - loss: 0.0059 - accuracy: 0.9983 - val_loss: 0.0531 - val_accuracy: 0.9909\n",
            "Epoch 36/200\n",
            "1875/1875 [==============================] - 6s 3ms/step - loss: 0.0071 - accuracy: 0.9978 - val_loss: 0.0548 - val_accuracy: 0.9917\n",
            "Epoch 37/200\n",
            "1875/1875 [==============================] - 6s 3ms/step - loss: 0.0052 - accuracy: 0.9984 - val_loss: 0.0636 - val_accuracy: 0.9912\n",
            "Epoch 38/200\n",
            "1875/1875 [==============================] - 6s 3ms/step - loss: 0.0072 - accuracy: 0.9980 - val_loss: 0.0532 - val_accuracy: 0.9927\n",
            "Epoch 39/200\n",
            "1875/1875 [==============================] - 6s 3ms/step - loss: 0.0062 - accuracy: 0.9983 - val_loss: 0.0509 - val_accuracy: 0.9912\n",
            "Epoch 40/200\n",
            "1875/1875 [==============================] - 7s 4ms/step - loss: 0.0052 - accuracy: 0.9985 - val_loss: 0.0490 - val_accuracy: 0.9913\n",
            "Epoch 41/200\n",
            "1875/1875 [==============================] - 6s 3ms/step - loss: 0.0061 - accuracy: 0.9981 - val_loss: 0.0529 - val_accuracy: 0.9917\n",
            "Epoch 42/200\n",
            "1875/1875 [==============================] - 6s 3ms/step - loss: 0.0071 - accuracy: 0.9980 - val_loss: 0.0454 - val_accuracy: 0.9921\n",
            "Epoch 43/200\n",
            "1875/1875 [==============================] - 6s 3ms/step - loss: 0.0043 - accuracy: 0.9987 - val_loss: 0.0536 - val_accuracy: 0.9918\n",
            "Epoch 44/200\n",
            "1875/1875 [==============================] - 6s 3ms/step - loss: 0.0056 - accuracy: 0.9982 - val_loss: 0.0567 - val_accuracy: 0.9924\n",
            "Epoch 45/200\n",
            "1875/1875 [==============================] - 6s 3ms/step - loss: 0.0055 - accuracy: 0.9983 - val_loss: 0.0554 - val_accuracy: 0.9916\n",
            "Epoch 46/200\n",
            "1875/1875 [==============================] - 6s 3ms/step - loss: 0.0054 - accuracy: 0.9986 - val_loss: 0.0507 - val_accuracy: 0.9924\n",
            "Epoch 47/200\n",
            "1875/1875 [==============================] - 6s 3ms/step - loss: 0.0042 - accuracy: 0.9987 - val_loss: 0.0551 - val_accuracy: 0.9922\n",
            "Epoch 48/200\n",
            "1875/1875 [==============================] - 6s 3ms/step - loss: 0.0062 - accuracy: 0.9982 - val_loss: 0.0441 - val_accuracy: 0.9917\n",
            "Epoch 49/200\n",
            "1875/1875 [==============================] - 6s 3ms/step - loss: 0.0046 - accuracy: 0.9985 - val_loss: 0.0489 - val_accuracy: 0.9931\n",
            "Epoch 50/200\n",
            "1875/1875 [==============================] - 6s 3ms/step - loss: 0.0047 - accuracy: 0.9986 - val_loss: 0.0585 - val_accuracy: 0.9926\n",
            "Epoch 51/200\n",
            "1875/1875 [==============================] - 6s 3ms/step - loss: 0.0045 - accuracy: 0.9986 - val_loss: 0.0504 - val_accuracy: 0.9922\n",
            "Epoch 52/200\n",
            "1875/1875 [==============================] - 6s 3ms/step - loss: 0.0058 - accuracy: 0.9986 - val_loss: 0.0626 - val_accuracy: 0.9913\n",
            "Epoch 53/200\n",
            "1875/1875 [==============================] - 6s 3ms/step - loss: 0.0050 - accuracy: 0.9987 - val_loss: 0.0665 - val_accuracy: 0.9917\n",
            "Epoch 54/200\n",
            "1875/1875 [==============================] - 6s 3ms/step - loss: 0.0055 - accuracy: 0.9984 - val_loss: 0.0630 - val_accuracy: 0.9915\n",
            "Epoch 55/200\n",
            "1875/1875 [==============================] - 6s 3ms/step - loss: 0.0045 - accuracy: 0.9987 - val_loss: 0.0638 - val_accuracy: 0.9914\n",
            "Epoch 56/200\n",
            "1875/1875 [==============================] - 6s 3ms/step - loss: 0.0059 - accuracy: 0.9984 - val_loss: 0.0484 - val_accuracy: 0.9926\n",
            "Epoch 57/200\n",
            "1875/1875 [==============================] - 6s 3ms/step - loss: 0.0052 - accuracy: 0.9987 - val_loss: 0.0566 - val_accuracy: 0.9921\n",
            "Epoch 58/200\n",
            "1875/1875 [==============================] - 6s 3ms/step - loss: 0.0049 - accuracy: 0.9987 - val_loss: 0.0553 - val_accuracy: 0.9930\n",
            "Epoch 59/200\n",
            "1875/1875 [==============================] - 6s 3ms/step - loss: 0.0049 - accuracy: 0.9985 - val_loss: 0.0575 - val_accuracy: 0.9920\n",
            "Epoch 60/200\n",
            "1875/1875 [==============================] - 6s 3ms/step - loss: 0.0049 - accuracy: 0.9985 - val_loss: 0.0589 - val_accuracy: 0.9928\n",
            "Epoch 61/200\n",
            "1875/1875 [==============================] - 6s 3ms/step - loss: 0.0054 - accuracy: 0.9986 - val_loss: 0.0571 - val_accuracy: 0.9916\n",
            "Epoch 62/200\n",
            "1875/1875 [==============================] - 6s 3ms/step - loss: 0.0038 - accuracy: 0.9988 - val_loss: 0.0577 - val_accuracy: 0.9928\n",
            "Epoch 63/200\n",
            "1875/1875 [==============================] - 6s 3ms/step - loss: 0.0058 - accuracy: 0.9981 - val_loss: 0.0679 - val_accuracy: 0.9916\n",
            "Epoch 64/200\n",
            "1875/1875 [==============================] - 6s 3ms/step - loss: 0.0044 - accuracy: 0.9987 - val_loss: 0.0611 - val_accuracy: 0.9926\n",
            "Epoch 65/200\n",
            "1875/1875 [==============================] - 6s 3ms/step - loss: 0.0039 - accuracy: 0.9988 - val_loss: 0.0708 - val_accuracy: 0.9917\n",
            "Epoch 66/200\n",
            "1875/1875 [==============================] - 6s 3ms/step - loss: 0.0052 - accuracy: 0.9986 - val_loss: 0.0595 - val_accuracy: 0.9920\n",
            "Epoch 67/200\n",
            "1875/1875 [==============================] - 6s 3ms/step - loss: 0.0041 - accuracy: 0.9989 - val_loss: 0.0621 - val_accuracy: 0.9922\n",
            "Epoch 68/200\n",
            "1875/1875 [==============================] - 6s 3ms/step - loss: 0.0046 - accuracy: 0.9988 - val_loss: 0.0774 - val_accuracy: 0.9915\n",
            "Epoch 69/200\n",
            "1875/1875 [==============================] - 6s 3ms/step - loss: 0.0043 - accuracy: 0.9987 - val_loss: 0.0651 - val_accuracy: 0.9916\n",
            "Epoch 70/200\n",
            "1875/1875 [==============================] - 6s 3ms/step - loss: 0.0050 - accuracy: 0.9987 - val_loss: 0.0639 - val_accuracy: 0.9929\n",
            "Epoch 71/200\n",
            "1875/1875 [==============================] - 6s 3ms/step - loss: 0.0043 - accuracy: 0.9988 - val_loss: 0.0654 - val_accuracy: 0.9927\n",
            "Epoch 72/200\n",
            "1875/1875 [==============================] - 6s 3ms/step - loss: 0.0059 - accuracy: 0.9985 - val_loss: 0.0614 - val_accuracy: 0.9919\n",
            "Epoch 73/200\n",
            "1875/1875 [==============================] - 6s 3ms/step - loss: 0.0061 - accuracy: 0.9983 - val_loss: 0.0582 - val_accuracy: 0.9927\n",
            "Epoch 74/200\n",
            "1875/1875 [==============================] - 6s 3ms/step - loss: 0.0047 - accuracy: 0.9988 - val_loss: 0.0601 - val_accuracy: 0.9929\n",
            "Epoch 75/200\n",
            "1875/1875 [==============================] - 6s 3ms/step - loss: 0.0054 - accuracy: 0.9986 - val_loss: 0.0616 - val_accuracy: 0.9933\n",
            "Epoch 76/200\n",
            "1875/1875 [==============================] - 6s 3ms/step - loss: 0.0043 - accuracy: 0.9987 - val_loss: 0.0775 - val_accuracy: 0.9915\n",
            "Epoch 77/200\n",
            "1875/1875 [==============================] - 6s 3ms/step - loss: 0.0055 - accuracy: 0.9987 - val_loss: 0.0675 - val_accuracy: 0.9916\n",
            "Epoch 78/200\n",
            "1875/1875 [==============================] - 6s 3ms/step - loss: 0.0041 - accuracy: 0.9988 - val_loss: 0.0581 - val_accuracy: 0.9924\n",
            "Epoch 79/200\n",
            "1875/1875 [==============================] - 6s 3ms/step - loss: 0.0056 - accuracy: 0.9985 - val_loss: 0.0722 - val_accuracy: 0.9923\n",
            "Epoch 80/200\n",
            "1875/1875 [==============================] - 6s 3ms/step - loss: 0.0038 - accuracy: 0.9988 - val_loss: 0.0609 - val_accuracy: 0.9924\n",
            "Epoch 81/200\n",
            "1875/1875 [==============================] - 6s 3ms/step - loss: 0.0033 - accuracy: 0.9991 - val_loss: 0.0718 - val_accuracy: 0.9924\n",
            "Epoch 82/200\n",
            "1875/1875 [==============================] - 6s 3ms/step - loss: 0.0048 - accuracy: 0.9987 - val_loss: 0.0900 - val_accuracy: 0.9903\n",
            "Epoch 83/200\n",
            "1875/1875 [==============================] - 6s 3ms/step - loss: 0.0040 - accuracy: 0.9988 - val_loss: 0.0721 - val_accuracy: 0.9916\n",
            "Epoch 84/200\n",
            "1875/1875 [==============================] - 7s 4ms/step - loss: 0.0063 - accuracy: 0.9985 - val_loss: 0.0699 - val_accuracy: 0.9914\n",
            "Epoch 85/200\n",
            "1875/1875 [==============================] - 6s 3ms/step - loss: 0.0051 - accuracy: 0.9989 - val_loss: 0.0744 - val_accuracy: 0.9916\n",
            "Epoch 86/200\n",
            "1875/1875 [==============================] - 6s 3ms/step - loss: 0.0047 - accuracy: 0.9987 - val_loss: 0.0687 - val_accuracy: 0.9920\n",
            "Epoch 87/200\n",
            "1875/1875 [==============================] - 7s 3ms/step - loss: 0.0041 - accuracy: 0.9988 - val_loss: 0.0628 - val_accuracy: 0.9927\n",
            "Epoch 88/200\n",
            "1875/1875 [==============================] - 7s 4ms/step - loss: 0.0052 - accuracy: 0.9988 - val_loss: 0.0648 - val_accuracy: 0.9926\n",
            "Epoch 89/200\n",
            "1875/1875 [==============================] - 7s 4ms/step - loss: 0.0043 - accuracy: 0.9989 - val_loss: 0.0733 - val_accuracy: 0.9921\n",
            "Epoch 90/200\n",
            "1875/1875 [==============================] - 6s 3ms/step - loss: 0.0047 - accuracy: 0.9988 - val_loss: 0.0572 - val_accuracy: 0.9932\n",
            "Epoch 91/200\n",
            "1875/1875 [==============================] - 7s 4ms/step - loss: 0.0044 - accuracy: 0.9988 - val_loss: 0.0599 - val_accuracy: 0.9925\n",
            "Epoch 92/200\n",
            "1875/1875 [==============================] - 7s 4ms/step - loss: 0.0045 - accuracy: 0.9987 - val_loss: 0.0654 - val_accuracy: 0.9918\n",
            "Epoch 93/200\n",
            "1875/1875 [==============================] - 6s 3ms/step - loss: 0.0052 - accuracy: 0.9987 - val_loss: 0.0646 - val_accuracy: 0.9931\n",
            "Epoch 94/200\n",
            "1875/1875 [==============================] - 6s 3ms/step - loss: 0.0042 - accuracy: 0.9988 - val_loss: 0.0548 - val_accuracy: 0.9925\n",
            "Epoch 95/200\n",
            "1875/1875 [==============================] - 6s 3ms/step - loss: 0.0037 - accuracy: 0.9990 - val_loss: 0.0537 - val_accuracy: 0.9925\n",
            "Epoch 96/200\n",
            "1875/1875 [==============================] - 6s 3ms/step - loss: 0.0045 - accuracy: 0.9990 - val_loss: 0.0704 - val_accuracy: 0.9926\n",
            "Epoch 97/200\n",
            "1875/1875 [==============================] - 6s 3ms/step - loss: 0.0041 - accuracy: 0.9990 - val_loss: 0.0683 - val_accuracy: 0.9926\n",
            "Epoch 98/200\n",
            "1875/1875 [==============================] - 6s 3ms/step - loss: 0.0048 - accuracy: 0.9988 - val_loss: 0.0782 - val_accuracy: 0.9933\n",
            "Epoch 99/200\n",
            "1875/1875 [==============================] - 6s 3ms/step - loss: 0.0043 - accuracy: 0.9989 - val_loss: 0.0839 - val_accuracy: 0.9915\n",
            "Epoch 100/200\n",
            "1875/1875 [==============================] - 6s 3ms/step - loss: 0.0049 - accuracy: 0.9987 - val_loss: 0.0789 - val_accuracy: 0.9924\n",
            "Epoch 101/200\n",
            "1875/1875 [==============================] - 6s 3ms/step - loss: 0.0039 - accuracy: 0.9991 - val_loss: 0.0682 - val_accuracy: 0.9926\n",
            "Epoch 102/200\n",
            "1875/1875 [==============================] - 6s 3ms/step - loss: 0.0038 - accuracy: 0.9990 - val_loss: 0.0677 - val_accuracy: 0.9927\n",
            "Epoch 103/200\n",
            "1875/1875 [==============================] - 6s 3ms/step - loss: 0.0048 - accuracy: 0.9988 - val_loss: 0.0647 - val_accuracy: 0.9928\n",
            "Epoch 104/200\n",
            "1875/1875 [==============================] - 6s 3ms/step - loss: 0.0050 - accuracy: 0.9989 - val_loss: 0.0753 - val_accuracy: 0.9933\n",
            "Epoch 105/200\n",
            "1875/1875 [==============================] - 6s 3ms/step - loss: 0.0050 - accuracy: 0.9987 - val_loss: 0.0656 - val_accuracy: 0.9928\n",
            "Epoch 106/200\n",
            "1875/1875 [==============================] - 6s 3ms/step - loss: 0.0034 - accuracy: 0.9992 - val_loss: 0.0761 - val_accuracy: 0.9917\n",
            "Epoch 107/200\n",
            "1875/1875 [==============================] - 6s 3ms/step - loss: 0.0050 - accuracy: 0.9990 - val_loss: 0.0655 - val_accuracy: 0.9928\n",
            "Epoch 108/200\n",
            "1875/1875 [==============================] - 6s 3ms/step - loss: 0.0039 - accuracy: 0.9991 - val_loss: 0.0737 - val_accuracy: 0.9921\n",
            "Epoch 109/200\n",
            "1875/1875 [==============================] - 6s 3ms/step - loss: 0.0058 - accuracy: 0.9986 - val_loss: 0.0658 - val_accuracy: 0.9930\n",
            "Epoch 110/200\n",
            "1875/1875 [==============================] - 6s 3ms/step - loss: 0.0049 - accuracy: 0.9990 - val_loss: 0.0826 - val_accuracy: 0.9923\n",
            "Epoch 111/200\n",
            "1875/1875 [==============================] - 6s 3ms/step - loss: 0.0052 - accuracy: 0.9990 - val_loss: 0.0650 - val_accuracy: 0.9924\n",
            "Epoch 112/200\n",
            "1875/1875 [==============================] - 7s 3ms/step - loss: 0.0047 - accuracy: 0.9988 - val_loss: 0.0668 - val_accuracy: 0.9919\n",
            "Epoch 113/200\n",
            "1875/1875 [==============================] - 6s 3ms/step - loss: 0.0051 - accuracy: 0.9988 - val_loss: 0.0679 - val_accuracy: 0.9931\n",
            "Epoch 114/200\n",
            "1875/1875 [==============================] - 6s 3ms/step - loss: 0.0038 - accuracy: 0.9992 - val_loss: 0.0699 - val_accuracy: 0.9930\n",
            "Epoch 115/200\n",
            "1875/1875 [==============================] - 6s 3ms/step - loss: 0.0037 - accuracy: 0.9989 - val_loss: 0.0754 - val_accuracy: 0.9929\n",
            "Epoch 116/200\n",
            "1875/1875 [==============================] - 7s 3ms/step - loss: 0.0053 - accuracy: 0.9988 - val_loss: 0.0902 - val_accuracy: 0.9928\n",
            "Epoch 117/200\n",
            "1875/1875 [==============================] - 7s 4ms/step - loss: 0.0036 - accuracy: 0.9992 - val_loss: 0.0680 - val_accuracy: 0.9924\n",
            "Epoch 118/200\n",
            "1875/1875 [==============================] - 6s 3ms/step - loss: 0.0056 - accuracy: 0.9988 - val_loss: 0.0687 - val_accuracy: 0.9926\n",
            "Epoch 119/200\n",
            "1875/1875 [==============================] - 6s 3ms/step - loss: 0.0032 - accuracy: 0.9991 - val_loss: 0.0646 - val_accuracy: 0.9928\n",
            "Epoch 120/200\n",
            "1875/1875 [==============================] - 6s 3ms/step - loss: 0.0044 - accuracy: 0.9990 - val_loss: 0.0773 - val_accuracy: 0.9923\n",
            "Epoch 121/200\n",
            "1875/1875 [==============================] - 7s 3ms/step - loss: 0.0033 - accuracy: 0.9991 - val_loss: 0.0765 - val_accuracy: 0.9915\n",
            "Epoch 122/200\n",
            "1875/1875 [==============================] - 6s 3ms/step - loss: 0.0055 - accuracy: 0.9987 - val_loss: 0.0845 - val_accuracy: 0.9915\n",
            "Epoch 123/200\n",
            "1875/1875 [==============================] - 6s 3ms/step - loss: 0.0043 - accuracy: 0.9991 - val_loss: 0.0686 - val_accuracy: 0.9926\n",
            "Epoch 124/200\n",
            "1875/1875 [==============================] - 6s 3ms/step - loss: 0.0038 - accuracy: 0.9989 - val_loss: 0.1079 - val_accuracy: 0.9900\n",
            "Epoch 125/200\n",
            "1875/1875 [==============================] - 6s 3ms/step - loss: 0.0043 - accuracy: 0.9990 - val_loss: 0.0809 - val_accuracy: 0.9923\n",
            "Epoch 126/200\n",
            "1875/1875 [==============================] - 6s 3ms/step - loss: 0.0039 - accuracy: 0.9990 - val_loss: 0.0922 - val_accuracy: 0.9927\n",
            "Epoch 127/200\n",
            "1875/1875 [==============================] - 6s 3ms/step - loss: 0.0062 - accuracy: 0.9989 - val_loss: 0.0796 - val_accuracy: 0.9930\n",
            "Epoch 128/200\n",
            "1875/1875 [==============================] - 6s 3ms/step - loss: 0.0039 - accuracy: 0.9990 - val_loss: 0.0863 - val_accuracy: 0.9925\n",
            "Epoch 129/200\n",
            "1875/1875 [==============================] - 6s 3ms/step - loss: 0.0039 - accuracy: 0.9991 - val_loss: 0.0807 - val_accuracy: 0.9924\n",
            "Epoch 130/200\n",
            "1875/1875 [==============================] - 7s 3ms/step - loss: 0.0046 - accuracy: 0.9990 - val_loss: 0.0983 - val_accuracy: 0.9915\n",
            "Epoch 131/200\n",
            "1875/1875 [==============================] - 6s 3ms/step - loss: 0.0040 - accuracy: 0.9992 - val_loss: 0.0893 - val_accuracy: 0.9921\n",
            "Epoch 132/200\n",
            "1875/1875 [==============================] - 6s 3ms/step - loss: 0.0047 - accuracy: 0.9991 - val_loss: 0.0919 - val_accuracy: 0.9928\n",
            "Epoch 133/200\n",
            "1875/1875 [==============================] - 6s 3ms/step - loss: 0.0053 - accuracy: 0.9989 - val_loss: 0.0874 - val_accuracy: 0.9931\n",
            "Epoch 134/200\n",
            "1875/1875 [==============================] - 7s 4ms/step - loss: 0.0058 - accuracy: 0.9989 - val_loss: 0.0748 - val_accuracy: 0.9912\n",
            "Epoch 135/200\n",
            "1875/1875 [==============================] - 7s 3ms/step - loss: 0.0045 - accuracy: 0.9989 - val_loss: 0.0844 - val_accuracy: 0.9924\n",
            "Epoch 136/200\n",
            "1875/1875 [==============================] - 7s 4ms/step - loss: 0.0048 - accuracy: 0.9989 - val_loss: 0.0846 - val_accuracy: 0.9930\n",
            "Epoch 137/200\n",
            "1875/1875 [==============================] - 6s 3ms/step - loss: 0.0052 - accuracy: 0.9990 - val_loss: 0.0734 - val_accuracy: 0.9935\n",
            "Epoch 138/200\n",
            "1875/1875 [==============================] - 7s 4ms/step - loss: 0.0038 - accuracy: 0.9991 - val_loss: 0.0874 - val_accuracy: 0.9924\n",
            "Epoch 139/200\n",
            "1875/1875 [==============================] - 7s 4ms/step - loss: 0.0044 - accuracy: 0.9990 - val_loss: 0.0932 - val_accuracy: 0.9915\n",
            "Epoch 140/200\n",
            "1875/1875 [==============================] - 7s 4ms/step - loss: 0.0032 - accuracy: 0.9991 - val_loss: 0.0956 - val_accuracy: 0.9929\n",
            "Epoch 141/200\n",
            "1875/1875 [==============================] - 7s 4ms/step - loss: 0.0051 - accuracy: 0.9990 - val_loss: 0.0892 - val_accuracy: 0.9925\n",
            "Epoch 142/200\n",
            "1875/1875 [==============================] - 6s 3ms/step - loss: 0.0045 - accuracy: 0.9991 - val_loss: 0.0903 - val_accuracy: 0.9929\n",
            "Epoch 143/200\n",
            "1875/1875 [==============================] - 6s 3ms/step - loss: 0.0035 - accuracy: 0.9991 - val_loss: 0.1043 - val_accuracy: 0.9922\n",
            "Epoch 144/200\n",
            "1875/1875 [==============================] - 7s 3ms/step - loss: 0.0047 - accuracy: 0.9990 - val_loss: 0.0944 - val_accuracy: 0.9920\n",
            "Epoch 145/200\n",
            "1875/1875 [==============================] - 7s 3ms/step - loss: 0.0040 - accuracy: 0.9991 - val_loss: 0.0926 - val_accuracy: 0.9923\n",
            "Epoch 146/200\n",
            "1875/1875 [==============================] - 6s 3ms/step - loss: 0.0053 - accuracy: 0.9988 - val_loss: 0.0814 - val_accuracy: 0.9929\n",
            "Epoch 147/200\n",
            "1875/1875 [==============================] - 6s 3ms/step - loss: 0.0038 - accuracy: 0.9991 - val_loss: 0.1030 - val_accuracy: 0.9924\n",
            "Epoch 148/200\n",
            "1875/1875 [==============================] - 6s 3ms/step - loss: 0.0040 - accuracy: 0.9991 - val_loss: 0.1027 - val_accuracy: 0.9923\n",
            "Epoch 149/200\n",
            "1875/1875 [==============================] - 6s 3ms/step - loss: 0.0054 - accuracy: 0.9987 - val_loss: 0.1045 - val_accuracy: 0.9929\n",
            "Epoch 150/200\n",
            "1875/1875 [==============================] - 7s 4ms/step - loss: 0.0050 - accuracy: 0.9990 - val_loss: 0.0928 - val_accuracy: 0.9923\n",
            "Epoch 151/200\n",
            "1875/1875 [==============================] - 7s 3ms/step - loss: 0.0058 - accuracy: 0.9988 - val_loss: 0.0909 - val_accuracy: 0.9929\n",
            "Epoch 152/200\n",
            "1875/1875 [==============================] - 7s 4ms/step - loss: 0.0039 - accuracy: 0.9992 - val_loss: 0.0888 - val_accuracy: 0.9930\n",
            "Epoch 153/200\n",
            "1875/1875 [==============================] - 7s 4ms/step - loss: 0.0044 - accuracy: 0.9991 - val_loss: 0.1080 - val_accuracy: 0.9929\n",
            "Epoch 154/200\n",
            "1875/1875 [==============================] - 7s 4ms/step - loss: 0.0052 - accuracy: 0.9989 - val_loss: 0.0909 - val_accuracy: 0.9941\n",
            "Epoch 155/200\n",
            "1875/1875 [==============================] - 7s 4ms/step - loss: 0.0069 - accuracy: 0.9987 - val_loss: 0.1017 - val_accuracy: 0.9919\n",
            "Epoch 156/200\n",
            "1875/1875 [==============================] - 7s 4ms/step - loss: 0.0059 - accuracy: 0.9987 - val_loss: 0.0952 - val_accuracy: 0.9928\n",
            "Epoch 157/200\n",
            "1875/1875 [==============================] - 7s 4ms/step - loss: 0.0049 - accuracy: 0.9992 - val_loss: 0.0785 - val_accuracy: 0.9930\n",
            "Epoch 158/200\n",
            "1875/1875 [==============================] - 7s 4ms/step - loss: 0.0041 - accuracy: 0.9991 - val_loss: 0.0780 - val_accuracy: 0.9924\n",
            "Epoch 159/200\n",
            "1875/1875 [==============================] - 7s 4ms/step - loss: 0.0038 - accuracy: 0.9991 - val_loss: 0.0912 - val_accuracy: 0.9930\n",
            "Epoch 160/200\n",
            "1875/1875 [==============================] - 7s 4ms/step - loss: 0.0033 - accuracy: 0.9992 - val_loss: 0.0843 - val_accuracy: 0.9919\n",
            "Epoch 161/200\n",
            "1875/1875 [==============================] - 8s 4ms/step - loss: 0.0044 - accuracy: 0.9990 - val_loss: 0.1164 - val_accuracy: 0.9916\n",
            "Epoch 162/200\n",
            "1875/1875 [==============================] - 7s 4ms/step - loss: 0.0060 - accuracy: 0.9989 - val_loss: 0.1010 - val_accuracy: 0.9930\n",
            "Epoch 163/200\n",
            "1875/1875 [==============================] - 6s 3ms/step - loss: 0.0049 - accuracy: 0.9991 - val_loss: 0.0866 - val_accuracy: 0.9912\n",
            "Epoch 164/200\n",
            "1875/1875 [==============================] - 7s 4ms/step - loss: 0.0036 - accuracy: 0.9993 - val_loss: 0.0994 - val_accuracy: 0.9920\n",
            "Epoch 165/200\n",
            "1875/1875 [==============================] - 7s 4ms/step - loss: 0.0048 - accuracy: 0.9990 - val_loss: 0.0823 - val_accuracy: 0.9925\n",
            "Epoch 166/200\n",
            "1875/1875 [==============================] - 7s 4ms/step - loss: 0.0030 - accuracy: 0.9991 - val_loss: 0.1006 - val_accuracy: 0.9931\n",
            "Epoch 167/200\n",
            "1875/1875 [==============================] - 7s 4ms/step - loss: 0.0035 - accuracy: 0.9993 - val_loss: 0.1048 - val_accuracy: 0.9921\n",
            "Epoch 168/200\n",
            "1875/1875 [==============================] - 7s 4ms/step - loss: 0.0050 - accuracy: 0.9989 - val_loss: 0.1057 - val_accuracy: 0.9930\n",
            "Epoch 169/200\n",
            "1875/1875 [==============================] - 7s 4ms/step - loss: 0.0035 - accuracy: 0.9993 - val_loss: 0.1139 - val_accuracy: 0.9921\n",
            "Epoch 170/200\n",
            "1875/1875 [==============================] - 7s 4ms/step - loss: 0.0048 - accuracy: 0.9990 - val_loss: 0.0883 - val_accuracy: 0.9919\n",
            "Epoch 171/200\n",
            "1875/1875 [==============================] - 7s 4ms/step - loss: 0.0032 - accuracy: 0.9991 - val_loss: 0.1047 - val_accuracy: 0.9920\n",
            "Epoch 172/200\n",
            "1875/1875 [==============================] - 7s 4ms/step - loss: 0.0048 - accuracy: 0.9990 - val_loss: 0.1176 - val_accuracy: 0.9923\n",
            "Epoch 173/200\n",
            "1875/1875 [==============================] - 7s 4ms/step - loss: 0.0045 - accuracy: 0.9991 - val_loss: 0.1048 - val_accuracy: 0.9932\n",
            "Epoch 174/200\n",
            "1875/1875 [==============================] - 7s 4ms/step - loss: 0.0058 - accuracy: 0.9989 - val_loss: 0.0982 - val_accuracy: 0.9932\n",
            "Epoch 175/200\n",
            "1875/1875 [==============================] - 7s 4ms/step - loss: 0.0038 - accuracy: 0.9992 - val_loss: 0.0952 - val_accuracy: 0.9926\n",
            "Epoch 176/200\n",
            "1875/1875 [==============================] - 7s 4ms/step - loss: 0.0048 - accuracy: 0.9991 - val_loss: 0.0945 - val_accuracy: 0.9923\n",
            "Epoch 177/200\n",
            "1875/1875 [==============================] - 7s 4ms/step - loss: 0.0041 - accuracy: 0.9991 - val_loss: 0.0931 - val_accuracy: 0.9931\n",
            "Epoch 178/200\n",
            "1875/1875 [==============================] - 8s 4ms/step - loss: 0.0036 - accuracy: 0.9991 - val_loss: 0.1043 - val_accuracy: 0.9929\n",
            "Epoch 179/200\n",
            "1875/1875 [==============================] - 7s 4ms/step - loss: 0.0045 - accuracy: 0.9991 - val_loss: 0.1085 - val_accuracy: 0.9930\n",
            "Epoch 180/200\n",
            "1875/1875 [==============================] - 7s 4ms/step - loss: 0.0041 - accuracy: 0.9992 - val_loss: 0.1128 - val_accuracy: 0.9928\n",
            "Epoch 181/200\n",
            "1875/1875 [==============================] - 7s 4ms/step - loss: 0.0040 - accuracy: 0.9991 - val_loss: 0.1075 - val_accuracy: 0.9930\n",
            "Epoch 182/200\n",
            "1875/1875 [==============================] - 7s 4ms/step - loss: 0.0038 - accuracy: 0.9993 - val_loss: 0.1046 - val_accuracy: 0.9933\n",
            "Epoch 183/200\n",
            "1875/1875 [==============================] - 7s 4ms/step - loss: 0.0048 - accuracy: 0.9991 - val_loss: 0.0925 - val_accuracy: 0.9923\n",
            "Epoch 184/200\n",
            "1875/1875 [==============================] - 7s 4ms/step - loss: 0.0058 - accuracy: 0.9990 - val_loss: 0.1261 - val_accuracy: 0.9924\n",
            "Epoch 185/200\n",
            "1875/1875 [==============================] - 7s 4ms/step - loss: 0.0051 - accuracy: 0.9991 - val_loss: 0.1041 - val_accuracy: 0.9921\n",
            "Epoch 186/200\n",
            "1875/1875 [==============================] - 7s 4ms/step - loss: 0.0032 - accuracy: 0.9994 - val_loss: 0.1176 - val_accuracy: 0.9926\n",
            "Epoch 187/200\n",
            "1875/1875 [==============================] - 7s 4ms/step - loss: 0.0069 - accuracy: 0.9990 - val_loss: 0.1000 - val_accuracy: 0.9930\n",
            "Epoch 188/200\n",
            "1875/1875 [==============================] - 7s 4ms/step - loss: 0.0040 - accuracy: 0.9991 - val_loss: 0.0988 - val_accuracy: 0.9935\n",
            "Epoch 189/200\n",
            "1875/1875 [==============================] - 7s 4ms/step - loss: 0.0047 - accuracy: 0.9993 - val_loss: 0.1132 - val_accuracy: 0.9918\n",
            "Epoch 190/200\n",
            "1875/1875 [==============================] - 7s 4ms/step - loss: 0.0039 - accuracy: 0.9991 - val_loss: 0.1071 - val_accuracy: 0.9937\n",
            "Epoch 191/200\n",
            "1875/1875 [==============================] - 7s 4ms/step - loss: 0.0056 - accuracy: 0.9992 - val_loss: 0.1089 - val_accuracy: 0.9929\n",
            "Epoch 192/200\n",
            "1875/1875 [==============================] - 7s 4ms/step - loss: 0.0055 - accuracy: 0.9992 - val_loss: 0.0980 - val_accuracy: 0.9932\n",
            "Epoch 193/200\n",
            "1875/1875 [==============================] - 7s 4ms/step - loss: 0.0040 - accuracy: 0.9992 - val_loss: 0.1031 - val_accuracy: 0.9921\n",
            "Epoch 194/200\n",
            "1875/1875 [==============================] - 7s 4ms/step - loss: 0.0051 - accuracy: 0.9991 - val_loss: 0.1193 - val_accuracy: 0.9921\n",
            "Epoch 195/200\n",
            "1875/1875 [==============================] - 7s 4ms/step - loss: 0.0048 - accuracy: 0.9991 - val_loss: 0.1169 - val_accuracy: 0.9928\n",
            "Epoch 196/200\n",
            "1875/1875 [==============================] - 7s 4ms/step - loss: 0.0038 - accuracy: 0.9992 - val_loss: 0.1156 - val_accuracy: 0.9908\n",
            "Epoch 197/200\n",
            "1875/1875 [==============================] - 6s 3ms/step - loss: 0.0046 - accuracy: 0.9991 - val_loss: 0.0995 - val_accuracy: 0.9921\n",
            "Epoch 198/200\n",
            "1875/1875 [==============================] - 7s 4ms/step - loss: 0.0046 - accuracy: 0.9991 - val_loss: 0.0990 - val_accuracy: 0.9924\n",
            "Epoch 199/200\n",
            "1875/1875 [==============================] - 7s 4ms/step - loss: 0.0038 - accuracy: 0.9991 - val_loss: 0.0938 - val_accuracy: 0.9926\n",
            "Epoch 200/200\n",
            "1875/1875 [==============================] - 7s 4ms/step - loss: 0.0051 - accuracy: 0.9990 - val_loss: 0.1059 - val_accuracy: 0.9930\n"
          ]
        },
        {
          "output_type": "execute_result",
          "data": {
            "text/plain": [
              "<keras.callbacks.History at 0x7fcbd09003d0>"
            ]
          },
          "metadata": {},
          "execution_count": 24
        }
      ]
    },
    {
      "cell_type": "code",
      "source": [
        "!pip install visualkeras"
      ],
      "metadata": {
        "colab": {
          "base_uri": "https://localhost:8080/"
        },
        "id": "VyfVUpbhw2u6",
        "outputId": "1a94c61b-06af-40a0-b24f-763f5aa6dbdd"
      },
      "execution_count": 25,
      "outputs": [
        {
          "output_type": "stream",
          "name": "stdout",
          "text": [
            "Looking in indexes: https://pypi.org/simple, https://us-python.pkg.dev/colab-wheels/public/simple/\n",
            "Collecting visualkeras\n",
            "  Downloading visualkeras-0.0.2-py3-none-any.whl (12 kB)\n",
            "Requirement already satisfied: pillow>=6.2.0 in /usr/local/lib/python3.7/dist-packages (from visualkeras) (7.1.2)\n",
            "Requirement already satisfied: numpy>=1.18.1 in /usr/local/lib/python3.7/dist-packages (from visualkeras) (1.21.6)\n",
            "Collecting aggdraw>=1.3.11\n",
            "  Downloading aggdraw-1.3.15-cp37-cp37m-manylinux_2_17_x86_64.manylinux2014_x86_64.whl (989 kB)\n",
            "\u001b[K     |████████████████████████████████| 989 kB 5.0 MB/s \n",
            "\u001b[?25hInstalling collected packages: aggdraw, visualkeras\n",
            "Successfully installed aggdraw-1.3.15 visualkeras-0.0.2\n"
          ]
        }
      ]
    },
    {
      "cell_type": "code",
      "source": [
        "import visualkeras\n",
        "visualkeras.layered_view(cnnModel_MNIST,legend=True)\n"
      ],
      "metadata": {
        "colab": {
          "base_uri": "https://localhost:8080/",
          "height": 192
        },
        "id": "7rZGpJ5WsagJ",
        "outputId": "de531a2c-4fe6-47b9-9f22-8ae62a0b9b96"
      },
      "execution_count": 26,
      "outputs": [
        {
          "output_type": "execute_result",
          "data": {
            "text/plain": [
              "<PIL.Image.Image image mode=RGBA size=651x175 at 0x7FCB3C1C6F10>"
            ],
            "image/png": "[encoded data removed]"
          },
          "metadata": {},
          "execution_count": 26
        }
      ]
    }
  ]
}