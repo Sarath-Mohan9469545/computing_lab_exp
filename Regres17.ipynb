{
  "nbformat": 4,
  "nbformat_minor": 0,
  "metadata": {
    "colab": {
      "name": "Regres17.ipynb",
      "provenance": [],
      "include_colab_link": true
    },
    "kernelspec": {
      "name": "python3",
      "display_name": "Python 3"
    },
    "language_info": {
      "name": "python"
    }
  },
  "cells": [
    {
      "cell_type": "markdown",
      "metadata": {
        "id": "view-in-github",
        "colab_type": "text"
      },
      "source": [
        "<a href=\"https://colab.research.google.com/github/Sarath-Mohan9469545/computing_lab_exp/blob/main/Regres17.ipynb\" target=\"_parent\"><img src=\"https://colab.research.google.com/assets/colab-badge.svg\" alt=\"Open In Colab\"/></a>"
      ]
    },
    {
      "cell_type": "markdown",
      "source": [
        "## Univariate Regression"
      ],
      "metadata": {
        "id": "OYohSav0_DZ6"
      }
    },
    {
      "cell_type": "code",
      "execution_count": 4,
      "metadata": {
        "id": "KA3QU3G29QBY"
      },
      "outputs": [],
      "source": [
        "import numpy as np\n",
        "import pandas as pd\n",
        "import seaborn as sns\n",
        "import matplotlib.pyplot as plt\n",
        "from sklearn import preprocessing, svm\n",
        "from sklearn.model_selection import train_test_split\n",
        "from sklearn.linear_model import LinearRegression, Lasso, Ridge\n",
        "from sklearn.datasets import make_regression\n",
        "from sklearn.model_selection import train_test_split\n",
        "import sklearn.metrics as metrics"
      ]
    },
    {
      "cell_type": "code",
      "source": [
        "X, y = make_regression(n_features=1, n_targets=1, noise=12)"
      ],
      "metadata": {
        "id": "K880eG1L9okL"
      },
      "execution_count": 5,
      "outputs": []
    },
    {
      "cell_type": "code",
      "source": [
        "X_train, X_test, y_train, y_test = train_test_split(X, y, test_size=0.20, random_state=42)"
      ],
      "metadata": {
        "id": "QzlbdAMy95km"
      },
      "execution_count": 6,
      "outputs": []
    },
    {
      "cell_type": "code",
      "source": [
        "lr = LinearRegression()\n",
        "lr.fit(X_train, y_train)\n",
        "print(lr.score(X_test,y_test))"
      ],
      "metadata": {
        "colab": {
          "base_uri": "https://localhost:8080/"
        },
        "id": "yGWWVnMn_gO0",
        "outputId": "0a81f035-a5fd-45a5-e4e3-82e9de36233c"
      },
      "execution_count": 7,
      "outputs": [
        {
          "output_type": "stream",
          "name": "stdout",
          "text": [
            "0.9442353760269911\n"
          ]
        }
      ]
    },
    {
      "cell_type": "code",
      "source": [
        "y_pred = lr.predict(X_test)"
      ],
      "metadata": {
        "id": "sPaH3Qt3_kGe"
      },
      "execution_count": 8,
      "outputs": []
    },
    {
      "cell_type": "code",
      "source": [
        "coef = lr.coef_\n",
        "intercept = lr.intercept_\n",
        "print('coef= ', coef)\n",
        "print('intercept= ', intercept)"
      ],
      "metadata": {
        "colab": {
          "base_uri": "https://localhost:8080/"
        },
        "id": "EhwvuD-S_ngs",
        "outputId": "fd6802ae-fada-411f-90b1-9b7b0928319f"
      },
      "execution_count": 9,
      "outputs": [
        {
          "output_type": "stream",
          "name": "stdout",
          "text": [
            "coef=  [52.75379414]\n",
            "intercept=  0.4683746537765441\n"
          ]
        }
      ]
    },
    {
      "cell_type": "code",
      "source": [
        "mae = metrics.mean_absolute_error(y_test, y_pred)\n",
        "mse = metrics.mean_squared_error(y_test, y_pred)\n",
        "rmse = np.sqrt(mse) # or mse**(0.5)  \n",
        "r2 = metrics.r2_score(y_test,y_pred)\n",
        "\n",
        "print(\"Results of sklearn.metrics:\")\n",
        "print(\"MAE:\",mae)\n",
        "print(\"MSE:\", mse)\n",
        "print(\"RMSE:\", rmse)\n",
        "print(\"R-Squared:\", r2)"
      ],
      "metadata": {
        "colab": {
          "base_uri": "https://localhost:8080/"
        },
        "id": "-ObyPyWD_rar",
        "outputId": "1cf2872f-65ba-430a-ba27-8fac5b37ba8b"
      },
      "execution_count": 10,
      "outputs": [
        {
          "output_type": "stream",
          "name": "stdout",
          "text": [
            "Results of sklearn.metrics:\n",
            "MAE: 8.072530788514246\n",
            "MSE: 122.43942066465965\n",
            "RMSE: 11.065234776752803\n",
            "R-Squared: 0.9442353760269911\n"
          ]
        }
      ]
    },
    {
      "cell_type": "code",
      "source": [
        "plt.scatter(y_pred, y_test, color=\"black\")\n",
        "plt.plot(y_pred, y_pred, color=\"blue\", linewidth=3)"
      ],
      "metadata": {
        "colab": {
          "base_uri": "https://localhost:8080/",
          "height": 282
        },
        "id": "TgcKSN7-_vio",
        "outputId": "3d023f19-151f-4e1f-805a-0645c2744eb0"
      },
      "execution_count": 11,
      "outputs": [
        {
          "output_type": "execute_result",
          "data": {
            "text/plain": [
              "[<matplotlib.lines.Line2D at 0x7f825a017110>]"
            ]
          },
          "metadata": {},
          "execution_count": 11
        },
        {
          "output_type": "display_data",
          "data": {
            "text/plain": [
              "<Figure size 432x288 with 1 Axes>"
            ],
            "image/png": "[encoded data removed]"
          },
          "metadata": {
            "needs_background": "light"
          }
        }
      ]
    },
    {
      "cell_type": "markdown",
      "source": [
        "**Multivariate Regression**"
      ],
      "metadata": {
        "id": "igsGvFoM-6ls"
      }
    },
    {
      "cell_type": "code",
      "source": [
        "X, y = make_regression(n_features=12, n_targets=1, noise=47)"
      ],
      "metadata": {
        "id": "MYik3WN1_zQW"
      },
      "execution_count": 16,
      "outputs": []
    },
    {
      "cell_type": "code",
      "source": [
        "X_train, X_test, y_train, y_test = train_test_split(X, y, test_size=0.20, random_state=42)"
      ],
      "metadata": {
        "id": "akj42SBx-7wx"
      },
      "execution_count": 17,
      "outputs": []
    },
    {
      "cell_type": "code",
      "source": [
        "lr = LinearRegression()\n",
        "lr.fit(X_train, y_train)\n",
        "print(lr.score(X_test,y_test))"
      ],
      "metadata": {
        "colab": {
          "base_uri": "https://localhost:8080/"
        },
        "id": "whlrEuRXAP3h",
        "outputId": "c883e99b-f693-47a7-b564-6abae9784117"
      },
      "execution_count": 18,
      "outputs": [
        {
          "output_type": "stream",
          "name": "stdout",
          "text": [
            "0.9524032341791258\n"
          ]
        }
      ]
    },
    {
      "cell_type": "code",
      "source": [
        "y_pred = lr.predict(X_test)"
      ],
      "metadata": {
        "id": "rEj4l1xXATIi"
      },
      "execution_count": 19,
      "outputs": []
    },
    {
      "cell_type": "code",
      "source": [
        "coef = lr.coef_\n",
        "intercept = lr.intercept_\n",
        "print('coef= ', coef)\n",
        "print('intercept= ', intercept)"
      ],
      "metadata": {
        "colab": {
          "base_uri": "https://localhost:8080/"
        },
        "id": "vWF4QVnjAZTp",
        "outputId": "4852cba5-138c-402d-abef-9c660b0ff60d"
      },
      "execution_count": 20,
      "outputs": [
        {
          "output_type": "stream",
          "name": "stdout",
          "text": [
            "coef=  [ 1.54417215  1.73866212 -2.35570402 51.29426303 55.15570914 59.84938363\n",
            " 98.13118823 29.9374762  32.41192773  5.36733989  3.82654264 59.47320275]\n",
            "intercept=  -2.6615862091991502\n"
          ]
        }
      ]
    },
    {
      "cell_type": "code",
      "source": [
        "mae = metrics.mean_absolute_error(y_test, y_pred)\n",
        "mse = metrics.mean_squared_error(y_test, y_pred)\n",
        "rmse = np.sqrt(mse) # or mse**(0.5)  \n",
        "r2 = metrics.r2_score(y_test,y_pred)\n",
        "\n",
        "print(\"MAE:\",mae)\n",
        "print(\"MSE:\", mse)\n",
        "print(\"RMSE:\", rmse)\n",
        "print(\"R-Squared:\", r2)"
      ],
      "metadata": {
        "colab": {
          "base_uri": "https://localhost:8080/"
        },
        "id": "AhBMv_KfAbqK",
        "outputId": "30eb7020-718e-41ab-e04b-3d2af04be713"
      },
      "execution_count": 21,
      "outputs": [
        {
          "output_type": "stream",
          "name": "stdout",
          "text": [
            "MAE: 42.763161154577155\n",
            "MSE: 2417.0914516208877\n",
            "RMSE: 49.163924290285124\n",
            "R-Squared: 0.9524032341791258\n"
          ]
        }
      ]
    },
    {
      "cell_type": "code",
      "source": [
        "y_pred"
      ],
      "metadata": {
        "colab": {
          "base_uri": "https://localhost:8080/"
        },
        "id": "Ulai4dMEAfxJ",
        "outputId": "ba46841e-6111-44e1-d26a-1f30741377a2"
      },
      "execution_count": 22,
      "outputs": [
        {
          "output_type": "execute_result",
          "data": {
            "text/plain": [
              "array([ 244.23442609,   40.54150897,  175.5468829 , -217.42767835,\n",
              "       -172.02986448,   40.05169514,   -2.94890983,  207.61348888,\n",
              "        -69.97694818,   44.81387267, -203.63496105,  348.58763024,\n",
              "       -466.66130714, -118.0404923 ,  333.95582138,  204.63078046,\n",
              "         96.82982237,  134.4438541 , -290.01000531, -170.22142517])"
            ]
          },
          "metadata": {},
          "execution_count": 22
        }
      ]
    },
    {
      "cell_type": "code",
      "source": [
        "plt.scatter(y_pred, y_test, color=\"black\")\n",
        "plt.plot(y_pred, y_pred, color=\"blue\", linewidth=3)"
      ],
      "metadata": {
        "colab": {
          "base_uri": "https://localhost:8080/",
          "height": 282
        },
        "id": "CL6KvmV2AkAs",
        "outputId": "7a5a8105-1c56-4b82-ec81-6452fb4cfc9d"
      },
      "execution_count": 23,
      "outputs": [
        {
          "output_type": "execute_result",
          "data": {
            "text/plain": [
              "[<matplotlib.lines.Line2D at 0x7f8257af1e90>]"
            ]
          },
          "metadata": {},
          "execution_count": 23
        },
        {
          "output_type": "display_data",
          "data": {
            "text/plain": [
              "<Figure size 432x288 with 1 Axes>"
            ],
            "image/png": "[encoded data removed]"
          },
          "metadata": {
            "needs_background": "light"
          }
        }
      ]
    },
    {
      "cell_type": "markdown",
      "source": [
        "## Lasso Regression"
      ],
      "metadata": {
        "id": "c1N7XtgAArtY"
      }
    },
    {
      "cell_type": "code",
      "source": [
        "X, y = make_regression(n_features=12, n_targets=1, noise=47)"
      ],
      "metadata": {
        "id": "FofCf3VrAoDN"
      },
      "execution_count": 24,
      "outputs": []
    },
    {
      "cell_type": "code",
      "source": [
        "X_train, X_test, y_train, y_test = train_test_split(X, y, test_size=0.20, random_state=42)"
      ],
      "metadata": {
        "id": "SW-cHNNrAy4N"
      },
      "execution_count": 25,
      "outputs": []
    },
    {
      "cell_type": "code",
      "source": [
        "lr = Lasso()\n",
        "lr.fit(X_train, y_train)\n",
        "print(lr.score(X_test,y_test))"
      ],
      "metadata": {
        "colab": {
          "base_uri": "https://localhost:8080/"
        },
        "id": "sB9wVraYA275",
        "outputId": "771f1056-01f2-4425-814a-d505bb8800ba"
      },
      "execution_count": 26,
      "outputs": [
        {
          "output_type": "stream",
          "name": "stdout",
          "text": [
            "0.9656506831762964\n"
          ]
        }
      ]
    },
    {
      "cell_type": "code",
      "source": [
        "y_pred = lr.predict(X_test)"
      ],
      "metadata": {
        "id": "Y2yaowAHA6ad"
      },
      "execution_count": 27,
      "outputs": []
    },
    {
      "cell_type": "code",
      "source": [
        "coef = lr.coef_\n",
        "intercept = lr.intercept_\n",
        "print('coef= ', coef)\n",
        "print('intercept= ', intercept)"
      ],
      "metadata": {
        "colab": {
          "base_uri": "https://localhost:8080/"
        },
        "id": "jeJFW-j4A9gz",
        "outputId": "65ead2b4-2ee0-4276-e7fd-98b011e90186"
      },
      "execution_count": 28,
      "outputs": [
        {
          "output_type": "stream",
          "name": "stdout",
          "text": [
            "coef=  [70.28529388 -0.          0.         49.19105874 18.77453018  8.0341679\n",
            "  2.33853392 85.44214397 67.79051012 93.4867102  66.02796486 59.71113017]\n",
            "intercept=  -1.0890726995400364\n"
          ]
        }
      ]
    },
    {
      "cell_type": "code",
      "source": [
        "mae = metrics.mean_absolute_error(y_test, y_pred)\n",
        "mse = metrics.mean_squared_error(y_test, y_pred)\n",
        "rmse = np.sqrt(mse) # or mse**(0.5)  \n",
        "r2 = metrics.r2_score(y_test,y_pred)\n",
        "\n",
        "print(\"MAE:\",mae)\n",
        "print(\"MSE:\", mse)\n",
        "print(\"RMSE:\", rmse)\n",
        "print(\"R-Squared:\", r2)"
      ],
      "metadata": {
        "colab": {
          "base_uri": "https://localhost:8080/"
        },
        "id": "K9k1xe__BAkv",
        "outputId": "1178c95e-0708-490c-c1e8-bd1c86e702bd"
      },
      "execution_count": 29,
      "outputs": [
        {
          "output_type": "stream",
          "name": "stdout",
          "text": [
            "MAE: 30.110811337707567\n",
            "MSE: 1717.7196691669792\n",
            "RMSE: 41.44538175921389\n",
            "R-Squared: 0.9656506831762964\n"
          ]
        }
      ]
    },
    {
      "cell_type": "code",
      "source": [
        "y_pred"
      ],
      "metadata": {
        "colab": {
          "base_uri": "https://localhost:8080/"
        },
        "id": "bzV29kXWBEOW",
        "outputId": "b564269d-afe2-40b9-9b6b-1a3f8480c7ad"
      },
      "execution_count": 30,
      "outputs": [
        {
          "output_type": "execute_result",
          "data": {
            "text/plain": [
              "array([  73.49197655, -218.95952865,   75.65487799,  255.93008983,\n",
              "         -2.44192745,   54.6447996 , -376.49438826,  150.45210715,\n",
              "        227.54445552, -170.1370057 , -293.78031913, -105.1606957 ,\n",
              "       -324.95566693,   81.51563637, -110.04955283,  109.77005605,\n",
              "       -224.95461046,  403.60590263, -321.92901287, -143.01738748])"
            ]
          },
          "metadata": {},
          "execution_count": 30
        }
      ]
    },
    {
      "cell_type": "code",
      "source": [
        "plt.scatter(y_pred, y_test, color=\"black\")\n",
        "plt.plot(y_pred, y_pred, color=\"blue\", linewidth=3)"
      ],
      "metadata": {
        "colab": {
          "base_uri": "https://localhost:8080/",
          "height": 282
        },
        "id": "zK-TJpjEBJoi",
        "outputId": "dc8f2c33-ff76-4673-d5da-1645b1d27424"
      },
      "execution_count": 31,
      "outputs": [
        {
          "output_type": "execute_result",
          "data": {
            "text/plain": [
              "[<matplotlib.lines.Line2D at 0x7f8257a71f50>]"
            ]
          },
          "metadata": {},
          "execution_count": 31
        },
        {
          "output_type": "display_data",
          "data": {
            "text/plain": [
              "<Figure size 432x288 with 1 Axes>"
            ],
            "image/png": "[encoded data removed]"
          },
          "metadata": {
            "needs_background": "light"
          }
        }
      ]
    },
    {
      "cell_type": "markdown",
      "source": [
        "## Ridge Regression"
      ],
      "metadata": {
        "id": "sfpfXoumBQ5h"
      }
    },
    {
      "cell_type": "code",
      "source": [
        "X, y = make_regression(n_features=12, n_targets=1, noise=47)"
      ],
      "metadata": {
        "id": "5fs5GzFdBOFi"
      },
      "execution_count": 33,
      "outputs": []
    },
    {
      "cell_type": "code",
      "source": [
        "X_train, X_test, y_train, y_test = train_test_split(X, y, test_size=0.20, random_state=42)"
      ],
      "metadata": {
        "id": "qvxmQjzABVlN"
      },
      "execution_count": 34,
      "outputs": []
    },
    {
      "cell_type": "code",
      "source": [
        "lr = Ridge()\n",
        "lr.fit(X_train, y_train)\n",
        "print(lr.score(X_test,y_test))"
      ],
      "metadata": {
        "colab": {
          "base_uri": "https://localhost:8080/"
        },
        "id": "6lPBBQSiBcye",
        "outputId": "b8372cf0-ca54-4d9d-8256-bd02f04a07c7"
      },
      "execution_count": 35,
      "outputs": [
        {
          "output_type": "stream",
          "name": "stdout",
          "text": [
            "0.9706645460030636\n"
          ]
        }
      ]
    },
    {
      "cell_type": "code",
      "source": [
        "y_pred = lr.predict(X_test)"
      ],
      "metadata": {
        "id": "a-dUir5mBsh3"
      },
      "execution_count": 36,
      "outputs": []
    },
    {
      "cell_type": "code",
      "source": [
        "coef = lr.coef_\n",
        "intercept = lr.intercept_\n",
        "print('coef= ', coef)\n",
        "print('intercept= ', intercept)"
      ],
      "metadata": {
        "colab": {
          "base_uri": "https://localhost:8080/"
        },
        "id": "agPEtTm1BuSQ",
        "outputId": "8553471a-2d7f-43db-ee9d-fb896c3a841a"
      },
      "execution_count": 37,
      "outputs": [
        {
          "output_type": "stream",
          "name": "stdout",
          "text": [
            "coef=  [ 8.40454688 20.4755859  71.73541906 -8.63471667 80.85615715 81.91503429\n",
            " 65.21088678 94.25581712 73.82195679 83.98716468 29.72756638 68.06664416]\n",
            "intercept=  1.082908257125812\n"
          ]
        }
      ]
    },
    {
      "cell_type": "code",
      "source": [
        "mae = metrics.mean_absolute_error(y_test, y_pred)\n",
        "mse = metrics.mean_squared_error(y_test, y_pred)\n",
        "rmse = np.sqrt(mse) # or mse**(0.5)  \n",
        "r2 = metrics.r2_score(y_test,y_pred)\n",
        "\n",
        "print(\"MAE:\",mae)\n",
        "print(\"MSE:\", mse)\n",
        "print(\"RMSE:\", rmse)\n",
        "print(\"R-Squared:\", r2)"
      ],
      "metadata": {
        "colab": {
          "base_uri": "https://localhost:8080/"
        },
        "id": "N_qObNsfB2Zn",
        "outputId": "71f909eb-5dc0-4fdc-917a-1d2fb73a63d9"
      },
      "execution_count": 38,
      "outputs": [
        {
          "output_type": "stream",
          "name": "stdout",
          "text": [
            "MAE: 36.810183617428684\n",
            "MSE: 2137.031539817758\n",
            "RMSE: 46.22803845955134\n",
            "R-Squared: 0.9706645460030636\n"
          ]
        }
      ]
    },
    {
      "cell_type": "code",
      "source": [
        "y_pred"
      ],
      "metadata": {
        "colab": {
          "base_uri": "https://localhost:8080/"
        },
        "id": "mAYS7WVKB7kd",
        "outputId": "ef5841d3-a1a0-4d1c-b7c0-85aff68573f7"
      },
      "execution_count": 39,
      "outputs": [
        {
          "output_type": "execute_result",
          "data": {
            "text/plain": [
              "array([  55.96176322,  -22.55663961, -136.80162716, -214.42022426,\n",
              "        309.43558488,   62.0203778 ,   92.3680752 ,  -82.55331879,\n",
              "       -291.24179336, -314.96024179,  680.09813448, -120.75348684,\n",
              "        186.68974666,  323.21316236,   53.37030217, -175.56817627,\n",
              "        366.87440166, -111.12937565,  316.3732101 ,  513.54364068])"
            ]
          },
          "metadata": {},
          "execution_count": 39
        }
      ]
    },
    {
      "cell_type": "code",
      "source": [
        "plt.scatter(y_pred, y_test, color=\"black\")\n",
        "plt.plot(y_pred, y_pred, color=\"blue\", linewidth=3)"
      ],
      "metadata": {
        "colab": {
          "base_uri": "https://localhost:8080/",
          "height": 282
        },
        "id": "BTP-jV_7B_9p",
        "outputId": "dfbb01fb-3396-4d0d-81a1-48e8944f6050"
      },
      "execution_count": 40,
      "outputs": [
        {
          "output_type": "execute_result",
          "data": {
            "text/plain": [
              "[<matplotlib.lines.Line2D at 0x7f82579e9e10>]"
            ]
          },
          "metadata": {},
          "execution_count": 40
        },
        {
          "output_type": "display_data",
          "data": {
            "text/plain": [
              "<Figure size 432x288 with 1 Axes>"
            ],
            "image/png": "[encoded data removed]"
          },
          "metadata": {
            "needs_background": "light"
          }
        }
      ]
    }
  ]
}