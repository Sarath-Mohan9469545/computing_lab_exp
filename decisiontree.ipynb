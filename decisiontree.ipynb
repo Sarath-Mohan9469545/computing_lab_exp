{
  "nbformat": 4,
  "nbformat_minor": 0,
  "metadata": {
    "colab": {
      "name": "decisiontree.ipynb",
      "provenance": [],
      "authorship_tag": "ABX9TyOCdJqyQTXdNzqsDkk3PYZX",
      "include_colab_link": true
    },
    "kernelspec": {
      "name": "python3",
      "display_name": "Python 3"
    },
    "language_info": {
      "name": "python"
    }
  },
  "cells": [
    {
      "cell_type": "markdown",
      "metadata": {
        "id": "view-in-github",
        "colab_type": "text"
      },
      "source": [
        "<a href=\"https://colab.research.google.com/github/Sarath-Mohan9469545/computing_lab_exp/blob/main/decisiontree.ipynb\" target=\"_parent\"><img src=\"https://colab.research.google.com/assets/colab-badge.svg\" alt=\"Open In Colab\"/></a>"
      ]
    },
    {
      "cell_type": "code",
      "execution_count": null,
      "metadata": {
        "colab": {
          "base_uri": "https://localhost:8080/"
        },
        "id": "TpSLvY4EPAz3",
        "outputId": "9d138fff-c372-481c-9698-e0707e4bba29"
      },
      "outputs": [
        {
          "output_type": "stream",
          "name": "stdout",
          "text": [
            "       age          job  marital            education  default housing loan  \\\n",
            "0       56    housemaid  married             basic.4y       no      no   no   \n",
            "1       57     services  married          high.school  unknown      no   no   \n",
            "2       37     services  married          high.school       no     yes   no   \n",
            "3       40       admin.  married             basic.6y       no      no   no   \n",
            "4       56     services  married          high.school       no      no  yes   \n",
            "...    ...          ...      ...                  ...      ...     ...  ...   \n",
            "41183   73      retired  married  professional.course       no     yes   no   \n",
            "41184   46  blue-collar  married  professional.course       no      no   no   \n",
            "41185   56      retired  married    university.degree       no     yes   no   \n",
            "41186   44   technician  married  professional.course       no      no   no   \n",
            "41187   74      retired  married  professional.course       no     yes   no   \n",
            "\n",
            "         contact month day_of_week  campaign  pdays  previous     poutcome  \\\n",
            "0      telephone   may         mon         1    999         0  nonexistent   \n",
            "1      telephone   may         mon         1    999         0  nonexistent   \n",
            "2      telephone   may         mon         1    999         0  nonexistent   \n",
            "3      telephone   may         mon         1    999         0  nonexistent   \n",
            "4      telephone   may         mon         1    999         0  nonexistent   \n",
            "...          ...   ...         ...       ...    ...       ...          ...   \n",
            "41183   cellular   nov         fri         1    999         0  nonexistent   \n",
            "41184   cellular   nov         fri         1    999         0  nonexistent   \n",
            "41185   cellular   nov         fri         2    999         0  nonexistent   \n",
            "41186   cellular   nov         fri         1    999         0  nonexistent   \n",
            "41187   cellular   nov         fri         3    999         1      failure   \n",
            "\n",
            "       emp.var.rate  cons.price.idx  cons.conf.idx  euribor3m  nr.employed  \\\n",
            "0               1.1          93.994          -36.4      4.857       5191.0   \n",
            "1               1.1          93.994          -36.4      4.857       5191.0   \n",
            "2               1.1          93.994          -36.4      4.857       5191.0   \n",
            "3               1.1          93.994          -36.4      4.857       5191.0   \n",
            "4               1.1          93.994          -36.4      4.857       5191.0   \n",
            "...             ...             ...            ...        ...          ...   \n",
            "41183          -1.1          94.767          -50.8      1.028       4963.6   \n",
            "41184          -1.1          94.767          -50.8      1.028       4963.6   \n",
            "41185          -1.1          94.767          -50.8      1.028       4963.6   \n",
            "41186          -1.1          94.767          -50.8      1.028       4963.6   \n",
            "41187          -1.1          94.767          -50.8      1.028       4963.6   \n",
            "\n",
            "         y  \n",
            "0       no  \n",
            "1       no  \n",
            "2       no  \n",
            "3       no  \n",
            "4       no  \n",
            "...    ...  \n",
            "41183  yes  \n",
            "41184   no  \n",
            "41185   no  \n",
            "41186  yes  \n",
            "41187   no  \n",
            "\n",
            "[41188 rows x 20 columns]\n"
          ]
        }
      ],
      "source": [
        "import pandas as pd\n",
        "file=pd.read_csv(\"/content/bank-direct-marketing-campaigns.csv\")\n",
        "print(file)\n"
      ]
    },
    {
      "cell_type": "code",
      "source": [
        "x=file[[\"job\",\"marital\",\"education\",\"default\",\"housing\",\"loan\",\"poutcome\"]]"
      ],
      "metadata": {
        "id": "ll_8RyjAYQH6"
      },
      "execution_count": null,
      "outputs": []
    },
    {
      "cell_type": "code",
      "source": [
        "y=file[\"y\"]"
      ],
      "metadata": {
        "id": "gTcmhNtvYUfL"
      },
      "execution_count": null,
      "outputs": []
    },
    {
      "cell_type": "code",
      "source": [
        "from sklearn.preprocessing import LabelEncoder\n",
        "le = LabelEncoder()\n",
        "new=[\"job\",\"marital\",\"education\",\"default\",\"housing\",\"loan\",\"poutcome\"]\n",
        "file[new]=file[new].apply(LabelEncoder().fit_transform)\n",
        "x=file[[\"job\",\"marital\",\"education\",\"default\",\"housing\",\"loan\",\"poutcome\"]]\n",
        "y=file[\"y\"]"
      ],
      "metadata": {
        "id": "1kwxr_HqbBH7"
      },
      "execution_count": null,
      "outputs": []
    },
    {
      "cell_type": "code",
      "source": [
        "print(x)\n",
        "from sklearn.model_selection import train_test_split as tts\n",
        "xtrain,xtest,ytrain,ytest=tts(x,y,train_size=0.8)"
      ],
      "metadata": {
        "colab": {
          "base_uri": "https://localhost:8080/"
        },
        "id": "PvdYgafUbQl6",
        "outputId": "f327c46e-c625-4c6f-a4a7-3e34a664143c"
      },
      "execution_count": null,
      "outputs": [
        {
          "output_type": "stream",
          "name": "stdout",
          "text": [
            "       job  marital  education  default  housing  loan  poutcome\n",
            "0        3        1          0        0        0     0         1\n",
            "1        7        1          3        1        0     0         1\n",
            "2        7        1          3        0        2     0         1\n",
            "3        0        1          1        0        0     0         1\n",
            "4        7        1          3        0        0     2         1\n",
            "...    ...      ...        ...      ...      ...   ...       ...\n",
            "41183    5        1          5        0        2     0         1\n",
            "41184    1        1          5        0        0     0         1\n",
            "41185    5        1          6        0        2     0         1\n",
            "41186    9        1          5        0        0     0         1\n",
            "41187    5        1          5        0        2     0         0\n",
            "\n",
            "[41188 rows x 7 columns]\n"
          ]
        }
      ]
    },
    {
      "cell_type": "code",
      "source": [
        "from sklearn.tree import DecisionTreeClassifier as dt\n",
        "ml=dt(max_depth=3,criterion=\"entropy\")\n",
        "ml=ml.fit(xtrain,ytrain)\n"
      ],
      "metadata": {
        "id": "RMqbg7dnTbGJ"
      },
      "execution_count": null,
      "outputs": []
    },
    {
      "cell_type": "code",
      "source": [
        "res=ml.predict(xtest)"
      ],
      "metadata": {
        "id": "gjc8yquadTGc"
      },
      "execution_count": null,
      "outputs": []
    },
    {
      "cell_type": "code",
      "source": [
        "from sklearn.metrics import accuracy_score as acs\n",
        "acc=acs(ytest,res)\n",
        "print(acc*100)"
      ],
      "metadata": {
        "colab": {
          "base_uri": "https://localhost:8080/"
        },
        "id": "XStkuedmdZPo",
        "outputId": "39853053-b8d9-446a-f407-cab59dd5208f"
      },
      "execution_count": null,
      "outputs": [
        {
          "output_type": "stream",
          "name": "stdout",
          "text": [
            "89.77907259043457\n"
          ]
        }
      ]
    },
    {
      "cell_type": "code",
      "source": [
        "import matplotlib.pyplot as plt\n",
        "from sklearn import tree\n",
        "import pydotplus\n",
        "import graphviz\n",
        "graph=tree.export_graphviz(ml)\n",
        "graph=graphviz.Source(graph)\n",
        "graph"
      ],
      "metadata": {
        "colab": {
          "base_uri": "https://localhost:8080/",
          "height": 539
        },
        "id": "bb_4lCrrgEpS",
        "outputId": "276700e0-97b9-4493-dce1-aeaaa20da8d4"
      },
      "execution_count": null,
      "outputs": [
        {
          "output_type": "execute_result",
          "data": {
            "text/plain": [
              "<graphviz.files.Source at 0x7f43167cc810>"
            ],
            "image/svg+xml": "<?xml version=\"1.0\" encoding=\"UTF-8\" standalone=\"no\"?>\n<!DOCTYPE svg PUBLIC \"-//W3C//DTD SVG 1.1//EN\"\n \"http://www.w3.org/Graphics/SVG/1.1/DTD/svg11.dtd\">\n<!-- Generated by graphviz version 2.40.1 (20161225.0304)\n -->\n<!-- Title: Tree Pages: 1 -->\n<svg width=\"1190pt\" height=\"373pt\"\n viewBox=\"0.00 0.00 1190.00 373.00\" xmlns=\"http://www.w3.org/2000/svg\" xmlns:xlink=\"http://www.w3.org/1999/xlink\">\n<g id=\"graph0\" class=\"graph\" transform=\"scale(1 1) rotate(0) translate(4 369)\">\n<title>Tree</title>\n<polygon fill=\"#ffffff\" stroke=\"transparent\" points=\"-4,4 -4,-369 1186,-369 1186,4 -4,4\"/>\n<!-- 0 -->\n<g id=\"node1\" class=\"node\">\n<title>0</title>\n<polygon fill=\"none\" stroke=\"#000000\" points=\"704.5,-365 547.5,-365 547.5,-297 704.5,-297 704.5,-365\"/>\n<text text-anchor=\"middle\" x=\"626\" y=\"-349.8\" font-family=\"Helvetica,sans-Serif\" font-size=\"14.00\" fill=\"#000000\">X[6] &lt;= 1.5</text>\n<text text-anchor=\"middle\" x=\"626\" y=\"-334.8\" font-family=\"Helvetica,sans-Serif\" font-size=\"14.00\" fill=\"#000000\">entropy = 0.508</text>\n<text text-anchor=\"middle\" x=\"626\" y=\"-319.8\" font-family=\"Helvetica,sans-Serif\" font-size=\"14.00\" fill=\"#000000\">samples = 32950</text>\n<text text-anchor=\"middle\" x=\"626\" y=\"-304.8\" font-family=\"Helvetica,sans-Serif\" font-size=\"14.00\" fill=\"#000000\">value = [29240, 3710]</text>\n</g>\n<!-- 1 -->\n<g id=\"node2\" class=\"node\">\n<title>1</title>\n<polygon fill=\"none\" stroke=\"#000000\" points=\"552.5,-261 395.5,-261 395.5,-193 552.5,-193 552.5,-261\"/>\n<text text-anchor=\"middle\" x=\"474\" y=\"-245.8\" font-family=\"Helvetica,sans-Serif\" font-size=\"14.00\" fill=\"#000000\">X[3] &lt;= 0.5</text>\n<text text-anchor=\"middle\" x=\"474\" y=\"-230.8\" font-family=\"Helvetica,sans-Serif\" font-size=\"14.00\" fill=\"#000000\">entropy = 0.45</text>\n<text text-anchor=\"middle\" x=\"474\" y=\"-215.8\" font-family=\"Helvetica,sans-Serif\" font-size=\"14.00\" fill=\"#000000\">samples = 31862</text>\n<text text-anchor=\"middle\" x=\"474\" y=\"-200.8\" font-family=\"Helvetica,sans-Serif\" font-size=\"14.00\" fill=\"#000000\">value = [28862, 3000]</text>\n</g>\n<!-- 0&#45;&gt;1 -->\n<g id=\"edge1\" class=\"edge\">\n<title>0&#45;&gt;1</title>\n<path fill=\"none\" stroke=\"#000000\" d=\"M576.2295,-296.9465C562.1885,-287.3395 546.786,-276.8009 532.2932,-266.8848\"/>\n<polygon fill=\"#000000\" stroke=\"#000000\" points=\"534.1118,-263.8883 523.8823,-261.13 530.159,-269.6655 534.1118,-263.8883\"/>\n<text text-anchor=\"middle\" x=\"528.4895\" y=\"-282.0018\" font-family=\"Helvetica,sans-Serif\" font-size=\"14.00\" fill=\"#000000\">True</text>\n</g>\n<!-- 8 -->\n<g id=\"node9\" class=\"node\">\n<title>8</title>\n<polygon fill=\"none\" stroke=\"#000000\" points=\"842,-261 710,-261 710,-193 842,-193 842,-261\"/>\n<text text-anchor=\"middle\" x=\"776\" y=\"-245.8\" font-family=\"Helvetica,sans-Serif\" font-size=\"14.00\" fill=\"#000000\">X[3] &lt;= 0.5</text>\n<text text-anchor=\"middle\" x=\"776\" y=\"-230.8\" font-family=\"Helvetica,sans-Serif\" font-size=\"14.00\" fill=\"#000000\">entropy = 0.932</text>\n<text text-anchor=\"middle\" x=\"776\" y=\"-215.8\" font-family=\"Helvetica,sans-Serif\" font-size=\"14.00\" fill=\"#000000\">samples = 1088</text>\n<text text-anchor=\"middle\" x=\"776\" y=\"-200.8\" font-family=\"Helvetica,sans-Serif\" font-size=\"14.00\" fill=\"#000000\">value = [378, 710]</text>\n</g>\n<!-- 0&#45;&gt;8 -->\n<g id=\"edge8\" class=\"edge\">\n<title>0&#45;&gt;8</title>\n<path fill=\"none\" stroke=\"#000000\" d=\"M675.1156,-296.9465C688.9719,-287.3395 704.1717,-276.8009 718.4739,-266.8848\"/>\n<polygon fill=\"#000000\" stroke=\"#000000\" points=\"720.5503,-269.7041 726.774,-261.13 716.5618,-263.9515 720.5503,-269.7041\"/>\n<text text-anchor=\"middle\" x=\"722.319\" y=\"-282.0298\" font-family=\"Helvetica,sans-Serif\" font-size=\"14.00\" fill=\"#000000\">False</text>\n</g>\n<!-- 2 -->\n<g id=\"node3\" class=\"node\">\n<title>2</title>\n<polygon fill=\"none\" stroke=\"#000000\" points=\"315.5,-157 158.5,-157 158.5,-89 315.5,-89 315.5,-157\"/>\n<text text-anchor=\"middle\" x=\"237\" y=\"-141.8\" font-family=\"Helvetica,sans-Serif\" font-size=\"14.00\" fill=\"#000000\">X[6] &lt;= 0.5</text>\n<text text-anchor=\"middle\" x=\"237\" y=\"-126.8\" font-family=\"Helvetica,sans-Serif\" font-size=\"14.00\" fill=\"#000000\">entropy = 0.488</text>\n<text text-anchor=\"middle\" x=\"237\" y=\"-111.8\" font-family=\"Helvetica,sans-Serif\" font-size=\"14.00\" fill=\"#000000\">samples = 25026</text>\n<text text-anchor=\"middle\" x=\"237\" y=\"-96.8\" font-family=\"Helvetica,sans-Serif\" font-size=\"14.00\" fill=\"#000000\">value = [22367, 2659]</text>\n</g>\n<!-- 1&#45;&gt;2 -->\n<g id=\"edge2\" class=\"edge\">\n<title>1&#45;&gt;2</title>\n<path fill=\"none\" stroke=\"#000000\" d=\"M396.3973,-192.9465C373.2767,-182.8008 347.7886,-171.6161 324.1039,-161.2228\"/>\n<polygon fill=\"#000000\" stroke=\"#000000\" points=\"325.3406,-157.9434 314.777,-157.13 322.5277,-164.3534 325.3406,-157.9434\"/>\n</g>\n<!-- 5 -->\n<g id=\"node6\" class=\"node\">\n<title>5</title>\n<polygon fill=\"none\" stroke=\"#000000\" points=\"544,-157 404,-157 404,-89 544,-89 544,-157\"/>\n<text text-anchor=\"middle\" x=\"474\" y=\"-141.8\" font-family=\"Helvetica,sans-Serif\" font-size=\"14.00\" fill=\"#000000\">X[1] &lt;= 1.5</text>\n<text text-anchor=\"middle\" x=\"474\" y=\"-126.8\" font-family=\"Helvetica,sans-Serif\" font-size=\"14.00\" fill=\"#000000\">entropy = 0.286</text>\n<text text-anchor=\"middle\" x=\"474\" y=\"-111.8\" font-family=\"Helvetica,sans-Serif\" font-size=\"14.00\" fill=\"#000000\">samples = 6836</text>\n<text text-anchor=\"middle\" x=\"474\" y=\"-96.8\" font-family=\"Helvetica,sans-Serif\" font-size=\"14.00\" fill=\"#000000\">value = [6495, 341]</text>\n</g>\n<!-- 1&#45;&gt;5 -->\n<g id=\"edge5\" class=\"edge\">\n<title>1&#45;&gt;5</title>\n<path fill=\"none\" stroke=\"#000000\" d=\"M474,-192.9465C474,-184.776 474,-175.9318 474,-167.3697\"/>\n<polygon fill=\"#000000\" stroke=\"#000000\" points=\"477.5001,-167.13 474,-157.13 470.5001,-167.13 477.5001,-167.13\"/>\n</g>\n<!-- 3 -->\n<g id=\"node4\" class=\"node\">\n<title>3</title>\n<polygon fill=\"none\" stroke=\"#000000\" points=\"140,-53 0,-53 0,0 140,0 140,-53\"/>\n<text text-anchor=\"middle\" x=\"70\" y=\"-37.8\" font-family=\"Helvetica,sans-Serif\" font-size=\"14.00\" fill=\"#000000\">entropy = 0.62</text>\n<text text-anchor=\"middle\" x=\"70\" y=\"-22.8\" font-family=\"Helvetica,sans-Serif\" font-size=\"14.00\" fill=\"#000000\">samples = 2958</text>\n<text text-anchor=\"middle\" x=\"70\" y=\"-7.8\" font-family=\"Helvetica,sans-Serif\" font-size=\"14.00\" fill=\"#000000\">value = [2502, 456]</text>\n</g>\n<!-- 2&#45;&gt;3 -->\n<g id=\"edge3\" class=\"edge\">\n<title>2&#45;&gt;3</title>\n<path fill=\"none\" stroke=\"#000000\" d=\"M178.122,-88.9777C160.7691,-78.9504 141.858,-68.0228 124.774,-58.1508\"/>\n<polygon fill=\"#000000\" stroke=\"#000000\" points=\"126.4341,-55.0678 116.0246,-53.095 122.9318,-61.1287 126.4341,-55.0678\"/>\n</g>\n<!-- 4 -->\n<g id=\"node5\" class=\"node\">\n<title>4</title>\n<polygon fill=\"none\" stroke=\"#000000\" points=\"315.5,-53 158.5,-53 158.5,0 315.5,0 315.5,-53\"/>\n<text text-anchor=\"middle\" x=\"237\" y=\"-37.8\" font-family=\"Helvetica,sans-Serif\" font-size=\"14.00\" fill=\"#000000\">entropy = 0.468</text>\n<text text-anchor=\"middle\" x=\"237\" y=\"-22.8\" font-family=\"Helvetica,sans-Serif\" font-size=\"14.00\" fill=\"#000000\">samples = 22068</text>\n<text text-anchor=\"middle\" x=\"237\" y=\"-7.8\" font-family=\"Helvetica,sans-Serif\" font-size=\"14.00\" fill=\"#000000\">value = [19865, 2203]</text>\n</g>\n<!-- 2&#45;&gt;4 -->\n<g id=\"edge4\" class=\"edge\">\n<title>2&#45;&gt;4</title>\n<path fill=\"none\" stroke=\"#000000\" d=\"M237,-88.9777C237,-80.7364 237,-71.887 237,-63.5153\"/>\n<polygon fill=\"#000000\" stroke=\"#000000\" points=\"240.5001,-63.2484 237,-53.2485 233.5001,-63.2485 240.5001,-63.2484\"/>\n</g>\n<!-- 6 -->\n<g id=\"node7\" class=\"node\">\n<title>6</title>\n<polygon fill=\"none\" stroke=\"#000000\" points=\"474,-53 334,-53 334,0 474,0 474,-53\"/>\n<text text-anchor=\"middle\" x=\"404\" y=\"-37.8\" font-family=\"Helvetica,sans-Serif\" font-size=\"14.00\" fill=\"#000000\">entropy = 0.275</text>\n<text text-anchor=\"middle\" x=\"404\" y=\"-22.8\" font-family=\"Helvetica,sans-Serif\" font-size=\"14.00\" fill=\"#000000\">samples = 5648</text>\n<text text-anchor=\"middle\" x=\"404\" y=\"-7.8\" font-family=\"Helvetica,sans-Serif\" font-size=\"14.00\" fill=\"#000000\">value = [5381, 267]</text>\n</g>\n<!-- 5&#45;&gt;6 -->\n<g id=\"edge6\" class=\"edge\">\n<title>5&#45;&gt;6</title>\n<path fill=\"none\" stroke=\"#000000\" d=\"M449.3206,-88.9777C442.8775,-80.0954 435.922,-70.5067 429.4402,-61.5711\"/>\n<polygon fill=\"#000000\" stroke=\"#000000\" points=\"432.1079,-59.288 423.403,-53.2485 426.4417,-63.3982 432.1079,-59.288\"/>\n</g>\n<!-- 7 -->\n<g id=\"node8\" class=\"node\">\n<title>7</title>\n<polygon fill=\"none\" stroke=\"#000000\" points=\"624,-53 492,-53 492,0 624,0 624,-53\"/>\n<text text-anchor=\"middle\" x=\"558\" y=\"-37.8\" font-family=\"Helvetica,sans-Serif\" font-size=\"14.00\" fill=\"#000000\">entropy = 0.336</text>\n<text text-anchor=\"middle\" x=\"558\" y=\"-22.8\" font-family=\"Helvetica,sans-Serif\" font-size=\"14.00\" fill=\"#000000\">samples = 1188</text>\n<text text-anchor=\"middle\" x=\"558\" y=\"-7.8\" font-family=\"Helvetica,sans-Serif\" font-size=\"14.00\" fill=\"#000000\">value = [1114, 74]</text>\n</g>\n<!-- 5&#45;&gt;7 -->\n<g id=\"edge7\" class=\"edge\">\n<title>5&#45;&gt;7</title>\n<path fill=\"none\" stroke=\"#000000\" d=\"M503.6153,-88.9777C511.5064,-79.9123 520.0381,-70.111 527.9522,-61.0192\"/>\n<polygon fill=\"#000000\" stroke=\"#000000\" points=\"530.7906,-63.0892 534.7164,-53.2485 525.5107,-58.4932 530.7906,-63.0892\"/>\n</g>\n<!-- 9 -->\n<g id=\"node10\" class=\"node\">\n<title>9</title>\n<polygon fill=\"none\" stroke=\"#000000\" points=\"842,-157 710,-157 710,-89 842,-89 842,-157\"/>\n<text text-anchor=\"middle\" x=\"776\" y=\"-141.8\" font-family=\"Helvetica,sans-Serif\" font-size=\"14.00\" fill=\"#000000\">X[0] &lt;= 10.5</text>\n<text text-anchor=\"middle\" x=\"776\" y=\"-126.8\" font-family=\"Helvetica,sans-Serif\" font-size=\"14.00\" fill=\"#000000\">entropy = 0.924</text>\n<text text-anchor=\"middle\" x=\"776\" y=\"-111.8\" font-family=\"Helvetica,sans-Serif\" font-size=\"14.00\" fill=\"#000000\">samples = 1038</text>\n<text text-anchor=\"middle\" x=\"776\" y=\"-96.8\" font-family=\"Helvetica,sans-Serif\" font-size=\"14.00\" fill=\"#000000\">value = [352, 686]</text>\n</g>\n<!-- 8&#45;&gt;9 -->\n<g id=\"edge9\" class=\"edge\">\n<title>8&#45;&gt;9</title>\n<path fill=\"none\" stroke=\"#000000\" d=\"M776,-192.9465C776,-184.776 776,-175.9318 776,-167.3697\"/>\n<polygon fill=\"#000000\" stroke=\"#000000\" points=\"779.5001,-167.13 776,-157.13 772.5001,-167.13 779.5001,-167.13\"/>\n</g>\n<!-- 12 -->\n<g id=\"node13\" class=\"node\">\n<title>12</title>\n<polygon fill=\"none\" stroke=\"#000000\" points=\"1046,-157 928,-157 928,-89 1046,-89 1046,-157\"/>\n<text text-anchor=\"middle\" x=\"987\" y=\"-141.8\" font-family=\"Helvetica,sans-Serif\" font-size=\"14.00\" fill=\"#000000\">X[2] &lt;= 0.5</text>\n<text text-anchor=\"middle\" x=\"987\" y=\"-126.8\" font-family=\"Helvetica,sans-Serif\" font-size=\"14.00\" fill=\"#000000\">entropy = 0.999</text>\n<text text-anchor=\"middle\" x=\"987\" y=\"-111.8\" font-family=\"Helvetica,sans-Serif\" font-size=\"14.00\" fill=\"#000000\">samples = 50</text>\n<text text-anchor=\"middle\" x=\"987\" y=\"-96.8\" font-family=\"Helvetica,sans-Serif\" font-size=\"14.00\" fill=\"#000000\">value = [26, 24]</text>\n</g>\n<!-- 8&#45;&gt;12 -->\n<g id=\"edge12\" class=\"edge\">\n<title>8&#45;&gt;12</title>\n<path fill=\"none\" stroke=\"#000000\" d=\"M842.1828,-194.3791C866.5098,-182.3886 894.0914,-168.7938 918.6088,-156.7094\"/>\n<polygon fill=\"#000000\" stroke=\"#000000\" points=\"920.4199,-159.7189 927.8421,-152.1584 917.3251,-153.4401 920.4199,-159.7189\"/>\n</g>\n<!-- 10 -->\n<g id=\"node11\" class=\"node\">\n<title>10</title>\n<polygon fill=\"none\" stroke=\"#000000\" points=\"774,-53 642,-53 642,0 774,0 774,-53\"/>\n<text text-anchor=\"middle\" x=\"708\" y=\"-37.8\" font-family=\"Helvetica,sans-Serif\" font-size=\"14.00\" fill=\"#000000\">entropy = 0.92</text>\n<text text-anchor=\"middle\" x=\"708\" y=\"-22.8\" font-family=\"Helvetica,sans-Serif\" font-size=\"14.00\" fill=\"#000000\">samples = 1026</text>\n<text text-anchor=\"middle\" x=\"708\" y=\"-7.8\" font-family=\"Helvetica,sans-Serif\" font-size=\"14.00\" fill=\"#000000\">value = [344, 682]</text>\n</g>\n<!-- 9&#45;&gt;10 -->\n<g id=\"edge10\" class=\"edge\">\n<title>9&#45;&gt;10</title>\n<path fill=\"none\" stroke=\"#000000\" d=\"M752.0257,-88.9777C745.7667,-80.0954 739.0099,-70.5067 732.7133,-61.5711\"/>\n<polygon fill=\"#000000\" stroke=\"#000000\" points=\"735.4699,-59.4068 726.8487,-53.2485 729.7479,-63.4389 735.4699,-59.4068\"/>\n</g>\n<!-- 11 -->\n<g id=\"node12\" class=\"node\">\n<title>11</title>\n<polygon fill=\"none\" stroke=\"#000000\" points=\"910,-53 792,-53 792,0 910,0 910,-53\"/>\n<text text-anchor=\"middle\" x=\"851\" y=\"-37.8\" font-family=\"Helvetica,sans-Serif\" font-size=\"14.00\" fill=\"#000000\">entropy = 0.918</text>\n<text text-anchor=\"middle\" x=\"851\" y=\"-22.8\" font-family=\"Helvetica,sans-Serif\" font-size=\"14.00\" fill=\"#000000\">samples = 12</text>\n<text text-anchor=\"middle\" x=\"851\" y=\"-7.8\" font-family=\"Helvetica,sans-Serif\" font-size=\"14.00\" fill=\"#000000\">value = [8, 4]</text>\n</g>\n<!-- 9&#45;&gt;11 -->\n<g id=\"edge11\" class=\"edge\">\n<title>9&#45;&gt;11</title>\n<path fill=\"none\" stroke=\"#000000\" d=\"M802.4422,-88.9777C809.4167,-80.0039 816.9516,-70.3089 823.9573,-61.295\"/>\n<polygon fill=\"#000000\" stroke=\"#000000\" points=\"826.8379,-63.292 830.211,-53.2485 821.3109,-58.9964 826.8379,-63.292\"/>\n</g>\n<!-- 13 -->\n<g id=\"node14\" class=\"node\">\n<title>13</title>\n<polygon fill=\"none\" stroke=\"#000000\" points=\"1046,-53 928,-53 928,0 1046,0 1046,-53\"/>\n<text text-anchor=\"middle\" x=\"987\" y=\"-37.8\" font-family=\"Helvetica,sans-Serif\" font-size=\"14.00\" fill=\"#000000\">entropy = 0.764</text>\n<text text-anchor=\"middle\" x=\"987\" y=\"-22.8\" font-family=\"Helvetica,sans-Serif\" font-size=\"14.00\" fill=\"#000000\">samples = 9</text>\n<text text-anchor=\"middle\" x=\"987\" y=\"-7.8\" font-family=\"Helvetica,sans-Serif\" font-size=\"14.00\" fill=\"#000000\">value = [2, 7]</text>\n</g>\n<!-- 12&#45;&gt;13 -->\n<g id=\"edge13\" class=\"edge\">\n<title>12&#45;&gt;13</title>\n<path fill=\"none\" stroke=\"#000000\" d=\"M987,-88.9777C987,-80.7364 987,-71.887 987,-63.5153\"/>\n<polygon fill=\"#000000\" stroke=\"#000000\" points=\"990.5001,-63.2484 987,-53.2485 983.5001,-63.2485 990.5001,-63.2484\"/>\n</g>\n<!-- 14 -->\n<g id=\"node15\" class=\"node\">\n<title>14</title>\n<polygon fill=\"none\" stroke=\"#000000\" points=\"1182,-53 1064,-53 1064,0 1182,0 1182,-53\"/>\n<text text-anchor=\"middle\" x=\"1123\" y=\"-37.8\" font-family=\"Helvetica,sans-Serif\" font-size=\"14.00\" fill=\"#000000\">entropy = 0.979</text>\n<text text-anchor=\"middle\" x=\"1123\" y=\"-22.8\" font-family=\"Helvetica,sans-Serif\" font-size=\"14.00\" fill=\"#000000\">samples = 41</text>\n<text text-anchor=\"middle\" x=\"1123\" y=\"-7.8\" font-family=\"Helvetica,sans-Serif\" font-size=\"14.00\" fill=\"#000000\">value = [24, 17]</text>\n</g>\n<!-- 12&#45;&gt;14 -->\n<g id=\"edge14\" class=\"edge\">\n<title>12&#45;&gt;14</title>\n<path fill=\"none\" stroke=\"#000000\" d=\"M1034.9485,-88.9777C1048.628,-79.2713 1063.4964,-68.7213 1077.0534,-59.1018\"/>\n<polygon fill=\"#000000\" stroke=\"#000000\" points=\"1079.1725,-61.8898 1085.3027,-53.2485 1075.1217,-56.1809 1079.1725,-61.8898\"/>\n</g>\n</g>\n</svg>\n"
          },
          "metadata": {},
          "execution_count": 17
        }
      ]
    },
    {
      "cell_type": "code",
      "source": [
        ""
      ],
      "metadata": {
        "id": "oVUZJSdGhB3u"
      },
      "execution_count": null,
      "outputs": []
    }
  ]
}